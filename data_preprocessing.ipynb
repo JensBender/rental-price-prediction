{
 "cells": [
  {
   "cell_type": "code",
   "execution_count": 1,
   "id": "f29a2fb8",
   "metadata": {},
   "outputs": [],
   "source": [
    "import numpy as np\n",
    "import pandas as pd\n",
    "import re"
   ]
  },
  {
   "cell_type": "markdown",
   "id": "96a74019",
   "metadata": {},
   "source": [
    "# Read data"
   ]
  },
  {
   "cell_type": "code",
   "execution_count": 2,
   "id": "fbd9a7fa",
   "metadata": {},
   "outputs": [],
   "source": [
    "# Read data from csv\n",
    "df = pd.read_csv(\"data/rental_prices_singapore.csv\")"
   ]
  },
  {
   "cell_type": "code",
   "execution_count": 3,
   "id": "608ebde1",
   "metadata": {},
   "outputs": [
    {
     "name": "stdout",
     "output_type": "stream",
     "text": [
      "<class 'pandas.core.frame.DataFrame'>\n",
      "RangeIndex: 5360 entries, 0 to 5359\n",
      "Data columns (total 9 columns):\n",
      " #   Column                         Non-Null Count  Dtype  \n",
      "---  ------                         --------------  -----  \n",
      " 0   name                           5360 non-null   object \n",
      " 1   address                        5011 non-null   object \n",
      " 2   price                          5360 non-null   object \n",
      " 3   size                           5360 non-null   object \n",
      " 4   bedrooms                       5360 non-null   object \n",
      " 5   bathrooms                      4941 non-null   float64\n",
      " 6   property_type_furnishing_year  5360 non-null   object \n",
      " 7   mrt_distance                   4641 non-null   object \n",
      " 8   agent_description              5360 non-null   object \n",
      "dtypes: float64(1), object(8)\n",
      "memory usage: 377.0+ KB\n"
     ]
    }
   ],
   "source": [
    "# Show dataframe info\n",
    "df.info()"
   ]
  },
  {
   "cell_type": "code",
   "execution_count": 4,
   "id": "43f905cc",
   "metadata": {},
   "outputs": [
    {
     "data": {
      "text/html": [
       "<div>\n",
       "<style scoped>\n",
       "    .dataframe tbody tr th:only-of-type {\n",
       "        vertical-align: middle;\n",
       "    }\n",
       "\n",
       "    .dataframe tbody tr th {\n",
       "        vertical-align: top;\n",
       "    }\n",
       "\n",
       "    .dataframe thead th {\n",
       "        text-align: right;\n",
       "    }\n",
       "</style>\n",
       "<table border=\"1\" class=\"dataframe\">\n",
       "  <thead>\n",
       "    <tr style=\"text-align: right;\">\n",
       "      <th></th>\n",
       "      <th>name</th>\n",
       "      <th>address</th>\n",
       "      <th>price</th>\n",
       "      <th>size</th>\n",
       "      <th>bedrooms</th>\n",
       "      <th>bathrooms</th>\n",
       "      <th>property_type_furnishing_year</th>\n",
       "      <th>mrt_distance</th>\n",
       "      <th>agent_description</th>\n",
       "    </tr>\n",
       "  </thead>\n",
       "  <tbody>\n",
       "    <tr>\n",
       "      <th>0</th>\n",
       "      <td>Brand new Attic Studio, in a Peranakan Conserv...</td>\n",
       "      <td>Lorong 34 Geylang</td>\n",
       "      <td>3,000</td>\n",
       "      <td>400 sqft</td>\n",
       "      <td>1</td>\n",
       "      <td>1.0</td>\n",
       "      <td>\\nApartment\\nFully Furnished\\n</td>\n",
       "      <td>NaN</td>\n",
       "      <td>One and only attic studio! Beautifully done up...</td>\n",
       "    </tr>\n",
       "    <tr>\n",
       "      <th>1</th>\n",
       "      <td>Astor</td>\n",
       "      <td>51C Lengkong Empat</td>\n",
       "      <td>2,000</td>\n",
       "      <td>1130 sqft</td>\n",
       "      <td>Room</td>\n",
       "      <td>NaN</td>\n",
       "      <td>\\nApartment\\nFully Furnished\\n</td>\n",
       "      <td>11 mins (810 m) to DT28 Kaki Bukit MRT</td>\n",
       "      <td>Comes with In House Maid</td>\n",
       "    </tr>\n",
       "    <tr>\n",
       "      <th>2</th>\n",
       "      <td>Springhill Terrace</td>\n",
       "      <td>Sunrise avenue</td>\n",
       "      <td>7,400</td>\n",
       "      <td>3800 sqft</td>\n",
       "      <td>5</td>\n",
       "      <td>4.0</td>\n",
       "      <td>\\nApartment\\nFully Furnished\\n</td>\n",
       "      <td>NaN</td>\n",
       "      <td>Close to MRT and short drive to French, Austra...</td>\n",
       "    </tr>\n",
       "    <tr>\n",
       "      <th>3</th>\n",
       "      <td>704 Yishun Avenue 5</td>\n",
       "      <td>704 Yishun Avenue 5</td>\n",
       "      <td>1,000</td>\n",
       "      <td>120 sqft</td>\n",
       "      <td>Room</td>\n",
       "      <td>NaN</td>\n",
       "      <td>\\nApartment\\nFully Furnished\\n</td>\n",
       "      <td>9 mins (700 m) to NS13 Yishun MRT</td>\n",
       "      <td>Room for 1 or 2 single ladies</td>\n",
       "    </tr>\n",
       "    <tr>\n",
       "      <th>4</th>\n",
       "      <td>Espada</td>\n",
       "      <td>48 Saint Thomas Walk</td>\n",
       "      <td>4,300</td>\n",
       "      <td>689 sqft</td>\n",
       "      <td>1</td>\n",
       "      <td>1.0</td>\n",
       "      <td>\\nApartment\\nFully Furnished\\n</td>\n",
       "      <td>6 mins (420 m) to NS23 Somerset MRT</td>\n",
       "      <td>All units virtual online viewing available! An...</td>\n",
       "    </tr>\n",
       "    <tr>\n",
       "      <th>...</th>\n",
       "      <td>...</td>\n",
       "      <td>...</td>\n",
       "      <td>...</td>\n",
       "      <td>...</td>\n",
       "      <td>...</td>\n",
       "      <td>...</td>\n",
       "      <td>...</td>\n",
       "      <td>...</td>\n",
       "      <td>...</td>\n",
       "    </tr>\n",
       "    <tr>\n",
       "      <th>5355</th>\n",
       "      <td>Avenue South Residence</td>\n",
       "      <td>13 Silat Avenue</td>\n",
       "      <td>7,500</td>\n",
       "      <td>947 sqft</td>\n",
       "      <td>3</td>\n",
       "      <td>2.0</td>\n",
       "      <td>\\nBungalow House\\nPartially Furnished\\n</td>\n",
       "      <td>NaN</td>\n",
       "      <td>Newly TOP! Be the first to stay near town!</td>\n",
       "    </tr>\n",
       "    <tr>\n",
       "      <th>5356</th>\n",
       "      <td>453B Fernvale Road</td>\n",
       "      <td>453B Fernvale Road</td>\n",
       "      <td>999</td>\n",
       "      <td>150 sqft</td>\n",
       "      <td>Room</td>\n",
       "      <td>NaN</td>\n",
       "      <td>\\nBungalow House\\nPartially Furnished\\n</td>\n",
       "      <td>4 mins (290 m) to SW5 Fernvale LRT</td>\n",
       "      <td>Close to fernvale LRT</td>\n",
       "    </tr>\n",
       "    <tr>\n",
       "      <th>5357</th>\n",
       "      <td>Riviere</td>\n",
       "      <td>1 Jiak Kim Street</td>\n",
       "      <td>8,000</td>\n",
       "      <td>840 sqft</td>\n",
       "      <td>2</td>\n",
       "      <td>2.0</td>\n",
       "      <td>\\nBungalow House\\nPartially Furnished\\n</td>\n",
       "      <td>5 mins (370 m) to TE16 Havelock MRT</td>\n",
       "      <td>Brand new pool facing unit!</td>\n",
       "    </tr>\n",
       "    <tr>\n",
       "      <th>5358</th>\n",
       "      <td>Bukit Villas</td>\n",
       "      <td>1 Rasok Drive</td>\n",
       "      <td>7,100</td>\n",
       "      <td>3025 sqft (floor), 2256 sqft (land)</td>\n",
       "      <td>5</td>\n",
       "      <td>4.0</td>\n",
       "      <td>\\nBungalow House\\nPartially Furnished\\n</td>\n",
       "      <td>NaN</td>\n",
       "      <td>Tranquil surroundings, facilities included! Po...</td>\n",
       "    </tr>\n",
       "    <tr>\n",
       "      <th>5359</th>\n",
       "      <td>442A Bukit Batok West Avenue 8</td>\n",
       "      <td>442A Bukit Batok West Avenue 8</td>\n",
       "      <td>4,600</td>\n",
       "      <td>1205 sqft</td>\n",
       "      <td>3</td>\n",
       "      <td>2.0</td>\n",
       "      <td>\\nBungalow House\\nPartially Furnished\\n</td>\n",
       "      <td>7 mins (530 m) to JE2 Tengah Park MRT</td>\n",
       "      <td>Quiet Spacious 5 Room Unit for Rent</td>\n",
       "    </tr>\n",
       "  </tbody>\n",
       "</table>\n",
       "<p>5360 rows × 9 columns</p>\n",
       "</div>"
      ],
      "text/plain": [
       "                                                   name  \\\n",
       "0     Brand new Attic Studio, in a Peranakan Conserv...   \n",
       "1                                                 Astor   \n",
       "2                                    Springhill Terrace   \n",
       "3                                   704 Yishun Avenue 5   \n",
       "4                                                Espada   \n",
       "...                                                 ...   \n",
       "5355                             Avenue South Residence   \n",
       "5356                                 453B Fernvale Road   \n",
       "5357                                            Riviere   \n",
       "5358                                       Bukit Villas   \n",
       "5359                     442A Bukit Batok West Avenue 8   \n",
       "\n",
       "                             address   price  \\\n",
       "0                  Lorong 34 Geylang  3,000    \n",
       "1                 51C Lengkong Empat  2,000    \n",
       "2                     Sunrise avenue  7,400    \n",
       "3                704 Yishun Avenue 5  1,000    \n",
       "4               48 Saint Thomas Walk  4,300    \n",
       "...                              ...     ...   \n",
       "5355                 13 Silat Avenue  7,500    \n",
       "5356              453B Fernvale Road    999    \n",
       "5357               1 Jiak Kim Street  8,000    \n",
       "5358                   1 Rasok Drive  7,100    \n",
       "5359  442A Bukit Batok West Avenue 8  4,600    \n",
       "\n",
       "                                     size bedrooms  bathrooms  \\\n",
       "0                                400 sqft        1        1.0   \n",
       "1                               1130 sqft     Room        NaN   \n",
       "2                               3800 sqft        5        4.0   \n",
       "3                                120 sqft     Room        NaN   \n",
       "4                                689 sqft        1        1.0   \n",
       "...                                   ...      ...        ...   \n",
       "5355                             947 sqft        3        2.0   \n",
       "5356                             150 sqft     Room        NaN   \n",
       "5357                             840 sqft        2        2.0   \n",
       "5358  3025 sqft (floor), 2256 sqft (land)        5        4.0   \n",
       "5359                            1205 sqft        3        2.0   \n",
       "\n",
       "                property_type_furnishing_year  \\\n",
       "0              \\nApartment\\nFully Furnished\\n   \n",
       "1              \\nApartment\\nFully Furnished\\n   \n",
       "2              \\nApartment\\nFully Furnished\\n   \n",
       "3              \\nApartment\\nFully Furnished\\n   \n",
       "4              \\nApartment\\nFully Furnished\\n   \n",
       "...                                       ...   \n",
       "5355  \\nBungalow House\\nPartially Furnished\\n   \n",
       "5356  \\nBungalow House\\nPartially Furnished\\n   \n",
       "5357  \\nBungalow House\\nPartially Furnished\\n   \n",
       "5358  \\nBungalow House\\nPartially Furnished\\n   \n",
       "5359  \\nBungalow House\\nPartially Furnished\\n   \n",
       "\n",
       "                                mrt_distance  \\\n",
       "0                                        NaN   \n",
       "1     11 mins (810 m) to DT28 Kaki Bukit MRT   \n",
       "2                                        NaN   \n",
       "3          9 mins (700 m) to NS13 Yishun MRT   \n",
       "4        6 mins (420 m) to NS23 Somerset MRT   \n",
       "...                                      ...   \n",
       "5355                                     NaN   \n",
       "5356      4 mins (290 m) to SW5 Fernvale LRT   \n",
       "5357     5 mins (370 m) to TE16 Havelock MRT   \n",
       "5358                                     NaN   \n",
       "5359   7 mins (530 m) to JE2 Tengah Park MRT   \n",
       "\n",
       "                                      agent_description  \n",
       "0     One and only attic studio! Beautifully done up...  \n",
       "1                              Comes with In House Maid  \n",
       "2     Close to MRT and short drive to French, Austra...  \n",
       "3                         Room for 1 or 2 single ladies  \n",
       "4     All units virtual online viewing available! An...  \n",
       "...                                                 ...  \n",
       "5355         Newly TOP! Be the first to stay near town!  \n",
       "5356                              Close to fernvale LRT  \n",
       "5357                        Brand new pool facing unit!  \n",
       "5358  Tranquil surroundings, facilities included! Po...  \n",
       "5359                Quiet Spacious 5 Room Unit for Rent  \n",
       "\n",
       "[5360 rows x 9 columns]"
      ]
     },
     "execution_count": 4,
     "metadata": {},
     "output_type": "execute_result"
    }
   ],
   "source": [
    "# Show top and bottom five rows\n",
    "df"
   ]
  },
  {
   "cell_type": "markdown",
   "id": "11a394d7",
   "metadata": {},
   "source": [
    "# Duplicates"
   ]
  },
  {
   "cell_type": "code",
   "execution_count": 5,
   "id": "10dfc32d",
   "metadata": {},
   "outputs": [
    {
     "data": {
      "text/plain": [
       "False    5082\n",
       "True      278\n",
       "dtype: int64"
      ]
     },
     "execution_count": 5,
     "metadata": {},
     "output_type": "execute_result"
    }
   ],
   "source": [
    "# Diagnose duplicates\n",
    "df.duplicated().value_counts()"
   ]
  },
  {
   "cell_type": "code",
   "execution_count": 6,
   "id": "714b8694",
   "metadata": {},
   "outputs": [],
   "source": [
    "# Remove duplicates\n",
    "df = df.drop_duplicates().copy()"
   ]
  },
  {
   "cell_type": "code",
   "execution_count": 7,
   "id": "4de869e9",
   "metadata": {},
   "outputs": [
    {
     "name": "stdout",
     "output_type": "stream",
     "text": [
      "<class 'pandas.core.frame.DataFrame'>\n",
      "Int64Index: 5082 entries, 0 to 5359\n",
      "Data columns (total 9 columns):\n",
      " #   Column                         Non-Null Count  Dtype  \n",
      "---  ------                         --------------  -----  \n",
      " 0   name                           5082 non-null   object \n",
      " 1   address                        4754 non-null   object \n",
      " 2   price                          5082 non-null   object \n",
      " 3   size                           5082 non-null   object \n",
      " 4   bedrooms                       5082 non-null   object \n",
      " 5   bathrooms                      4680 non-null   float64\n",
      " 6   property_type_furnishing_year  5082 non-null   object \n",
      " 7   mrt_distance                   4418 non-null   object \n",
      " 8   agent_description              5082 non-null   object \n",
      "dtypes: float64(1), object(8)\n",
      "memory usage: 397.0+ KB\n"
     ]
    }
   ],
   "source": [
    "# Show dataframe info\n",
    "df.info()"
   ]
  },
  {
   "cell_type": "markdown",
   "id": "f46b1418",
   "metadata": {},
   "source": [
    "# Feature extraction"
   ]
  },
  {
   "cell_type": "markdown",
   "id": "dccf199e",
   "metadata": {},
   "source": [
    "## Property type"
   ]
  },
  {
   "cell_type": "code",
   "execution_count": 8,
   "id": "43009e06",
   "metadata": {},
   "outputs": [],
   "source": [
    "# Create function to extract property type \n",
    "def extract_type(string):\n",
    "    if \"Condominium\" in string:\n",
    "        return \"Condominium\"\n",
    "    elif \"Apartment\" in string:\n",
    "        return \"Apartment\"\n",
    "    elif \"HDB Flat\" in string:\n",
    "        return \"HDB Flat\"\n",
    "    elif \"Semi-Detached House\" in string:\n",
    "        return \"Semi-Detached House\"\n",
    "    elif \"Good Class Bungalow\" in string:\n",
    "        return \"Good Class Bungalow\"\n",
    "    elif \"Corner Terrace\" in string:\n",
    "        return \"Corner Terrace\"\n",
    "    elif \"Detached House\" in string:\n",
    "        return \"Detached House\"\n",
    "    elif \"Executive Condominium\" in string:\n",
    "        return \"Executive Condominium\"\n",
    "    elif \"Terraced House\" in string:\n",
    "        return \"Terraced House\"\n",
    "    elif \"Bungalow House\" in string:\n",
    "        return \"Bungalow House\"\n",
    "    elif \"Cluster House\" in string:\n",
    "        return \"Cluster House\"\n",
    "    else:\n",
    "        return np.nan"
   ]
  },
  {
   "cell_type": "code",
   "execution_count": 9,
   "id": "786713f8",
   "metadata": {},
   "outputs": [],
   "source": [
    "# Apply function to create property type column\n",
    "df[\"property_type\"] = df[\"property_type_furnishing_year\"].apply(extract_type)"
   ]
  },
  {
   "cell_type": "code",
   "execution_count": 10,
   "id": "dc920c4c",
   "metadata": {
    "scrolled": true
   },
   "outputs": [
    {
     "data": {
      "text/plain": [
       "Condominium            2770\n",
       "Apartment               905\n",
       "HDB Flat                763\n",
       "Semi-Detached House     188\n",
       "Good Class Bungalow     174\n",
       "Corner Terrace          103\n",
       "Detached House           79\n",
       "Terraced House           40\n",
       "Bungalow House           40\n",
       "Cluster House            20\n",
       "Name: property_type, dtype: int64"
      ]
     },
     "execution_count": 10,
     "metadata": {},
     "output_type": "execute_result"
    }
   ],
   "source": [
    "# Frequencies of property types\n",
    "df[\"property_type\"].value_counts()"
   ]
  },
  {
   "cell_type": "markdown",
   "id": "a18b0cc7",
   "metadata": {},
   "source": [
    "## Furnishing"
   ]
  },
  {
   "cell_type": "code",
   "execution_count": 11,
   "id": "9fa6807c",
   "metadata": {},
   "outputs": [],
   "source": [
    "# Create function to extract information about furnishing  \n",
    "def extract_furnishing(string):\n",
    "    if \"Fully Furnished\" in string:\n",
    "        return \"Fully Furnished\"\n",
    "    elif \"Partially Furnished\" in string:\n",
    "        return \"Partially Furnished\"\n",
    "    elif \"Unfurnished\" in string:\n",
    "        return \"Unfurnished\"\n",
    "    else:\n",
    "        return np.nan"
   ]
  },
  {
   "cell_type": "code",
   "execution_count": 12,
   "id": "f3611c0a",
   "metadata": {},
   "outputs": [],
   "source": [
    "# Apply function to create furnishing column\n",
    "df[\"furnishing\"] = df[\"property_type_furnishing_year\"].apply(extract_furnishing)"
   ]
  },
  {
   "cell_type": "code",
   "execution_count": 13,
   "id": "c77208ce",
   "metadata": {},
   "outputs": [
    {
     "data": {
      "text/plain": [
       "Partially Furnished    3058\n",
       "Fully Furnished        1600\n",
       "Unfurnished              84\n",
       "Name: furnishing, dtype: int64"
      ]
     },
     "execution_count": 13,
     "metadata": {},
     "output_type": "execute_result"
    }
   ],
   "source": [
    "# Frequencies of furnishing\n",
    "df[\"furnishing\"].value_counts()"
   ]
  },
  {
   "cell_type": "markdown",
   "id": "1d35d608",
   "metadata": {},
   "source": [
    "## Built year"
   ]
  },
  {
   "cell_type": "code",
   "execution_count": 14,
   "id": "0b5ec883",
   "metadata": {},
   "outputs": [],
   "source": [
    "# Create function to extract built year \n",
    "def extract_year(string):\n",
    "    year = re.search(r\"\\b\\d{4}\\b\", string)\n",
    "    if year:\n",
    "        return year.group()\n",
    "    else:\n",
    "        return np.nan"
   ]
  },
  {
   "cell_type": "code",
   "execution_count": 15,
   "id": "ad760605",
   "metadata": {},
   "outputs": [],
   "source": [
    "# Apply function to create built year column\n",
    "df[\"year\"] = df[\"property_type_furnishing_year\"].apply(extract_year).astype(float)"
   ]
  },
  {
   "cell_type": "code",
   "execution_count": 16,
   "id": "94a17f79",
   "metadata": {},
   "outputs": [
    {
     "data": {
      "text/plain": [
       "2023.0    391\n",
       "2024.0    314\n",
       "2013.0    297\n",
       "2017.0    293\n",
       "2010.0    248\n",
       "2011.0    239\n",
       "2014.0    178\n",
       "2007.0    167\n",
       "2016.0    160\n",
       "2009.0    145\n",
       "2022.0    142\n",
       "2021.0    140\n",
       "2015.0    140\n",
       "2012.0    112\n",
       "2008.0     99\n",
       "1997.0     87\n",
       "2019.0     80\n",
       "2005.0     80\n",
       "1995.0     80\n",
       "1999.0     80\n",
       "2000.0     63\n",
       "2001.0     62\n",
       "1985.0     60\n",
       "1994.0     60\n",
       "2004.0     60\n",
       "1984.0     60\n",
       "1993.0     60\n",
       "1986.0     43\n",
       "1996.0     40\n",
       "1998.0     40\n",
       "1987.0     40\n",
       "2018.0     40\n",
       "1981.0     40\n",
       "2003.0     40\n",
       "1975.0     38\n",
       "1992.0     20\n",
       "1971.0     20\n",
       "1991.0     20\n",
       "2006.0     20\n",
       "1983.0     20\n",
       "1974.0     20\n",
       "1979.0     20\n",
       "2002.0     20\n",
       "1977.0     20\n",
       "Name: year, dtype: int64"
      ]
     },
     "execution_count": 16,
     "metadata": {},
     "output_type": "execute_result"
    }
   ],
   "source": [
    "# Frequencies of built year\n",
    "df[\"year\"].value_counts()"
   ]
  },
  {
   "cell_type": "code",
   "execution_count": 17,
   "id": "2f309a32",
   "metadata": {},
   "outputs": [],
   "source": [
    "# Delete \"property_type_furnishing_year\" column\n",
    "df.drop(\"property_type_furnishing_year\", axis=1, inplace=True)"
   ]
  },
  {
   "cell_type": "markdown",
   "id": "c99acffe",
   "metadata": {},
   "source": [
    "## MRT distance"
   ]
  },
  {
   "cell_type": "code",
   "execution_count": 18,
   "id": "68bf4f66",
   "metadata": {},
   "outputs": [],
   "source": [
    "# Extract MRT distance in meters\n",
    "df[\"meters_to_mrt\"] = df[\"mrt_distance\"].str.split(r\"m\\)\").str[0].str.split(r\"\\(\").str[1].astype(float)"
   ]
  },
  {
   "cell_type": "code",
   "execution_count": 19,
   "id": "c3a5b4b0",
   "metadata": {},
   "outputs": [],
   "source": [
    "# Delete \"mrt_distance\" column\n",
    "df.drop(\"mrt_distance\", axis=1, inplace=True)"
   ]
  },
  {
   "cell_type": "markdown",
   "id": "049a0188",
   "metadata": {},
   "source": [
    "## Pool"
   ]
  },
  {
   "cell_type": "code",
   "execution_count": 37,
   "id": "6e55bd60",
   "metadata": {},
   "outputs": [],
   "source": [
    "# Create function to extract information about pool  \n",
    "def extract_pool(string):\n",
    "    if \"pool\" in string.lower():\n",
    "        return True\n",
    "    else:\n",
    "        return False"
   ]
  },
  {
   "cell_type": "code",
   "execution_count": 38,
   "id": "353c3a6d",
   "metadata": {},
   "outputs": [],
   "source": [
    "# Apply function to create pool column\n",
    "df[\"pool\"] = df[\"agent_description\"].apply(extract_pool)"
   ]
  },
  {
   "cell_type": "markdown",
   "id": "c5a46bc2",
   "metadata": {},
   "source": [
    "## Sea view"
   ]
  },
  {
   "cell_type": "code",
   "execution_count": 63,
   "id": "5354d801",
   "metadata": {},
   "outputs": [],
   "source": [
    "# Create function to extract information about sea view  \n",
    "def extract_sea_view(string):\n",
    "    if \"seaview\" in string.lower() or \"sea view\" in string.lower():\n",
    "        return True\n",
    "    else:\n",
    "        return False"
   ]
  },
  {
   "cell_type": "code",
   "execution_count": 64,
   "id": "da22723f",
   "metadata": {},
   "outputs": [],
   "source": [
    "# Apply function to create sea view column\n",
    "df[\"sea_view\"] = df[\"agent_description\"].apply(extract_sea_view)"
   ]
  },
  {
   "cell_type": "code",
   "execution_count": 67,
   "id": "a169401e",
   "metadata": {},
   "outputs": [],
   "source": [
    "# Create function to extract penthouse information \n",
    "def extract_penthouse(string):\n",
    "    if \"penthouse\" in string.lower():\n",
    "        return True\n",
    "    else:\n",
    "        return False"
   ]
  },
  {
   "cell_type": "code",
   "execution_count": 68,
   "id": "4d4ac2f3",
   "metadata": {},
   "outputs": [],
   "source": [
    "# Apply function to create penthouse column\n",
    "df[\"penthouse\"] = df[\"agent_description\"].apply(extract_penthouse)"
   ]
  },
  {
   "cell_type": "markdown",
   "id": "634bee6d",
   "metadata": {},
   "source": [
    "## Extract features from agent description (renovated, penthouse, short term)\n"
   ]
  },
  {
   "cell_type": "code",
   "execution_count": 69,
   "id": "9095f08c",
   "metadata": {},
   "outputs": [
    {
     "data": {
      "text/plain": [
       "False    4972\n",
       "True      110\n",
       "Name: penthouse, dtype: int64"
      ]
     },
     "execution_count": 69,
     "metadata": {},
     "output_type": "execute_result"
    }
   ],
   "source": [
    "df[\"penthouse\"].value_counts()"
   ]
  },
  {
   "cell_type": "code",
   "execution_count": 70,
   "id": "879f6afb",
   "metadata": {},
   "outputs": [
    {
     "name": "stdout",
     "output_type": "stream",
     "text": [
      "Exclusive Penthouse unit, $400k reno, unblocked view with privacy\n",
      "Available immediately. Spacious 3br duplex penthouse with roof terrace\n",
      "Super rare single level, huge penthouse in orchard! Hurry, secure it!\n",
      "Beautiful Duplex Penthouse at Saint Thomas Suites\n",
      "Beauitful Freehold Penthouse just right beside Orchard Boulevard MRT\n",
      "Rare Penthouse Duplex with Private Garden. Available immediate.\n",
      "Spectacular penthouse with city view. 2 beds 2 baths. High ceiling\n",
      "Attractive penthouse next to parkway parade for rent\n",
      "Newly Renovated Top Floor Penthouse Unit For Rent!\n",
      "Brand new freehold 3 bedroom duplex penthouse for immediate occupancy\n",
      "Rare Penthouse unit for rent! unblock view now!\n",
      "Duplex Penthouse at St Thomas Suites\n",
      "Exclusive Penthouse unit, $400k reno, unblocked view with privacy\n",
      "Available immediately. Spacious 3br duplex penthouse with roof terrace\n",
      "Super rare single level, huge penthouse in orchard! Hurry, secure it!\n",
      "Beautiful Duplex Penthouse at Saint Thomas Suites\n",
      "Beauitful Freehold Penthouse just right beside Orchard Boulevard MRT\n",
      "Rare Penthouse Duplex with Private Garden. Available immediate.\n",
      "Spectacular penthouse with city view. 2 beds 2 baths. High ceiling\n",
      "Attractive penthouse next to parkway parade for rent\n",
      "Newly Renovated Top Floor Penthouse Unit For Rent!\n",
      "Brand new freehold 3 bedroom duplex penthouse for immediate occupancy\n",
      "Loft unit penthouse with unblocked view and windy with many amenities\n",
      "Beautiful penthouse!\n",
      "Exclusive Penthouse with a coveted city view\n",
      "Penthouse unit with private pool and lift minutes walk to Novena mall\n",
      "Beautiful Duplex Penthouse at Saint Thomas Suites\n",
      "Beauitful Freehold Penthouse just right beside Orchard Boulevard MRT\n",
      "Brand new freehold 3 bedroom duplex penthouse for immediate occupancy\n",
      "2 storey penthouse, 3 bedroom plus helpers room\n",
      "Exclusive Marina Bay Simplex Penthouse for Lease\n",
      "Exclusive Marina Bay Duplex Penthouse for Lease\n",
      "Loft unit penthouse with unblocked view and windy with many amenities\n",
      "Exclusive Penthouse with a coveted city view\n",
      "Rare Penthouse Duplex with Private Garden. Available immediate.\n",
      "Brand new freehold 3 bedroom duplex penthouse for immediate occupancy\n",
      "2 storey penthouse, 3 bedroom plus helpers room\n",
      "Exclusive Marina Bay Simplex Penthouse for Lease\n",
      "Exclusive Marina Bay Duplex Penthouse for Lease\n",
      "Loft unit penthouse with unblocked view and windy with many amenities\n",
      "Beautiful penthouse!\n",
      "Luscious Green Penthouse Bungalow on Sky\n",
      "Spacious Penthouse with pool and unblock view\n",
      "Rare & exclusive penthouse. Be the exclusive one to stay in awe!\n",
      "Brand new freehold 3 bedroom duplex penthouse for immediate occupancy\n",
      "Exclusive Marina Bay Simplex Penthouse for Lease\n",
      "Exclusive Marina Bay Duplex Penthouse for Lease\n",
      "Spectacular penthouse with city view. 2 beds 2 baths. High ceiling\n",
      "2 bedroom penthouse with Marina Bay Sand view\n",
      "Loft unit penthouse with unblocked view and windy with many amenities\n",
      "2 bed 1 bath penthouse loft unit for rent\n",
      "Beautiful penthouse!\n",
      "Penthouse unit for rent! Convenience within walking distance\n",
      "Duplex Penthouse at St Thomas Suites\n",
      "Super value rent! Newly renovated 4br penthouse pool. Immediate stay\n",
      "Beautiful Duplex Penthouse at Saint Thomas Suites\n",
      "Beauitful Freehold Penthouse just right beside Orchard Boulevard MRT\n",
      "Rare 3 bedder duplex penthouse with family area! Chic and cosy! Grab!\n",
      "Beautiful penthouse!\n",
      "Rare Penthouse Duplex with Private Garden. Available immediate.\n",
      "Sky Villa Luxury 4 Bedrooms Penthouse with private pool and Lift\n",
      "Rare penthouse 4 beds 4 baths with helper's room for rent!\n",
      "Spectacular penthouse with city view. 2 beds 2 baths. High ceiling\n",
      "2 bedroom penthouse with Marina Bay Sand view\n",
      "Loft unit penthouse with unblocked view and windy with many amenities\n",
      "Brand new freehold 3 bedroom duplex penthouse for immediate occupancy\n",
      "Super rare single level, huge penthouse in orchard! Hurry, secure it!\n",
      "Beautiful Duplex Penthouse at Saint Thomas Suites\n",
      "Beauitful Freehold Penthouse just right beside Orchard Boulevard MRT\n",
      "Rare 3 bedder duplex penthouse with family area! Chic and cosy! Grab!\n",
      "Beautiful penthouse!\n",
      "Rare Penthouse Duplex with Private Garden. Available immediate.\n",
      "Sky Villa Luxury 4 Bedrooms Penthouse with private pool and Lift\n",
      "Rare penthouse 4 beds 4 baths with helper's room for rent!\n",
      "Spectacular penthouse with city view. 2 beds 2 baths. High ceiling\n",
      "2 bedroom penthouse with Marina Bay Sand view\n",
      "Rare & exclusive penthouse. Be the exclusive one to stay in awe!\n",
      "District 11 Freehold Brand New 4 Bedder Penthouse With Private Pool!\n",
      "Tastefully renovated 5 bedroom penthouse available immediately\n",
      "Super rare single level, huge penthouse in orchard! Hurry, secure it!\n",
      "Beautiful Duplex Penthouse at Saint Thomas Suites\n",
      "Beauitful Freehold Penthouse just right beside Orchard Boulevard MRT\n",
      "Rare 3 bedder duplex penthouse with family area! Chic and cosy! Grab!\n",
      "Beautiful penthouse!\n",
      "Rare Penthouse Duplex with Private Garden. Available immediate.\n",
      "Sky Villa Luxury 4 Bedrooms Penthouse with private pool and Lift\n",
      "Rare penthouse 4 beds 4 baths with helper's room for rent!\n",
      "Spectacular penthouse with city view. 2 beds 2 baths. High ceiling\n",
      "Newly & Fully Renovated Outstanding Interior Penthouse w/ Roof Terrace\n",
      "Biggest Super Penthouse! Sole Agt. Immediate! 6 rooms plus helpers rm.\n",
      "2 Bedms Penthouse For Rent, Quiet landed Facing Beside Park Connector\n",
      "2 storey penthouse, 3 bedroom plus helpers room\n",
      "Duplex Penthouse 3 Bedrooms with Private Pool\n",
      "Rare & exclusive penthouse. Be the exclusive one to stay in awe!\n",
      "New Listing Beautiful Listing 4 Bedroom Penthouse for Rent\n",
      "Fraser Residence Orchard Penthouse 4 Bedroom with Pool just behind Ion\n",
      "Newly & Fully Renovated Outstanding Interior Penthouse w/ Roof Terrace\n",
      "2 storey penthouse, 3 bedroom plus helpers room\n",
      "Duplex Penthouse 3 Bedrooms with Private Pool\n",
      "Penthouse 4 Bedrooms & Study, High Ceiling, District 10, Good Schools\n",
      "Fraser Residence Orchard Penthouse 4 Bedroom with Pool just behind Ion\n",
      "Newly & Fully Renovated Outstanding Interior Penthouse w/ Roof Terrace\n",
      "Biggest Super Penthouse! Sole Agt. Immediate! 6 rooms plus helpers rm.\n",
      "2 Bedms Penthouse For Rent, Quiet landed Facing Beside Park Connector\n",
      "2 storey penthouse, 3 bedroom plus helpers room\n",
      "Mins to Orchard Road penthouse duplex,5 bedrooms, 5 baths, immediate\n",
      "Rare & exclusive penthouse. Be the exclusive one to stay in awe!\n",
      "Fraser Residence Orchard Penthouse 4 Bedroom with Pool just behind Ion\n",
      "Newly & Fully Renovated Outstanding Interior Penthouse w/ Roof Terrace\n",
      "Biggest Super Penthouse! Sole Agt. Immediate! 6 rooms plus helpers rm.\n"
     ]
    }
   ],
   "source": [
    "for value in df[\"agent_description\"][df[\"penthouse\"]==True]:\n",
    "    print(value)"
   ]
  },
  {
   "cell_type": "markdown",
   "id": "36e8b55c",
   "metadata": {},
   "source": [
    "# Data types"
   ]
  },
  {
   "cell_type": "code",
   "execution_count": 20,
   "id": "3ed63e6d",
   "metadata": {},
   "outputs": [],
   "source": [
    "# Convert price from str to int\n",
    "df[\"price\"] = df[\"price\"].str.replace(\",\", \"\").astype(int)"
   ]
  },
  {
   "cell_type": "code",
   "execution_count": 21,
   "id": "892369c2",
   "metadata": {},
   "outputs": [],
   "source": [
    "# Convert size (sqft) from str to int\n",
    "df[\"size\"] = df[\"size\"].str.split(\"sqft\").str[0].astype(int)"
   ]
  },
  {
   "cell_type": "markdown",
   "id": "5ee26bf8",
   "metadata": {},
   "source": [
    "# Check data"
   ]
  },
  {
   "cell_type": "code",
   "execution_count": 22,
   "id": "eecdd4b9",
   "metadata": {},
   "outputs": [
    {
     "name": "stdout",
     "output_type": "stream",
     "text": [
      "<class 'pandas.core.frame.DataFrame'>\n",
      "Int64Index: 5082 entries, 0 to 5359\n",
      "Data columns (total 11 columns):\n",
      " #   Column             Non-Null Count  Dtype  \n",
      "---  ------             --------------  -----  \n",
      " 0   name               5082 non-null   object \n",
      " 1   address            4754 non-null   object \n",
      " 2   price              5082 non-null   int32  \n",
      " 3   size               5082 non-null   int32  \n",
      " 4   bedrooms           5082 non-null   object \n",
      " 5   bathrooms          4680 non-null   float64\n",
      " 6   agent_description  5082 non-null   object \n",
      " 7   property_type      5082 non-null   object \n",
      " 8   furnishing         4742 non-null   object \n",
      " 9   year               4398 non-null   float64\n",
      " 10  meters_to_mrt      4418 non-null   float64\n",
      "dtypes: float64(3), int32(2), object(6)\n",
      "memory usage: 436.7+ KB\n"
     ]
    }
   ],
   "source": [
    "# Show dataframe info\n",
    "df.info()"
   ]
  },
  {
   "cell_type": "code",
   "execution_count": 23,
   "id": "92577ee0",
   "metadata": {
    "scrolled": true
   },
   "outputs": [
    {
     "data": {
      "text/html": [
       "<div>\n",
       "<style scoped>\n",
       "    .dataframe tbody tr th:only-of-type {\n",
       "        vertical-align: middle;\n",
       "    }\n",
       "\n",
       "    .dataframe tbody tr th {\n",
       "        vertical-align: top;\n",
       "    }\n",
       "\n",
       "    .dataframe thead th {\n",
       "        text-align: right;\n",
       "    }\n",
       "</style>\n",
       "<table border=\"1\" class=\"dataframe\">\n",
       "  <thead>\n",
       "    <tr style=\"text-align: right;\">\n",
       "      <th></th>\n",
       "      <th>name</th>\n",
       "      <th>address</th>\n",
       "      <th>price</th>\n",
       "      <th>size</th>\n",
       "      <th>bedrooms</th>\n",
       "      <th>bathrooms</th>\n",
       "      <th>agent_description</th>\n",
       "      <th>property_type</th>\n",
       "      <th>furnishing</th>\n",
       "      <th>year</th>\n",
       "      <th>meters_to_mrt</th>\n",
       "    </tr>\n",
       "  </thead>\n",
       "  <tbody>\n",
       "    <tr>\n",
       "      <th>0</th>\n",
       "      <td>Brand new Attic Studio, in a Peranakan Conserv...</td>\n",
       "      <td>Lorong 34 Geylang</td>\n",
       "      <td>3000</td>\n",
       "      <td>400</td>\n",
       "      <td>1</td>\n",
       "      <td>1.0</td>\n",
       "      <td>One and only attic studio! Beautifully done up...</td>\n",
       "      <td>Apartment</td>\n",
       "      <td>Fully Furnished</td>\n",
       "      <td>NaN</td>\n",
       "      <td>NaN</td>\n",
       "    </tr>\n",
       "    <tr>\n",
       "      <th>1</th>\n",
       "      <td>Astor</td>\n",
       "      <td>51C Lengkong Empat</td>\n",
       "      <td>2000</td>\n",
       "      <td>1130</td>\n",
       "      <td>Room</td>\n",
       "      <td>NaN</td>\n",
       "      <td>Comes with In House Maid</td>\n",
       "      <td>Apartment</td>\n",
       "      <td>Fully Furnished</td>\n",
       "      <td>NaN</td>\n",
       "      <td>810.0</td>\n",
       "    </tr>\n",
       "    <tr>\n",
       "      <th>2</th>\n",
       "      <td>Springhill Terrace</td>\n",
       "      <td>Sunrise avenue</td>\n",
       "      <td>7400</td>\n",
       "      <td>3800</td>\n",
       "      <td>5</td>\n",
       "      <td>4.0</td>\n",
       "      <td>Close to MRT and short drive to French, Austra...</td>\n",
       "      <td>Apartment</td>\n",
       "      <td>Fully Furnished</td>\n",
       "      <td>NaN</td>\n",
       "      <td>NaN</td>\n",
       "    </tr>\n",
       "    <tr>\n",
       "      <th>3</th>\n",
       "      <td>704 Yishun Avenue 5</td>\n",
       "      <td>704 Yishun Avenue 5</td>\n",
       "      <td>1000</td>\n",
       "      <td>120</td>\n",
       "      <td>Room</td>\n",
       "      <td>NaN</td>\n",
       "      <td>Room for 1 or 2 single ladies</td>\n",
       "      <td>Apartment</td>\n",
       "      <td>Fully Furnished</td>\n",
       "      <td>NaN</td>\n",
       "      <td>700.0</td>\n",
       "    </tr>\n",
       "    <tr>\n",
       "      <th>4</th>\n",
       "      <td>Espada</td>\n",
       "      <td>48 Saint Thomas Walk</td>\n",
       "      <td>4300</td>\n",
       "      <td>689</td>\n",
       "      <td>1</td>\n",
       "      <td>1.0</td>\n",
       "      <td>All units virtual online viewing available! An...</td>\n",
       "      <td>Apartment</td>\n",
       "      <td>Fully Furnished</td>\n",
       "      <td>NaN</td>\n",
       "      <td>420.0</td>\n",
       "    </tr>\n",
       "    <tr>\n",
       "      <th>...</th>\n",
       "      <td>...</td>\n",
       "      <td>...</td>\n",
       "      <td>...</td>\n",
       "      <td>...</td>\n",
       "      <td>...</td>\n",
       "      <td>...</td>\n",
       "      <td>...</td>\n",
       "      <td>...</td>\n",
       "      <td>...</td>\n",
       "      <td>...</td>\n",
       "      <td>...</td>\n",
       "    </tr>\n",
       "    <tr>\n",
       "      <th>5355</th>\n",
       "      <td>Avenue South Residence</td>\n",
       "      <td>13 Silat Avenue</td>\n",
       "      <td>7500</td>\n",
       "      <td>947</td>\n",
       "      <td>3</td>\n",
       "      <td>2.0</td>\n",
       "      <td>Newly TOP! Be the first to stay near town!</td>\n",
       "      <td>Bungalow House</td>\n",
       "      <td>Partially Furnished</td>\n",
       "      <td>NaN</td>\n",
       "      <td>NaN</td>\n",
       "    </tr>\n",
       "    <tr>\n",
       "      <th>5356</th>\n",
       "      <td>453B Fernvale Road</td>\n",
       "      <td>453B Fernvale Road</td>\n",
       "      <td>999</td>\n",
       "      <td>150</td>\n",
       "      <td>Room</td>\n",
       "      <td>NaN</td>\n",
       "      <td>Close to fernvale LRT</td>\n",
       "      <td>Bungalow House</td>\n",
       "      <td>Partially Furnished</td>\n",
       "      <td>NaN</td>\n",
       "      <td>290.0</td>\n",
       "    </tr>\n",
       "    <tr>\n",
       "      <th>5357</th>\n",
       "      <td>Riviere</td>\n",
       "      <td>1 Jiak Kim Street</td>\n",
       "      <td>8000</td>\n",
       "      <td>840</td>\n",
       "      <td>2</td>\n",
       "      <td>2.0</td>\n",
       "      <td>Brand new pool facing unit!</td>\n",
       "      <td>Bungalow House</td>\n",
       "      <td>Partially Furnished</td>\n",
       "      <td>NaN</td>\n",
       "      <td>370.0</td>\n",
       "    </tr>\n",
       "    <tr>\n",
       "      <th>5358</th>\n",
       "      <td>Bukit Villas</td>\n",
       "      <td>1 Rasok Drive</td>\n",
       "      <td>7100</td>\n",
       "      <td>3025</td>\n",
       "      <td>5</td>\n",
       "      <td>4.0</td>\n",
       "      <td>Tranquil surroundings, facilities included! Po...</td>\n",
       "      <td>Bungalow House</td>\n",
       "      <td>Partially Furnished</td>\n",
       "      <td>NaN</td>\n",
       "      <td>NaN</td>\n",
       "    </tr>\n",
       "    <tr>\n",
       "      <th>5359</th>\n",
       "      <td>442A Bukit Batok West Avenue 8</td>\n",
       "      <td>442A Bukit Batok West Avenue 8</td>\n",
       "      <td>4600</td>\n",
       "      <td>1205</td>\n",
       "      <td>3</td>\n",
       "      <td>2.0</td>\n",
       "      <td>Quiet Spacious 5 Room Unit for Rent</td>\n",
       "      <td>Bungalow House</td>\n",
       "      <td>Partially Furnished</td>\n",
       "      <td>NaN</td>\n",
       "      <td>530.0</td>\n",
       "    </tr>\n",
       "  </tbody>\n",
       "</table>\n",
       "<p>5082 rows × 11 columns</p>\n",
       "</div>"
      ],
      "text/plain": [
       "                                                   name  \\\n",
       "0     Brand new Attic Studio, in a Peranakan Conserv...   \n",
       "1                                                 Astor   \n",
       "2                                    Springhill Terrace   \n",
       "3                                   704 Yishun Avenue 5   \n",
       "4                                                Espada   \n",
       "...                                                 ...   \n",
       "5355                             Avenue South Residence   \n",
       "5356                                 453B Fernvale Road   \n",
       "5357                                            Riviere   \n",
       "5358                                       Bukit Villas   \n",
       "5359                     442A Bukit Batok West Avenue 8   \n",
       "\n",
       "                             address  price  size bedrooms  bathrooms  \\\n",
       "0                  Lorong 34 Geylang   3000   400        1        1.0   \n",
       "1                 51C Lengkong Empat   2000  1130     Room        NaN   \n",
       "2                     Sunrise avenue   7400  3800        5        4.0   \n",
       "3                704 Yishun Avenue 5   1000   120     Room        NaN   \n",
       "4               48 Saint Thomas Walk   4300   689        1        1.0   \n",
       "...                              ...    ...   ...      ...        ...   \n",
       "5355                 13 Silat Avenue   7500   947        3        2.0   \n",
       "5356              453B Fernvale Road    999   150     Room        NaN   \n",
       "5357               1 Jiak Kim Street   8000   840        2        2.0   \n",
       "5358                   1 Rasok Drive   7100  3025        5        4.0   \n",
       "5359  442A Bukit Batok West Avenue 8   4600  1205        3        2.0   \n",
       "\n",
       "                                      agent_description   property_type  \\\n",
       "0     One and only attic studio! Beautifully done up...       Apartment   \n",
       "1                              Comes with In House Maid       Apartment   \n",
       "2     Close to MRT and short drive to French, Austra...       Apartment   \n",
       "3                         Room for 1 or 2 single ladies       Apartment   \n",
       "4     All units virtual online viewing available! An...       Apartment   \n",
       "...                                                 ...             ...   \n",
       "5355         Newly TOP! Be the first to stay near town!  Bungalow House   \n",
       "5356                              Close to fernvale LRT  Bungalow House   \n",
       "5357                        Brand new pool facing unit!  Bungalow House   \n",
       "5358  Tranquil surroundings, facilities included! Po...  Bungalow House   \n",
       "5359                Quiet Spacious 5 Room Unit for Rent  Bungalow House   \n",
       "\n",
       "               furnishing  year  meters_to_mrt  \n",
       "0         Fully Furnished   NaN            NaN  \n",
       "1         Fully Furnished   NaN          810.0  \n",
       "2         Fully Furnished   NaN            NaN  \n",
       "3         Fully Furnished   NaN          700.0  \n",
       "4         Fully Furnished   NaN          420.0  \n",
       "...                   ...   ...            ...  \n",
       "5355  Partially Furnished   NaN            NaN  \n",
       "5356  Partially Furnished   NaN          290.0  \n",
       "5357  Partially Furnished   NaN          370.0  \n",
       "5358  Partially Furnished   NaN            NaN  \n",
       "5359  Partially Furnished   NaN          530.0  \n",
       "\n",
       "[5082 rows x 11 columns]"
      ]
     },
     "execution_count": 23,
     "metadata": {},
     "output_type": "execute_result"
    }
   ],
   "source": [
    "# Show top and bottom five rows\n",
    "df"
   ]
  },
  {
   "cell_type": "markdown",
   "id": "daaac306",
   "metadata": {},
   "source": [
    "# To Do\n",
    "- Extract latitude and longitude from address\n",
    "- Get distance to attractive locations in Singapore (e.g., bay area, botanic garden)\n",
    "- Handle missing values\n",
    "  - address\n",
    "  - bathrooms\n",
    "  - mrt distance\n",
    "  - furnishing\n",
    "  - built year"
   ]
  }
 ],
 "metadata": {
  "kernelspec": {
   "display_name": "Python 3 (ipykernel)",
   "language": "python",
   "name": "python3"
  },
  "language_info": {
   "codemirror_mode": {
    "name": "ipython",
    "version": 3
   },
   "file_extension": ".py",
   "mimetype": "text/x-python",
   "name": "python",
   "nbconvert_exporter": "python",
   "pygments_lexer": "ipython3",
   "version": "3.9.13"
  },
  "toc": {
   "base_numbering": 1,
   "nav_menu": {},
   "number_sections": true,
   "sideBar": true,
   "skip_h1_title": false,
   "title_cell": "Table of Contents",
   "title_sidebar": "Contents",
   "toc_cell": false,
   "toc_position": {
    "height": "calc(100% - 180px)",
    "left": "10px",
    "top": "150px",
    "width": "384px"
   },
   "toc_section_display": true,
   "toc_window_display": true
  }
 },
 "nbformat": 4,
 "nbformat_minor": 5
}
