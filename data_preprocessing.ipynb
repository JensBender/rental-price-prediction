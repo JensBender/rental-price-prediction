{
 "cells": [
  {
   "cell_type": "code",
   "execution_count": 1,
   "id": "f29a2fb8",
   "metadata": {},
   "outputs": [],
   "source": [
    "import numpy as np\n",
    "import pandas as pd\n",
    "import re\n",
    "import requests\n",
    "from dotenv import load_dotenv\n",
    "import os"
   ]
  },
  {
   "cell_type": "markdown",
   "id": "de97be28",
   "metadata": {},
   "source": [
    "# Read data"
   ]
  },
  {
   "cell_type": "code",
   "execution_count": 2,
   "id": "fbd9a7fa",
   "metadata": {},
   "outputs": [],
   "source": [
    "# Read data from csv\n",
    "df = pd.read_csv(\"data/rental_prices_singapore.csv\")"
   ]
  },
  {
   "cell_type": "code",
   "execution_count": 3,
   "id": "608ebde1",
   "metadata": {},
   "outputs": [
    {
     "name": "stdout",
     "output_type": "stream",
     "text": [
      "<class 'pandas.core.frame.DataFrame'>\n",
      "RangeIndex: 5360 entries, 0 to 5359\n",
      "Data columns (total 9 columns):\n",
      " #   Column                         Non-Null Count  Dtype  \n",
      "---  ------                         --------------  -----  \n",
      " 0   name                           5360 non-null   object \n",
      " 1   address                        5011 non-null   object \n",
      " 2   price                          5360 non-null   object \n",
      " 3   size                           5360 non-null   object \n",
      " 4   bedrooms                       5360 non-null   object \n",
      " 5   bathrooms                      4941 non-null   float64\n",
      " 6   property_type_furnishing_year  5360 non-null   object \n",
      " 7   mrt_distance                   4641 non-null   object \n",
      " 8   agent_description              5360 non-null   object \n",
      "dtypes: float64(1), object(8)\n",
      "memory usage: 377.0+ KB\n"
     ]
    }
   ],
   "source": [
    "# Show dataframe info\n",
    "df.info()"
   ]
  },
  {
   "cell_type": "code",
   "execution_count": 4,
   "id": "43f905cc",
   "metadata": {},
   "outputs": [
    {
     "data": {
      "text/html": [
       "<div>\n",
       "<style scoped>\n",
       "    .dataframe tbody tr th:only-of-type {\n",
       "        vertical-align: middle;\n",
       "    }\n",
       "\n",
       "    .dataframe tbody tr th {\n",
       "        vertical-align: top;\n",
       "    }\n",
       "\n",
       "    .dataframe thead th {\n",
       "        text-align: right;\n",
       "    }\n",
       "</style>\n",
       "<table border=\"1\" class=\"dataframe\">\n",
       "  <thead>\n",
       "    <tr style=\"text-align: right;\">\n",
       "      <th></th>\n",
       "      <th>name</th>\n",
       "      <th>address</th>\n",
       "      <th>price</th>\n",
       "      <th>size</th>\n",
       "      <th>bedrooms</th>\n",
       "      <th>bathrooms</th>\n",
       "      <th>property_type_furnishing_year</th>\n",
       "      <th>mrt_distance</th>\n",
       "      <th>agent_description</th>\n",
       "    </tr>\n",
       "  </thead>\n",
       "  <tbody>\n",
       "    <tr>\n",
       "      <th>0</th>\n",
       "      <td>Brand new Attic Studio, in a Peranakan Conserv...</td>\n",
       "      <td>Lorong 34 Geylang</td>\n",
       "      <td>3,000</td>\n",
       "      <td>400 sqft</td>\n",
       "      <td>1</td>\n",
       "      <td>1.0</td>\n",
       "      <td>\\nApartment\\nFully Furnished\\n</td>\n",
       "      <td>NaN</td>\n",
       "      <td>One and only attic studio! Beautifully done up...</td>\n",
       "    </tr>\n",
       "    <tr>\n",
       "      <th>1</th>\n",
       "      <td>Astor</td>\n",
       "      <td>51C Lengkong Empat</td>\n",
       "      <td>2,000</td>\n",
       "      <td>1130 sqft</td>\n",
       "      <td>Room</td>\n",
       "      <td>NaN</td>\n",
       "      <td>\\nApartment\\nFully Furnished\\n</td>\n",
       "      <td>11 mins (810 m) to DT28 Kaki Bukit MRT</td>\n",
       "      <td>Comes with In House Maid</td>\n",
       "    </tr>\n",
       "    <tr>\n",
       "      <th>2</th>\n",
       "      <td>Springhill Terrace</td>\n",
       "      <td>Sunrise avenue</td>\n",
       "      <td>7,400</td>\n",
       "      <td>3800 sqft</td>\n",
       "      <td>5</td>\n",
       "      <td>4.0</td>\n",
       "      <td>\\nApartment\\nFully Furnished\\n</td>\n",
       "      <td>NaN</td>\n",
       "      <td>Close to MRT and short drive to French, Austra...</td>\n",
       "    </tr>\n",
       "    <tr>\n",
       "      <th>3</th>\n",
       "      <td>704 Yishun Avenue 5</td>\n",
       "      <td>704 Yishun Avenue 5</td>\n",
       "      <td>1,000</td>\n",
       "      <td>120 sqft</td>\n",
       "      <td>Room</td>\n",
       "      <td>NaN</td>\n",
       "      <td>\\nApartment\\nFully Furnished\\n</td>\n",
       "      <td>9 mins (700 m) to NS13 Yishun MRT</td>\n",
       "      <td>Room for 1 or 2 single ladies</td>\n",
       "    </tr>\n",
       "    <tr>\n",
       "      <th>4</th>\n",
       "      <td>Espada</td>\n",
       "      <td>48 Saint Thomas Walk</td>\n",
       "      <td>4,300</td>\n",
       "      <td>689 sqft</td>\n",
       "      <td>1</td>\n",
       "      <td>1.0</td>\n",
       "      <td>\\nApartment\\nFully Furnished\\n</td>\n",
       "      <td>6 mins (420 m) to NS23 Somerset MRT</td>\n",
       "      <td>All units virtual online viewing available! An...</td>\n",
       "    </tr>\n",
       "  </tbody>\n",
       "</table>\n",
       "</div>"
      ],
      "text/plain": [
       "                                                name               address  \\\n",
       "0  Brand new Attic Studio, in a Peranakan Conserv...     Lorong 34 Geylang   \n",
       "1                                              Astor    51C Lengkong Empat   \n",
       "2                                 Springhill Terrace        Sunrise avenue   \n",
       "3                                704 Yishun Avenue 5   704 Yishun Avenue 5   \n",
       "4                                             Espada  48 Saint Thomas Walk   \n",
       "\n",
       "    price       size bedrooms  bathrooms   property_type_furnishing_year  \\\n",
       "0  3,000    400 sqft        1        1.0  \\nApartment\\nFully Furnished\\n   \n",
       "1  2,000   1130 sqft     Room        NaN  \\nApartment\\nFully Furnished\\n   \n",
       "2  7,400   3800 sqft        5        4.0  \\nApartment\\nFully Furnished\\n   \n",
       "3  1,000    120 sqft     Room        NaN  \\nApartment\\nFully Furnished\\n   \n",
       "4  4,300    689 sqft        1        1.0  \\nApartment\\nFully Furnished\\n   \n",
       "\n",
       "                             mrt_distance  \\\n",
       "0                                     NaN   \n",
       "1  11 mins (810 m) to DT28 Kaki Bukit MRT   \n",
       "2                                     NaN   \n",
       "3       9 mins (700 m) to NS13 Yishun MRT   \n",
       "4     6 mins (420 m) to NS23 Somerset MRT   \n",
       "\n",
       "                                   agent_description  \n",
       "0  One and only attic studio! Beautifully done up...  \n",
       "1                           Comes with In House Maid  \n",
       "2  Close to MRT and short drive to French, Austra...  \n",
       "3                      Room for 1 or 2 single ladies  \n",
       "4  All units virtual online viewing available! An...  "
      ]
     },
     "execution_count": 4,
     "metadata": {},
     "output_type": "execute_result"
    }
   ],
   "source": [
    "# Show top five rows\n",
    "df.head()"
   ]
  },
  {
   "cell_type": "markdown",
   "id": "b7512457",
   "metadata": {},
   "source": [
    "# Remove duplicates"
   ]
  },
  {
   "cell_type": "code",
   "execution_count": 5,
   "id": "10dfc32d",
   "metadata": {},
   "outputs": [
    {
     "data": {
      "text/plain": [
       "False    5082\n",
       "True      278\n",
       "dtype: int64"
      ]
     },
     "execution_count": 5,
     "metadata": {},
     "output_type": "execute_result"
    }
   ],
   "source": [
    "# Diagnose duplicates\n",
    "df.duplicated().value_counts()"
   ]
  },
  {
   "cell_type": "code",
   "execution_count": 6,
   "id": "45f4a943",
   "metadata": {},
   "outputs": [],
   "source": [
    "# Remove duplicates\n",
    "df = df.drop_duplicates().copy()"
   ]
  },
  {
   "cell_type": "code",
   "execution_count": 7,
   "id": "4de869e9",
   "metadata": {},
   "outputs": [
    {
     "name": "stdout",
     "output_type": "stream",
     "text": [
      "<class 'pandas.core.frame.DataFrame'>\n",
      "Int64Index: 5082 entries, 0 to 5359\n",
      "Data columns (total 9 columns):\n",
      " #   Column                         Non-Null Count  Dtype  \n",
      "---  ------                         --------------  -----  \n",
      " 0   name                           5082 non-null   object \n",
      " 1   address                        4754 non-null   object \n",
      " 2   price                          5082 non-null   object \n",
      " 3   size                           5082 non-null   object \n",
      " 4   bedrooms                       5082 non-null   object \n",
      " 5   bathrooms                      4680 non-null   float64\n",
      " 6   property_type_furnishing_year  5082 non-null   object \n",
      " 7   mrt_distance                   4418 non-null   object \n",
      " 8   agent_description              5082 non-null   object \n",
      "dtypes: float64(1), object(8)\n",
      "memory usage: 397.0+ KB\n"
     ]
    }
   ],
   "source": [
    "# Show dataframe info\n",
    "df.info()"
   ]
  },
  {
   "cell_type": "markdown",
   "id": "eeffeabb",
   "metadata": {},
   "source": [
    "# Feature engineering"
   ]
  },
  {
   "cell_type": "markdown",
   "id": "4572ef89",
   "metadata": {},
   "source": [
    "## Latitude and longitude"
   ]
  },
  {
   "cell_type": "code",
   "execution_count": 8,
   "id": "ef6b7670",
   "metadata": {},
   "outputs": [
    {
     "data": {
      "text/plain": [
       "True"
      ]
     },
     "execution_count": 8,
     "metadata": {},
     "output_type": "execute_result"
    }
   ],
   "source": [
    "# Load environment variables from .env file\n",
    "load_dotenv()"
   ]
  },
  {
   "cell_type": "code",
   "execution_count": 9,
   "id": "33d3194b",
   "metadata": {},
   "outputs": [],
   "source": [
    "# Get Google Maps API key from .env \n",
    "google_maps_api_key = os.getenv(\"google_maps_api_key\")"
   ]
  },
  {
   "cell_type": "code",
   "execution_count": 10,
   "id": "baa5ec80",
   "metadata": {},
   "outputs": [],
   "source": [
    "# Create function to get latitude and longitude from an address \n",
    "def get_latitude_longitude(address):\n",
    "    # Base URL for the Google Maps Geocoding API\n",
    "    base_url = \"https://maps.googleapis.com/maps/api/geocode/json\"\n",
    "    \n",
    "    # Parameters for the Geocoding API request\n",
    "    params = {\n",
    "        \"address\": f\"{address}, Singapore\",\n",
    "        \"key\": google_maps_api_key\n",
    "    }\n",
    "    \n",
    "    # Send Geocoding API request and store the response\n",
    "    response = requests.get(base_url, params=params)\n",
    "    data = response.json()\n",
    "    \n",
    "    # Check if request was successful\n",
    "    if data[\"status\"] == \"OK\":\n",
    "        # Extract latitude and longitude from the response\n",
    "        location = data[\"results\"][0][\"geometry\"][\"location\"]\n",
    "        latitude = location[\"lat\"]\n",
    "        longitude = location[\"lng\"]\n",
    "    else:\n",
    "        # Assign missing values and print error message if the request failed\n",
    "        latitude = np.nan\n",
    "        longitude = np.nan\n",
    "        print(f\"Geocoding request failed for {address}\")\n",
    "    \n",
    "    # Return latitude and longitude\n",
    "    return (latitude, longitude)"
   ]
  },
  {
   "cell_type": "code",
   "execution_count": 11,
   "id": "af4e1c4d",
   "metadata": {},
   "outputs": [],
   "source": [
    "# Apply function to create latitude and longitude column (cost: ~25$)\n",
    "# df[[\"latitude\", \"longitude\"]] = df[\"address\"].apply(get_latitude_longitude).apply(pd.Series)"
   ]
  },
  {
   "cell_type": "code",
   "execution_count": 12,
   "id": "fc3e1af4",
   "metadata": {},
   "outputs": [],
   "source": [
    "# Save enriched dataframe as csv\n",
    "# df.to_csv(\"data/rental_prices_singapore_2.csv\", index=False)"
   ]
  },
  {
   "cell_type": "code",
   "execution_count": 13,
   "id": "de504e4f",
   "metadata": {},
   "outputs": [],
   "source": [
    "# Load enriched data\n",
    "df = pd.read_csv(\"data/rental_prices_singapore_2.csv\")"
   ]
  },
  {
   "cell_type": "code",
   "execution_count": 14,
   "id": "e92369f0",
   "metadata": {
    "scrolled": true
   },
   "outputs": [
    {
     "name": "stdout",
     "output_type": "stream",
     "text": [
      "<class 'pandas.core.frame.DataFrame'>\n",
      "RangeIndex: 5082 entries, 0 to 5081\n",
      "Data columns (total 11 columns):\n",
      " #   Column                         Non-Null Count  Dtype  \n",
      "---  ------                         --------------  -----  \n",
      " 0   name                           5082 non-null   object \n",
      " 1   address                        4754 non-null   object \n",
      " 2   price                          5082 non-null   object \n",
      " 3   size                           5082 non-null   object \n",
      " 4   bedrooms                       5082 non-null   object \n",
      " 5   bathrooms                      4680 non-null   float64\n",
      " 6   property_type_furnishing_year  5082 non-null   object \n",
      " 7   mrt_distance                   4418 non-null   object \n",
      " 8   agent_description              5082 non-null   object \n",
      " 9   latitude                       5082 non-null   float64\n",
      " 10  longitude                      5082 non-null   float64\n",
      "dtypes: float64(3), object(8)\n",
      "memory usage: 436.9+ KB\n"
     ]
    }
   ],
   "source": [
    "# Show dataframe info\n",
    "df.info()"
   ]
  },
  {
   "cell_type": "markdown",
   "id": "35a60135",
   "metadata": {},
   "source": [
    "## Meters to school"
   ]
  },
  {
   "cell_type": "code",
   "execution_count": 15,
   "id": "36235d65",
   "metadata": {},
   "outputs": [],
   "source": [
    "# Create function to get latitude and longitude of the closest school \n",
    "def get_school_location(row):\n",
    "    # Get latitude and longitude of the property\n",
    "    property_latitude = row[\"latitude\"]\n",
    "    property_longitude = row[\"longitude\"]\n",
    "    \n",
    "    # Base URL for the Google Maps Places Nearby Search API\n",
    "    base_url = \"https://maps.googleapis.com/maps/api/place/nearbysearch/json\"\n",
    "\n",
    "    # Parameters for the Nearby Search API request\n",
    "    params = {\n",
    "        \"location\": f\"{property_latitude},{property_longitude}\",\n",
    "        \"radius\": 1000,  # Search radius in meters\n",
    "        \"type\": \"school\",\n",
    "        \"key\": google_maps_api_key\n",
    "    }\n",
    "\n",
    "    # Send the Nearby Search API request and store the response\n",
    "    response = requests.get(base_url, params=params)\n",
    "    data = response.json()\n",
    "    \n",
    "    # Extract latitude and longitude of the closest school from the response\n",
    "    if \"results\" in data and data[\"results\"]:\n",
    "        closest_school = data[\"results\"][0]\n",
    "        school_name = closest_school[\"name\"]\n",
    "        school_location = closest_school[\"geometry\"][\"location\"]\n",
    "        school_latitude = school_location[\"lat\"]\n",
    "        school_longitude = school_location[\"lng\"]\n",
    "        print(f\"Closest school: {school_name}\")\n",
    "        print(f\"Latitude: {school_latitude}, Longitude: {school_longitude}\")\n",
    "    else:\n",
    "        school_latitude = np.nan\n",
    "        school_longitude = np.nan\n",
    "        print(\"No schools found nearby.\")\n",
    "    return (school_latitude, school_longitude)"
   ]
  },
  {
   "cell_type": "code",
   "execution_count": 16,
   "id": "9c5c4029",
   "metadata": {},
   "outputs": [],
   "source": [
    "# Apply function to create the \"school_location\" column (cost: ~160$)\n",
    "# df[\"school_location\"] = df.apply(get_school_location, axis=1)"
   ]
  },
  {
   "cell_type": "code",
   "execution_count": 17,
   "id": "8ea00dec",
   "metadata": {},
   "outputs": [],
   "source": [
    "# Save enriched dataframe as csv\n",
    "# df.to_csv(\"data/rental_prices_singapore_3.csv\", index=False)"
   ]
  },
  {
   "cell_type": "code",
   "execution_count": 18,
   "id": "a7bb1c79",
   "metadata": {},
   "outputs": [],
   "source": [
    "# Load enriched data\n",
    "df = pd.read_csv(\"data/rental_prices_singapore_3.csv\")"
   ]
  },
  {
   "cell_type": "code",
   "execution_count": 19,
   "id": "f1078e99",
   "metadata": {
    "scrolled": true
   },
   "outputs": [
    {
     "name": "stdout",
     "output_type": "stream",
     "text": [
      "<class 'pandas.core.frame.DataFrame'>\n",
      "RangeIndex: 5082 entries, 0 to 5081\n",
      "Data columns (total 12 columns):\n",
      " #   Column                         Non-Null Count  Dtype  \n",
      "---  ------                         --------------  -----  \n",
      " 0   name                           5082 non-null   object \n",
      " 1   address                        4754 non-null   object \n",
      " 2   price                          5082 non-null   object \n",
      " 3   size                           5082 non-null   object \n",
      " 4   bedrooms                       5082 non-null   object \n",
      " 5   bathrooms                      4680 non-null   float64\n",
      " 6   property_type_furnishing_year  5082 non-null   object \n",
      " 7   mrt_distance                   4418 non-null   object \n",
      " 8   agent_description              5082 non-null   object \n",
      " 9   latitude                       5082 non-null   float64\n",
      " 10  longitude                      5082 non-null   float64\n",
      " 11  school_location                5065 non-null   object \n",
      "dtypes: float64(3), object(9)\n",
      "memory usage: 476.6+ KB\n"
     ]
    }
   ],
   "source": [
    "# Show dataframe info\n",
    "df.info()"
   ]
  },
  {
   "cell_type": "code",
   "execution_count": 20,
   "id": "6ee06cfd",
   "metadata": {
    "scrolled": true
   },
   "outputs": [],
   "source": [
    "# Create function to get meters to the closest school \n",
    "def get_meters_to_school(row):\n",
    "    # Get latitude and longitude of the property\n",
    "    property_latitude = row[\"latitude\"]\n",
    "    property_longitude = row[\"longitude\"]\n",
    "    \n",
    "    # Get latitude and longitude of the school\n",
    "    if pd.isna(row[\"school_location\"]):\n",
    "        return np.nan\n",
    "    # Remove parentheses and split the string by comma\n",
    "    latitude_str, longitude_str = row[\"school_location\"].strip(\"()\").split(\",\")\n",
    "    # Convert the strings to float values\n",
    "    school_latitude = float(latitude_str)\n",
    "    school_longitude = float(longitude_str)\n",
    "\n",
    "    # Base URL for the Google Maps Distance Matrix API\n",
    "    base_url = \"https://maps.googleapis.com/maps/api/distancematrix/json\"\n",
    "    \n",
    "    # Parameters for the Distance Matrix API request\n",
    "    params = {\n",
    "        \"origins\": f\"{property_latitude},{property_longitude}\",\n",
    "        \"destinations\": f\"{school_latitude},{school_longitude}\",\n",
    "        \"key\": google_maps_api_key\n",
    "    }\n",
    "\n",
    "    # Send the Distance Matrix API request and store the response\n",
    "    response = requests.get(base_url, params=params)\n",
    "    data = response.json()\n",
    "\n",
    "    # Process the response to get the distance\n",
    "    if \"rows\" in data and data[\"rows\"]:\n",
    "        meters_to_school = data[\"rows\"][0][\"elements\"][0][\"distance\"][\"value\"]\n",
    "        print(f\"Distance between property and closest school: {meters_to_school} meters\")\n",
    "    else:\n",
    "        print(\"No distance information available.\")\n",
    "        return np.nan\n",
    "    return meters_to_school"
   ]
  },
  {
   "cell_type": "code",
   "execution_count": 21,
   "id": "b0a6ffc8",
   "metadata": {},
   "outputs": [],
   "source": [
    "# Apply function to create the \"meters_to_school\" column (cost: ~25$)\n",
    "# df[\"meters_to_school\"] = df.apply(get_meters_to_school, axis=1)"
   ]
  },
  {
   "cell_type": "code",
   "execution_count": 22,
   "id": "5bf73705",
   "metadata": {},
   "outputs": [],
   "source": [
    "# Save enriched dataframe as csv\n",
    "# df.to_csv(\"data/rental_prices_singapore_4.csv\", index=False)"
   ]
  },
  {
   "cell_type": "code",
   "execution_count": 23,
   "id": "7e7f3dca",
   "metadata": {},
   "outputs": [],
   "source": [
    "# Load enriched data\n",
    "df = pd.read_csv(\"data/rental_prices_singapore_4.csv\")"
   ]
  },
  {
   "cell_type": "code",
   "execution_count": 24,
   "id": "222007b7",
   "metadata": {},
   "outputs": [
    {
     "name": "stdout",
     "output_type": "stream",
     "text": [
      "<class 'pandas.core.frame.DataFrame'>\n",
      "RangeIndex: 5082 entries, 0 to 5081\n",
      "Data columns (total 13 columns):\n",
      " #   Column                         Non-Null Count  Dtype  \n",
      "---  ------                         --------------  -----  \n",
      " 0   name                           5082 non-null   object \n",
      " 1   address                        4754 non-null   object \n",
      " 2   price                          5082 non-null   object \n",
      " 3   size                           5082 non-null   object \n",
      " 4   bedrooms                       5082 non-null   object \n",
      " 5   bathrooms                      4680 non-null   float64\n",
      " 6   property_type_furnishing_year  5082 non-null   object \n",
      " 7   mrt_distance                   4418 non-null   object \n",
      " 8   agent_description              5082 non-null   object \n",
      " 9   latitude                       5082 non-null   float64\n",
      " 10  longitude                      5082 non-null   float64\n",
      " 11  school_location                5065 non-null   object \n",
      " 12  meters_to_school               5065 non-null   float64\n",
      "dtypes: float64(4), object(9)\n",
      "memory usage: 516.3+ KB\n"
     ]
    }
   ],
   "source": [
    "# Show dataframe info\n",
    "df.info()"
   ]
  },
  {
   "cell_type": "markdown",
   "id": "dd18f80a",
   "metadata": {},
   "source": [
    "### Data enrichment: Fill in missing addresses"
   ]
  },
  {
   "cell_type": "code",
   "execution_count": 25,
   "id": "6b270746",
   "metadata": {},
   "outputs": [],
   "source": [
    "# Create function to get missing address based on the property name via Google Maps API\n",
    "def get_missing_address(row):\n",
    "    # Check if address is missing\n",
    "    if pd.isna(row[\"address\"]): \n",
    "        # Base URL for the Google Maps Find Place API\n",
    "        base_url = \"https://maps.googleapis.com/maps/api/place/findplacefromtext/json\"\n",
    "\n",
    "        # Parameters for the Find Place API request\n",
    "        params = {\n",
    "            \"input\": f\"{row['name']}, Singapore\",\n",
    "            \"inputtype\": \"textquery\",\n",
    "            \"fields\": \"formatted_address\",\n",
    "            \"key\": google_maps_api_key\n",
    "        }\n",
    "\n",
    "        # Send Find Place API request and store the response\n",
    "        response = requests.get(base_url, params=params)\n",
    "        data = response.json()\n",
    "\n",
    "        # Check if request was successful\n",
    "        if data[\"status\"] == \"OK\":\n",
    "            # Extract address from the response\n",
    "            address = data[\"candidates\"][0][\"formatted_address\"]\n",
    "        # If no address was found, give notification and use the original value (i.e. np.nan)\n",
    "        else:\n",
    "            print(f\"No address found for {row['name']}\")\n",
    "            address = row[\"address\"]\n",
    "    # If an address is present, use that address\n",
    "    else:\n",
    "        address = row[\"address\"]\n",
    "    # Return address\n",
    "    return address"
   ]
  },
  {
   "cell_type": "code",
   "execution_count": 26,
   "id": "03cdcd8d",
   "metadata": {},
   "outputs": [],
   "source": [
    "# Apply function to get missing addresses and store them in \"address_new\" column (cost: ~2$)\n",
    "# df[\"address_new\"] = df.apply(get_missing_address, axis=1)"
   ]
  },
  {
   "cell_type": "code",
   "execution_count": 27,
   "id": "499ea0de",
   "metadata": {},
   "outputs": [],
   "source": [
    "# Save enriched dataframe as csv\n",
    "# df.to_csv(\"data/rental_prices_singapore_5.csv\", index=False)"
   ]
  },
  {
   "cell_type": "code",
   "execution_count": 28,
   "id": "9c5e34f5",
   "metadata": {},
   "outputs": [],
   "source": [
    "# Load enriched data\n",
    "df = pd.read_csv(\"data/rental_prices_singapore_5.csv\")"
   ]
  },
  {
   "cell_type": "code",
   "execution_count": 29,
   "id": "b3fc09ec",
   "metadata": {
    "scrolled": true
   },
   "outputs": [
    {
     "name": "stdout",
     "output_type": "stream",
     "text": [
      "<class 'pandas.core.frame.DataFrame'>\n",
      "RangeIndex: 5082 entries, 0 to 5081\n",
      "Data columns (total 14 columns):\n",
      " #   Column                         Non-Null Count  Dtype  \n",
      "---  ------                         --------------  -----  \n",
      " 0   name                           5082 non-null   object \n",
      " 1   address                        4754 non-null   object \n",
      " 2   price                          5082 non-null   object \n",
      " 3   size                           5082 non-null   object \n",
      " 4   bedrooms                       5082 non-null   object \n",
      " 5   bathrooms                      4680 non-null   float64\n",
      " 6   property_type_furnishing_year  5082 non-null   object \n",
      " 7   mrt_distance                   4418 non-null   object \n",
      " 8   agent_description              5082 non-null   object \n",
      " 9   latitude                       5082 non-null   float64\n",
      " 10  longitude                      5082 non-null   float64\n",
      " 11  school_location                5065 non-null   object \n",
      " 12  meters_to_school               5065 non-null   float64\n",
      " 13  address_new                    5012 non-null   object \n",
      "dtypes: float64(4), object(10)\n",
      "memory usage: 556.0+ KB\n"
     ]
    }
   ],
   "source": [
    "# Show dataframe info\n",
    "df.info()"
   ]
  },
  {
   "cell_type": "code",
   "execution_count": 30,
   "id": "9fac10ed",
   "metadata": {},
   "outputs": [
    {
     "name": "stdout",
     "output_type": "stream",
     "text": [
      "Percent missing addresses before: 6.5%\n"
     ]
    }
   ],
   "source": [
    "# Percent missing addresses before\n",
    "print(f'Percent missing addresses before: {100 * pd.isna(df[\"address\"]).sum() / pd.isna(df[\"address\"]).count():.1f}%')"
   ]
  },
  {
   "cell_type": "code",
   "execution_count": 31,
   "id": "6a1a925c",
   "metadata": {},
   "outputs": [
    {
     "name": "stdout",
     "output_type": "stream",
     "text": [
      "Percent missing addresses after: 1.4%\n"
     ]
    }
   ],
   "source": [
    "# Percent missing addresses after \n",
    "print(f'Percent missing addresses after: {100 * pd.isna(df[\"address_new\"]).sum() / pd.isna(df[\"address_new\"]).count():.1f}%')"
   ]
  },
  {
   "cell_type": "markdown",
   "id": "6a75df29",
   "metadata": {},
   "source": [
    "Rerun code below on 01-09-2023 to update info for new addresses"
   ]
  },
  {
   "cell_type": "code",
   "execution_count": 32,
   "id": "f35b3577",
   "metadata": {},
   "outputs": [],
   "source": [
    "# Function to update latitude, longitude, school_location and meters_to_school for new addresses\n",
    "def new_address_update(row):\n",
    "    if pd.isna(row[\"address\"]):\n",
    "        latitude_new, longitude_new = get_latitude_longitude(row[\"address_new\"])        \n",
    "        row[\"latitude\"] = latitude_new\n",
    "        row[\"longitude\"] = longitude_new\n",
    "        row[\"school_location\"] = get_school_location(row)\n",
    "        row[\"meters_to_school\"] = get_meters_to_school(row)\n",
    "    return row"
   ]
  },
  {
   "cell_type": "code",
   "execution_count": 33,
   "id": "b394b07c",
   "metadata": {},
   "outputs": [],
   "source": [
    "# Apply function to update latitude, longitude, school_location and meters_to_school for new addresses\n",
    "# df = df.apply(new_address_update, axis=1).copy()"
   ]
  },
  {
   "cell_type": "code",
   "execution_count": 34,
   "id": "5a0fb564",
   "metadata": {},
   "outputs": [],
   "source": [
    "# Save enriched dataframe as csv\n",
    "# df.to_csv(\"data/rental_prices_singapore_6.csv\", index=False)"
   ]
  },
  {
   "cell_type": "code",
   "execution_count": 35,
   "id": "e5db5c66",
   "metadata": {},
   "outputs": [],
   "source": [
    "# Load enriched data\n",
    "df = pd.read_csv(\"data/rental_prices_singapore_6.csv\")"
   ]
  },
  {
   "cell_type": "code",
   "execution_count": 36,
   "id": "12be631c",
   "metadata": {
    "scrolled": true
   },
   "outputs": [
    {
     "name": "stdout",
     "output_type": "stream",
     "text": [
      "<class 'pandas.core.frame.DataFrame'>\n",
      "RangeIndex: 5082 entries, 0 to 5081\n",
      "Data columns (total 14 columns):\n",
      " #   Column                         Non-Null Count  Dtype  \n",
      "---  ------                         --------------  -----  \n",
      " 0   name                           5082 non-null   object \n",
      " 1   address                        4754 non-null   object \n",
      " 2   price                          5082 non-null   object \n",
      " 3   size                           5082 non-null   object \n",
      " 4   bedrooms                       5082 non-null   object \n",
      " 5   bathrooms                      4680 non-null   float64\n",
      " 6   property_type_furnishing_year  5082 non-null   object \n",
      " 7   mrt_distance                   4418 non-null   object \n",
      " 8   agent_description              5082 non-null   object \n",
      " 9   latitude                       4754 non-null   float64\n",
      " 10  longitude                      4754 non-null   float64\n",
      " 11  school_location                4737 non-null   object \n",
      " 12  meters_to_school               4737 non-null   float64\n",
      " 13  address_new                    5012 non-null   object \n",
      "dtypes: float64(4), object(10)\n",
      "memory usage: 556.0+ KB\n"
     ]
    }
   ],
   "source": [
    "# Show dataframe info\n",
    "df.info()"
   ]
  },
  {
   "cell_type": "markdown",
   "id": "e300aaca",
   "metadata": {},
   "source": [
    "## Good restaurants nearby"
   ]
  },
  {
   "cell_type": "code",
   "execution_count": 37,
   "id": "5a0016eb",
   "metadata": {},
   "outputs": [],
   "source": [
    "# Create function to get the average Google Maps rating of nearby restaurants \n",
    "def get_restaurants_rating(row):\n",
    "    # Get latitude and longitude of the property\n",
    "    property_latitude = row[\"latitude\"]\n",
    "    property_longitude = row[\"longitude\"]\n",
    "    \n",
    "    # Base URL for the Google Maps Places Nearby Search API\n",
    "    base_url = \"https://maps.googleapis.com/maps/api/place/nearbysearch/json\"\n",
    "\n",
    "    # Parameters for the Nearby Search API request\n",
    "    params = {\n",
    "        \"location\": f\"{property_latitude},{property_longitude}\",\n",
    "        \"radius\": 1000,  # Search radius in meters\n",
    "        \"type\": \"restaurant\",\n",
    "        \"key\": google_maps_api_key\n",
    "    }\n",
    "\n",
    "    # Send the Nearby Search API request and store the response\n",
    "    response = requests.get(base_url, params=params)\n",
    "    data = response.json()\n",
    "    \n",
    "    # Process the response to get the average restaurant rating\n",
    "    if \"results\" in data and data[\"results\"]:\n",
    "        # Extract restaurant ratings as a list, assigning np.nan for missing ratings\n",
    "        rating_list = [restaurant.get(\"rating\", np.nan) for restaurant in data.get(\"results\")]\n",
    "        # Calculate average rating, ignoring np.nan values\n",
    "        average_rating = np.nanmean(rating_list)\n",
    "        print(f\"Number of restaurants: {len(rating_list)}\")\n",
    "        print(f\"Number of ratings: {len([rating for rating in rating_list if not np.isnan(rating)])}\")\n",
    "        print(f\"Average rating: {average_rating:.2f}\")\n",
    "    else:\n",
    "        print(\"No restaurants found nearby.\")\n",
    "        return np.nan\n",
    "    return average_rating"
   ]
  },
  {
   "cell_type": "code",
   "execution_count": 38,
   "id": "57a888f2",
   "metadata": {},
   "outputs": [],
   "source": [
    "# Apply function to create the \"restaurants_rating\" column (cost: ~160$)\n",
    "# df[\"restaurants_rating\"] = df.apply(get_restaurants_rating, axis=1)"
   ]
  },
  {
   "cell_type": "code",
   "execution_count": 39,
   "id": "2095b9c0",
   "metadata": {},
   "outputs": [],
   "source": [
    "# Save enriched dataframe as csv\n",
    "# df.to_csv(\"data/rental_prices_singapore_7.csv\", index=False)"
   ]
  },
  {
   "cell_type": "code",
   "execution_count": 40,
   "id": "d372ef24",
   "metadata": {},
   "outputs": [],
   "source": [
    "# Load enriched data\n",
    "# df = pd.read_csv(\"data/rental_prices_singapore_7.csv\")"
   ]
  },
  {
   "cell_type": "code",
   "execution_count": 41,
   "id": "e09d4646",
   "metadata": {},
   "outputs": [
    {
     "name": "stdout",
     "output_type": "stream",
     "text": [
      "<class 'pandas.core.frame.DataFrame'>\n",
      "RangeIndex: 5082 entries, 0 to 5081\n",
      "Data columns (total 14 columns):\n",
      " #   Column                         Non-Null Count  Dtype  \n",
      "---  ------                         --------------  -----  \n",
      " 0   name                           5082 non-null   object \n",
      " 1   address                        4754 non-null   object \n",
      " 2   price                          5082 non-null   object \n",
      " 3   size                           5082 non-null   object \n",
      " 4   bedrooms                       5082 non-null   object \n",
      " 5   bathrooms                      4680 non-null   float64\n",
      " 6   property_type_furnishing_year  5082 non-null   object \n",
      " 7   mrt_distance                   4418 non-null   object \n",
      " 8   agent_description              5082 non-null   object \n",
      " 9   latitude                       4754 non-null   float64\n",
      " 10  longitude                      4754 non-null   float64\n",
      " 11  school_location                4737 non-null   object \n",
      " 12  meters_to_school               4737 non-null   float64\n",
      " 13  address_new                    5012 non-null   object \n",
      "dtypes: float64(4), object(10)\n",
      "memory usage: 556.0+ KB\n"
     ]
    }
   ],
   "source": [
    "# Show dataframe info\n",
    "df.info()"
   ]
  },
  {
   "cell_type": "markdown",
   "id": "f919d244",
   "metadata": {},
   "source": [
    "## Meters to central business district"
   ]
  },
  {
   "cell_type": "code",
   "execution_count": 42,
   "id": "aeccd6f8",
   "metadata": {},
   "outputs": [],
   "source": [
    "# Create function to get meters to central business district \n",
    "def get_meters_to_cbd(row):\n",
    "    # Get latitude and longitude of the property\n",
    "    property_latitude = row[\"latitude\"]\n",
    "    property_longitude = row[\"longitude\"]\n",
    "    \n",
    "    # Latitude and longitude of central business district (i.e. Raffles Place)\n",
    "    cbd_latitude = 1.284184\n",
    "    cbd_longitude = 103.85151\n",
    "\n",
    "    # Base URL for the Google Maps Distance Matrix API\n",
    "    base_url = \"https://maps.googleapis.com/maps/api/distancematrix/json\"\n",
    "    \n",
    "    # Parameters for the Distance Matrix API request\n",
    "    params = {\n",
    "        \"origins\": f\"{property_latitude},{property_longitude}\",\n",
    "        \"destinations\": f\"{cbd_latitude},{cbd_longitude}\",\n",
    "        \"key\": google_maps_api_key\n",
    "    }\n",
    "\n",
    "    # Send the Distance Matrix API request and store the response\n",
    "    response = requests.get(base_url, params=params)\n",
    "    data = response.json()\n",
    "\n",
    "    # Process the response to get the distance\n",
    "    if \"rows\" in data and data[\"rows\"]:\n",
    "        meters_to_cbd = data[\"rows\"][0][\"elements\"][0][\"distance\"][\"value\"]\n",
    "        print(f\"Distance between property and CBD: {meters_to_cbd} meters\")\n",
    "    else:\n",
    "        print(\"No distance information available.\")\n",
    "        return np.nan\n",
    "    return meters_to_cbd"
   ]
  },
  {
   "cell_type": "code",
   "execution_count": 43,
   "id": "5589edf3",
   "metadata": {},
   "outputs": [],
   "source": [
    "# Apply function to create the \"meters_to_cbd\" column (cost: ~25$)\n",
    "# df[\"meters_to_cbd\"] = df.apply(get_meters_to_cbd, axis=1)"
   ]
  },
  {
   "cell_type": "code",
   "execution_count": 44,
   "id": "001f4dff",
   "metadata": {},
   "outputs": [],
   "source": [
    "# Save enriched dataframe as csv\n",
    "# df.to_csv(\"data/rental_prices_singapore_8.csv\", index=False)"
   ]
  },
  {
   "cell_type": "code",
   "execution_count": 45,
   "id": "84745c95",
   "metadata": {},
   "outputs": [],
   "source": [
    "# Load enriched data\n",
    "# df = pd.read_csv(\"data/rental_prices_singapore_8.csv\")"
   ]
  },
  {
   "cell_type": "code",
   "execution_count": 46,
   "id": "5eeb9031",
   "metadata": {},
   "outputs": [
    {
     "name": "stdout",
     "output_type": "stream",
     "text": [
      "<class 'pandas.core.frame.DataFrame'>\n",
      "RangeIndex: 5082 entries, 0 to 5081\n",
      "Data columns (total 14 columns):\n",
      " #   Column                         Non-Null Count  Dtype  \n",
      "---  ------                         --------------  -----  \n",
      " 0   name                           5082 non-null   object \n",
      " 1   address                        4754 non-null   object \n",
      " 2   price                          5082 non-null   object \n",
      " 3   size                           5082 non-null   object \n",
      " 4   bedrooms                       5082 non-null   object \n",
      " 5   bathrooms                      4680 non-null   float64\n",
      " 6   property_type_furnishing_year  5082 non-null   object \n",
      " 7   mrt_distance                   4418 non-null   object \n",
      " 8   agent_description              5082 non-null   object \n",
      " 9   latitude                       4754 non-null   float64\n",
      " 10  longitude                      4754 non-null   float64\n",
      " 11  school_location                4737 non-null   object \n",
      " 12  meters_to_school               4737 non-null   float64\n",
      " 13  address_new                    5012 non-null   object \n",
      "dtypes: float64(4), object(10)\n",
      "memory usage: 556.0+ KB\n"
     ]
    }
   ],
   "source": [
    "# Show dataframe info\n",
    "df.info()"
   ]
  },
  {
   "cell_type": "markdown",
   "id": "67d00b42",
   "metadata": {},
   "source": [
    "# Feature extraction"
   ]
  },
  {
   "cell_type": "markdown",
   "id": "3b2e25f8",
   "metadata": {},
   "source": [
    "## Property type"
   ]
  },
  {
   "cell_type": "code",
   "execution_count": 47,
   "id": "43009e06",
   "metadata": {},
   "outputs": [],
   "source": [
    "# Create function to extract property type \n",
    "def extract_type(string):\n",
    "    if \"Condominium\" in string:\n",
    "        return \"Condominium\"\n",
    "    elif \"Apartment\" in string:\n",
    "        return \"Apartment\"\n",
    "    elif \"HDB Flat\" in string:\n",
    "        return \"HDB Flat\"\n",
    "    elif \"Semi-Detached House\" in string:\n",
    "        return \"Semi-Detached House\"\n",
    "    elif \"Good Class Bungalow\" in string:\n",
    "        return \"Good Class Bungalow\"\n",
    "    elif \"Corner Terrace\" in string:\n",
    "        return \"Corner Terrace\"\n",
    "    elif \"Detached House\" in string:\n",
    "        return \"Detached House\"\n",
    "    elif \"Executive Condominium\" in string:\n",
    "        return \"Executive Condominium\"\n",
    "    elif \"Terraced House\" in string:\n",
    "        return \"Terraced House\"\n",
    "    elif \"Bungalow House\" in string:\n",
    "        return \"Bungalow House\"\n",
    "    elif \"Cluster House\" in string:\n",
    "        return \"Cluster House\"\n",
    "    else:\n",
    "        return np.nan"
   ]
  },
  {
   "cell_type": "code",
   "execution_count": 48,
   "id": "f3fac230",
   "metadata": {},
   "outputs": [],
   "source": [
    "# Apply function to create property type column\n",
    "df[\"property_type\"] = df[\"property_type_furnishing_year\"].apply(extract_type)"
   ]
  },
  {
   "cell_type": "code",
   "execution_count": 49,
   "id": "dc920c4c",
   "metadata": {
    "scrolled": true
   },
   "outputs": [
    {
     "data": {
      "text/plain": [
       "Condominium            2770\n",
       "Apartment               905\n",
       "HDB Flat                763\n",
       "Semi-Detached House     188\n",
       "Good Class Bungalow     174\n",
       "Corner Terrace          103\n",
       "Detached House           79\n",
       "Terraced House           40\n",
       "Bungalow House           40\n",
       "Cluster House            20\n",
       "Name: property_type, dtype: int64"
      ]
     },
     "execution_count": 49,
     "metadata": {},
     "output_type": "execute_result"
    }
   ],
   "source": [
    "# Frequencies of property types\n",
    "df[\"property_type\"].value_counts()"
   ]
  },
  {
   "cell_type": "markdown",
   "id": "2fdf77fb",
   "metadata": {},
   "source": [
    "## Furnishing"
   ]
  },
  {
   "cell_type": "code",
   "execution_count": 50,
   "id": "9fa6807c",
   "metadata": {},
   "outputs": [],
   "source": [
    "# Create function to extract information about furnishing  \n",
    "def extract_furnishing(string):\n",
    "    if \"Fully Furnished\" in string:\n",
    "        return \"Fully Furnished\"\n",
    "    elif \"Partially Furnished\" in string:\n",
    "        return \"Partially Furnished\"\n",
    "    elif \"Unfurnished\" in string:\n",
    "        return \"Unfurnished\"\n",
    "    else:\n",
    "        return np.nan"
   ]
  },
  {
   "cell_type": "code",
   "execution_count": 51,
   "id": "61bc98d8",
   "metadata": {},
   "outputs": [],
   "source": [
    "# Apply function to create furnishing column\n",
    "df[\"furnishing\"] = df[\"property_type_furnishing_year\"].apply(extract_furnishing)"
   ]
  },
  {
   "cell_type": "code",
   "execution_count": 52,
   "id": "e3a3baad",
   "metadata": {},
   "outputs": [
    {
     "data": {
      "text/plain": [
       "Partially Furnished    3058\n",
       "Fully Furnished        1600\n",
       "Unfurnished              84\n",
       "Name: furnishing, dtype: int64"
      ]
     },
     "execution_count": 52,
     "metadata": {},
     "output_type": "execute_result"
    }
   ],
   "source": [
    "# Frequencies of furnishing\n",
    "df[\"furnishing\"].value_counts()"
   ]
  },
  {
   "cell_type": "markdown",
   "id": "e3240de4",
   "metadata": {},
   "source": [
    "## Built year"
   ]
  },
  {
   "cell_type": "code",
   "execution_count": 53,
   "id": "0b5ec883",
   "metadata": {},
   "outputs": [],
   "source": [
    "# Create function to extract built year \n",
    "def extract_year(string):\n",
    "    year = re.search(r\"\\b\\d{4}\\b\", string)\n",
    "    if year:\n",
    "        return year.group()\n",
    "    else:\n",
    "        return np.nan"
   ]
  },
  {
   "cell_type": "code",
   "execution_count": 54,
   "id": "37d87a63",
   "metadata": {},
   "outputs": [],
   "source": [
    "# Apply function to create built year column\n",
    "df[\"year\"] = df[\"property_type_furnishing_year\"].apply(extract_year).astype(\"Int32\")"
   ]
  },
  {
   "cell_type": "code",
   "execution_count": 55,
   "id": "2db3febf",
   "metadata": {},
   "outputs": [
    {
     "data": {
      "text/plain": [
       "count    4398.000000\n",
       "mean     2009.644156\n",
       "std        12.091740\n",
       "min      1971.000000\n",
       "25%      2004.000000\n",
       "50%      2012.000000\n",
       "75%      2018.000000\n",
       "max      2024.000000\n",
       "Name: year, dtype: float64"
      ]
     },
     "execution_count": 55,
     "metadata": {},
     "output_type": "execute_result"
    }
   ],
   "source": [
    "# Descriptive statistics of built year\n",
    "df[\"year\"].describe()"
   ]
  },
  {
   "cell_type": "markdown",
   "id": "249e3cfc",
   "metadata": {},
   "source": [
    "## Meters to MRT"
   ]
  },
  {
   "cell_type": "code",
   "execution_count": 56,
   "id": "ef7ac06c",
   "metadata": {},
   "outputs": [],
   "source": [
    "# Extract MRT distance in meters\n",
    "df[\"meters_to_mrt\"] = df[\"mrt_distance\"].str.split(r\"m\\)\").str[0].str.split(r\"\\(\").str[1].astype(\"Int32\")"
   ]
  },
  {
   "cell_type": "markdown",
   "id": "d26555e0",
   "metadata": {},
   "source": [
    "## Renovated"
   ]
  },
  {
   "cell_type": "code",
   "execution_count": 57,
   "id": "34854761",
   "metadata": {},
   "outputs": [],
   "source": [
    "# Create function to extract information about renovation  \n",
    "def extract_renovated(string):\n",
    "    if \"renovated\" in string.lower() or \"renovation\" in string.lower():\n",
    "        return True\n",
    "    else:\n",
    "        return False"
   ]
  },
  {
   "cell_type": "code",
   "execution_count": 58,
   "id": "f698eb46",
   "metadata": {},
   "outputs": [],
   "source": [
    "# Apply function to create renovated column\n",
    "df[\"renovated\"] = df[\"agent_description\"].apply(extract_renovated)"
   ]
  },
  {
   "cell_type": "markdown",
   "id": "323b7fa5",
   "metadata": {},
   "source": [
    "## Pool"
   ]
  },
  {
   "cell_type": "code",
   "execution_count": 59,
   "id": "8ea9f731",
   "metadata": {},
   "outputs": [],
   "source": [
    "# Create function to extract information about pool  \n",
    "def extract_pool(string):\n",
    "    if \"pool\" in string.lower():\n",
    "        return True\n",
    "    else:\n",
    "        return False"
   ]
  },
  {
   "cell_type": "code",
   "execution_count": 60,
   "id": "27c49984",
   "metadata": {},
   "outputs": [],
   "source": [
    "# Apply function to create pool column\n",
    "df[\"pool\"] = df[\"agent_description\"].apply(extract_pool)"
   ]
  },
  {
   "cell_type": "markdown",
   "id": "9ddd639c",
   "metadata": {},
   "source": [
    "## Sea view"
   ]
  },
  {
   "cell_type": "code",
   "execution_count": 61,
   "id": "2348f42f",
   "metadata": {},
   "outputs": [],
   "source": [
    "# Create function to extract information about sea view  \n",
    "def extract_sea_view(string):\n",
    "    if \"seaview\" in string.lower() or \"sea view\" in string.lower():\n",
    "        return True\n",
    "    else:\n",
    "        return False"
   ]
  },
  {
   "cell_type": "code",
   "execution_count": 62,
   "id": "7828b8bb",
   "metadata": {},
   "outputs": [],
   "source": [
    "# Apply function to create sea view column\n",
    "df[\"sea_view\"] = df[\"agent_description\"].apply(extract_sea_view)"
   ]
  },
  {
   "cell_type": "markdown",
   "id": "9995205f",
   "metadata": {},
   "source": [
    "## Penthouse"
   ]
  },
  {
   "cell_type": "code",
   "execution_count": 63,
   "id": "86922131",
   "metadata": {},
   "outputs": [],
   "source": [
    "# Create function to extract penthouse information \n",
    "def extract_penthouse(string):\n",
    "    if \"penthouse\" in string.lower():\n",
    "        return True\n",
    "    else:\n",
    "        return False"
   ]
  },
  {
   "cell_type": "code",
   "execution_count": 64,
   "id": "3ad1dce0",
   "metadata": {},
   "outputs": [],
   "source": [
    "# Apply function to create penthouse column\n",
    "df[\"penthouse\"] = df[\"agent_description\"].apply(extract_penthouse)"
   ]
  },
  {
   "cell_type": "markdown",
   "id": "7154e273",
   "metadata": {},
   "source": [
    "# Convert data types"
   ]
  },
  {
   "cell_type": "code",
   "execution_count": 65,
   "id": "aa84aefb",
   "metadata": {},
   "outputs": [],
   "source": [
    "# Convert price from str to int\n",
    "df[\"price\"] = df[\"price\"].str.replace(\",\", \"\").astype(\"Int32\")"
   ]
  },
  {
   "cell_type": "code",
   "execution_count": 66,
   "id": "959d0314",
   "metadata": {},
   "outputs": [],
   "source": [
    "# Convert size (sqft) from str to int\n",
    "df[\"size\"] = df[\"size\"].str.split(\"sqft\").str[0].astype(\"Int32\")"
   ]
  },
  {
   "cell_type": "code",
   "execution_count": 67,
   "id": "d029d10c",
   "metadata": {},
   "outputs": [],
   "source": [
    "# Convert bathrooms from str to int\n",
    "df[\"bathrooms\"] = df[\"bathrooms\"].astype(\"Int32\")"
   ]
  },
  {
   "cell_type": "code",
   "execution_count": 68,
   "id": "f4f1d122",
   "metadata": {},
   "outputs": [],
   "source": [
    "# Convert meters_to_school from float to int\n",
    "df[\"meters_to_school\"] = df[\"meters_to_school\"].astype(\"Int32\")"
   ]
  },
  {
   "cell_type": "markdown",
   "id": "b44839b0",
   "metadata": {},
   "source": [
    "# Handle missing values"
   ]
  },
  {
   "cell_type": "markdown",
   "id": "b88b23c5",
   "metadata": {},
   "source": [
    "## Bathrooms"
   ]
  },
  {
   "cell_type": "code",
   "execution_count": 69,
   "id": "a1e1103c",
   "metadata": {},
   "outputs": [
    {
     "data": {
      "text/plain": [
       "bedrooms\n",
       "1          1.1\n",
       "10        10.0\n",
       "2          1.7\n",
       "3          2.5\n",
       "4          4.1\n",
       "5          5.3\n",
       "6          5.8\n",
       "7          6.6\n",
       "8          8.1\n",
       "9          8.0\n",
       "Room      <NA>\n",
       "Studio    <NA>\n",
       "Name: bathrooms, dtype: Float64"
      ]
     },
     "execution_count": 69,
     "metadata": {},
     "output_type": "execute_result"
    }
   ],
   "source": [
    "# Average number of bathrooms by number of bedrooms\n",
    "np.round(df[\"bathrooms\"].groupby(df[\"bedrooms\"]).mean(), 1)"
   ]
  },
  {
   "cell_type": "code",
   "execution_count": 70,
   "id": "1948b1be",
   "metadata": {},
   "outputs": [],
   "source": [
    "# Assume 1 bathroom for a studio\n",
    "df[\"bathrooms\"][df[\"bedrooms\"]==\"Studio\"] = 1\n",
    "# Assume 1 bathroom for a room in a shared flat\n",
    "df[\"bathrooms\"][df[\"bedrooms\"]==\"Room\"] = 1\n",
    "# Else assume the same number as bedrooms\n",
    "df[\"bathrooms\"][pd.isna(df[\"bathrooms\"])] = df[\"bedrooms\"]"
   ]
  },
  {
   "cell_type": "markdown",
   "id": "d5e0689a",
   "metadata": {},
   "source": [
    "## Latitude and longitude"
   ]
  },
  {
   "cell_type": "code",
   "execution_count": 71,
   "id": "1f1e3bd3",
   "metadata": {},
   "outputs": [],
   "source": [
    "# Delete rows where latitude or longitude is missing \n",
    "df.dropna(subset=[\"latitude\", \"longitude\"], how=\"any\", inplace=True)"
   ]
  },
  {
   "cell_type": "markdown",
   "id": "2e681b63",
   "metadata": {},
   "source": [
    "## Meters to school"
   ]
  },
  {
   "cell_type": "code",
   "execution_count": 72,
   "id": "e28a4be7",
   "metadata": {},
   "outputs": [
    {
     "data": {
      "text/plain": [
       "count    4737.000000\n",
       "mean     1475.897615\n",
       "std       843.668011\n",
       "min         0.000000\n",
       "25%       927.000000\n",
       "50%      1335.000000\n",
       "75%      1821.000000\n",
       "max      9042.000000\n",
       "Name: meters_to_school, dtype: float64"
      ]
     },
     "execution_count": 72,
     "metadata": {},
     "output_type": "execute_result"
    }
   ],
   "source": [
    "# Descriptive statistics of meters to school\n",
    "df[\"meters_to_school\"].describe()"
   ]
  },
  {
   "cell_type": "code",
   "execution_count": 73,
   "id": "4ac68395",
   "metadata": {},
   "outputs": [],
   "source": [
    "# Impute the maximum value if meters to school are missing\n",
    "max_meters_to_school = df[\"meters_to_school\"].max()\n",
    "df[\"meters_to_school\"][pd.isna(df[\"meters_to_school\"])] = max_meters_to_school"
   ]
  },
  {
   "cell_type": "markdown",
   "id": "4f3898b2",
   "metadata": {},
   "source": [
    "## Meters to MRT"
   ]
  },
  {
   "cell_type": "code",
   "execution_count": 74,
   "id": "f01b37ac",
   "metadata": {},
   "outputs": [
    {
     "data": {
      "text/plain": [
       "count    4165.000000\n",
       "mean      459.193277\n",
       "std       223.646902\n",
       "min        20.000000\n",
       "25%       270.000000\n",
       "50%       450.000000\n",
       "75%       610.000000\n",
       "max       990.000000\n",
       "Name: meters_to_mrt, dtype: float64"
      ]
     },
     "execution_count": 74,
     "metadata": {},
     "output_type": "execute_result"
    }
   ],
   "source": [
    "# Descriptive statistics of meters to MRT\n",
    "df[\"meters_to_mrt\"].describe()"
   ]
  },
  {
   "cell_type": "code",
   "execution_count": 75,
   "id": "2d30c970",
   "metadata": {},
   "outputs": [],
   "source": [
    "# Impute the median if meters to MRT are missing\n",
    "median_meters_to_mrt = df[\"meters_to_mrt\"].median()\n",
    "df[\"meters_to_mrt\"][pd.isna(df[\"meters_to_mrt\"])] = median_meters_to_mrt"
   ]
  },
  {
   "cell_type": "markdown",
   "id": "3d793051",
   "metadata": {},
   "source": [
    "## Furnishing"
   ]
  },
  {
   "cell_type": "code",
   "execution_count": 76,
   "id": "0b05a102",
   "metadata": {},
   "outputs": [
    {
     "data": {
      "text/plain": [
       "Partially Furnished    2880\n",
       "Fully Furnished        1476\n",
       "Unfurnished              74\n",
       "Name: furnishing, dtype: int64"
      ]
     },
     "execution_count": 76,
     "metadata": {},
     "output_type": "execute_result"
    }
   ],
   "source": [
    "# Frequencies of furnishing\n",
    "df[\"furnishing\"].value_counts()"
   ]
  },
  {
   "cell_type": "code",
   "execution_count": 77,
   "id": "0abdbfe0",
   "metadata": {},
   "outputs": [],
   "source": [
    "# Impute the mode if furnishing information is missing\n",
    "mode_furnishing = df[\"furnishing\"].mode()[0]\n",
    "df[\"furnishing\"] = df[\"furnishing\"].fillna(mode_furnishing)"
   ]
  },
  {
   "cell_type": "markdown",
   "id": "598080c9",
   "metadata": {},
   "source": [
    "## Built year"
   ]
  },
  {
   "cell_type": "code",
   "execution_count": 78,
   "id": "9e3d3b1d",
   "metadata": {},
   "outputs": [
    {
     "data": {
      "text/plain": [
       "count    4128.000000\n",
       "mean     2009.596899\n",
       "std        12.065780\n",
       "min      1971.000000\n",
       "25%      2004.000000\n",
       "50%      2012.000000\n",
       "75%      2017.000000\n",
       "max      2024.000000\n",
       "Name: year, dtype: float64"
      ]
     },
     "execution_count": 78,
     "metadata": {},
     "output_type": "execute_result"
    }
   ],
   "source": [
    "# Descriptive statistics of built year\n",
    "df[\"year\"].describe()"
   ]
  },
  {
   "cell_type": "code",
   "execution_count": 79,
   "id": "87d813d8",
   "metadata": {},
   "outputs": [],
   "source": [
    "# Impute the median if built year is missing\n",
    "median_year = df[\"year\"].median()\n",
    "df[\"year\"] = df[\"year\"].fillna(median_year)"
   ]
  },
  {
   "cell_type": "markdown",
   "id": "11dfdef7",
   "metadata": {},
   "source": [
    "# Check data"
   ]
  },
  {
   "cell_type": "code",
   "execution_count": 80,
   "id": "eecdd4b9",
   "metadata": {
    "scrolled": false
   },
   "outputs": [
    {
     "name": "stdout",
     "output_type": "stream",
     "text": [
      "<class 'pandas.core.frame.DataFrame'>\n",
      "Int64Index: 4754 entries, 0 to 5081\n",
      "Data columns (total 22 columns):\n",
      " #   Column                         Non-Null Count  Dtype  \n",
      "---  ------                         --------------  -----  \n",
      " 0   name                           4754 non-null   object \n",
      " 1   address                        4754 non-null   object \n",
      " 2   price                          4754 non-null   Int32  \n",
      " 3   size                           4754 non-null   Int32  \n",
      " 4   bedrooms                       4754 non-null   object \n",
      " 5   bathrooms                      4754 non-null   Int32  \n",
      " 6   property_type_furnishing_year  4754 non-null   object \n",
      " 7   mrt_distance                   4165 non-null   object \n",
      " 8   agent_description              4754 non-null   object \n",
      " 9   latitude                       4754 non-null   float64\n",
      " 10  longitude                      4754 non-null   float64\n",
      " 11  school_location                4737 non-null   object \n",
      " 12  meters_to_school               4754 non-null   Int32  \n",
      " 13  address_new                    4754 non-null   object \n",
      " 14  property_type                  4754 non-null   object \n",
      " 15  furnishing                     4754 non-null   object \n",
      " 16  year                           4754 non-null   Int32  \n",
      " 17  meters_to_mrt                  4754 non-null   Int32  \n",
      " 18  renovated                      4754 non-null   bool   \n",
      " 19  pool                           4754 non-null   bool   \n",
      " 20  sea_view                       4754 non-null   bool   \n",
      " 21  penthouse                      4754 non-null   bool   \n",
      "dtypes: Int32(6), bool(4), float64(2), object(10)\n",
      "memory usage: 640.7+ KB\n"
     ]
    }
   ],
   "source": [
    "# Show dataframe info\n",
    "df.info()"
   ]
  },
  {
   "cell_type": "code",
   "execution_count": null,
   "id": "92577ee0",
   "metadata": {
    "scrolled": true
   },
   "outputs": [],
   "source": [
    "# Show top and bottom five rows\n",
    "df"
   ]
  },
  {
   "cell_type": "markdown",
   "id": "5b2c549d",
   "metadata": {},
   "source": [
    "# Exploratory data analysis"
   ]
  },
  {
   "cell_type": "markdown",
   "id": "c6078de4",
   "metadata": {},
   "source": [
    "# Delete columns"
   ]
  },
  {
   "cell_type": "code",
   "execution_count": null,
   "id": "58b2f46a",
   "metadata": {},
   "outputs": [],
   "source": [
    "# Delete columns that are no longer needed\n",
    "df.drop([\"name\", \"address\", \"property_type_furnishing_year\", \"mrt_distance\", \"agent_description\", \"school_location\", \n",
    "         \"address_new\"], axis=1, inplace=True)"
   ]
  },
  {
   "cell_type": "markdown",
   "id": "3b7ff631",
   "metadata": {},
   "source": [
    "# To Do\n",
    "- Exploratory data analysis"
   ]
  }
 ],
 "metadata": {
  "kernelspec": {
   "display_name": "Python 3 (ipykernel)",
   "language": "python",
   "name": "python3"
  },
  "language_info": {
   "codemirror_mode": {
    "name": "ipython",
    "version": 3
   },
   "file_extension": ".py",
   "mimetype": "text/x-python",
   "name": "python",
   "nbconvert_exporter": "python",
   "pygments_lexer": "ipython3",
   "version": "3.9.13"
  },
  "toc": {
   "base_numbering": 1,
   "nav_menu": {},
   "number_sections": true,
   "sideBar": true,
   "skip_h1_title": false,
   "title_cell": "Table of Contents",
   "title_sidebar": "Contents",
   "toc_cell": false,
   "toc_position": {
    "height": "calc(100% - 180px)",
    "left": "10px",
    "top": "150px",
    "width": "384px"
   },
   "toc_section_display": true,
   "toc_window_display": true
  }
 },
 "nbformat": 4,
 "nbformat_minor": 5
}
