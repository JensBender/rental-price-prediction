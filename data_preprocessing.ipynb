{
 "cells": [
  {
   "cell_type": "code",
   "execution_count": 84,
   "id": "f29a2fb8",
   "metadata": {},
   "outputs": [],
   "source": [
    "import numpy as np\n",
    "import pandas as pd\n",
    "import matplotlib.pyplot as plt\n",
    "import re\n",
    "import requests\n",
    "from dotenv import load_dotenv\n",
    "import os"
   ]
  },
  {
   "cell_type": "markdown",
   "id": "de97be28",
   "metadata": {},
   "source": [
    "# Read data"
   ]
  },
  {
   "cell_type": "code",
   "execution_count": 2,
   "id": "fbd9a7fa",
   "metadata": {},
   "outputs": [],
   "source": [
    "# Read data from csv\n",
    "df = pd.read_csv(\"data/rental_prices_singapore.csv\")"
   ]
  },
  {
   "cell_type": "code",
   "execution_count": 3,
   "id": "608ebde1",
   "metadata": {},
   "outputs": [
    {
     "name": "stdout",
     "output_type": "stream",
     "text": [
      "<class 'pandas.core.frame.DataFrame'>\n",
      "RangeIndex: 5360 entries, 0 to 5359\n",
      "Data columns (total 9 columns):\n",
      " #   Column                         Non-Null Count  Dtype  \n",
      "---  ------                         --------------  -----  \n",
      " 0   name                           5360 non-null   object \n",
      " 1   address                        5011 non-null   object \n",
      " 2   price                          5360 non-null   object \n",
      " 3   size                           5360 non-null   object \n",
      " 4   bedrooms                       5360 non-null   object \n",
      " 5   bathrooms                      4941 non-null   float64\n",
      " 6   property_type_furnishing_year  5360 non-null   object \n",
      " 7   mrt_distance                   4641 non-null   object \n",
      " 8   agent_description              5360 non-null   object \n",
      "dtypes: float64(1), object(8)\n",
      "memory usage: 377.0+ KB\n"
     ]
    }
   ],
   "source": [
    "# Show dataframe info\n",
    "df.info()"
   ]
  },
  {
   "cell_type": "code",
   "execution_count": 4,
   "id": "43f905cc",
   "metadata": {},
   "outputs": [
    {
     "data": {
      "text/html": [
       "<div>\n",
       "<style scoped>\n",
       "    .dataframe tbody tr th:only-of-type {\n",
       "        vertical-align: middle;\n",
       "    }\n",
       "\n",
       "    .dataframe tbody tr th {\n",
       "        vertical-align: top;\n",
       "    }\n",
       "\n",
       "    .dataframe thead th {\n",
       "        text-align: right;\n",
       "    }\n",
       "</style>\n",
       "<table border=\"1\" class=\"dataframe\">\n",
       "  <thead>\n",
       "    <tr style=\"text-align: right;\">\n",
       "      <th></th>\n",
       "      <th>name</th>\n",
       "      <th>address</th>\n",
       "      <th>price</th>\n",
       "      <th>size</th>\n",
       "      <th>bedrooms</th>\n",
       "      <th>bathrooms</th>\n",
       "      <th>property_type_furnishing_year</th>\n",
       "      <th>mrt_distance</th>\n",
       "      <th>agent_description</th>\n",
       "    </tr>\n",
       "  </thead>\n",
       "  <tbody>\n",
       "    <tr>\n",
       "      <th>0</th>\n",
       "      <td>Brand new Attic Studio, in a Peranakan Conserv...</td>\n",
       "      <td>Lorong 34 Geylang</td>\n",
       "      <td>3,000</td>\n",
       "      <td>400 sqft</td>\n",
       "      <td>1</td>\n",
       "      <td>1.0</td>\n",
       "      <td>\\nApartment\\nFully Furnished\\n</td>\n",
       "      <td>NaN</td>\n",
       "      <td>One and only attic studio! Beautifully done up...</td>\n",
       "    </tr>\n",
       "    <tr>\n",
       "      <th>1</th>\n",
       "      <td>Astor</td>\n",
       "      <td>51C Lengkong Empat</td>\n",
       "      <td>2,000</td>\n",
       "      <td>1130 sqft</td>\n",
       "      <td>Room</td>\n",
       "      <td>NaN</td>\n",
       "      <td>\\nApartment\\nFully Furnished\\n</td>\n",
       "      <td>11 mins (810 m) to DT28 Kaki Bukit MRT</td>\n",
       "      <td>Comes with In House Maid</td>\n",
       "    </tr>\n",
       "    <tr>\n",
       "      <th>2</th>\n",
       "      <td>Springhill Terrace</td>\n",
       "      <td>Sunrise avenue</td>\n",
       "      <td>7,400</td>\n",
       "      <td>3800 sqft</td>\n",
       "      <td>5</td>\n",
       "      <td>4.0</td>\n",
       "      <td>\\nApartment\\nFully Furnished\\n</td>\n",
       "      <td>NaN</td>\n",
       "      <td>Close to MRT and short drive to French, Austra...</td>\n",
       "    </tr>\n",
       "    <tr>\n",
       "      <th>3</th>\n",
       "      <td>704 Yishun Avenue 5</td>\n",
       "      <td>704 Yishun Avenue 5</td>\n",
       "      <td>1,000</td>\n",
       "      <td>120 sqft</td>\n",
       "      <td>Room</td>\n",
       "      <td>NaN</td>\n",
       "      <td>\\nApartment\\nFully Furnished\\n</td>\n",
       "      <td>9 mins (700 m) to NS13 Yishun MRT</td>\n",
       "      <td>Room for 1 or 2 single ladies</td>\n",
       "    </tr>\n",
       "    <tr>\n",
       "      <th>4</th>\n",
       "      <td>Espada</td>\n",
       "      <td>48 Saint Thomas Walk</td>\n",
       "      <td>4,300</td>\n",
       "      <td>689 sqft</td>\n",
       "      <td>1</td>\n",
       "      <td>1.0</td>\n",
       "      <td>\\nApartment\\nFully Furnished\\n</td>\n",
       "      <td>6 mins (420 m) to NS23 Somerset MRT</td>\n",
       "      <td>All units virtual online viewing available! An...</td>\n",
       "    </tr>\n",
       "  </tbody>\n",
       "</table>\n",
       "</div>"
      ],
      "text/plain": [
       "                                                name               address  \\\n",
       "0  Brand new Attic Studio, in a Peranakan Conserv...     Lorong 34 Geylang   \n",
       "1                                              Astor    51C Lengkong Empat   \n",
       "2                                 Springhill Terrace        Sunrise avenue   \n",
       "3                                704 Yishun Avenue 5   704 Yishun Avenue 5   \n",
       "4                                             Espada  48 Saint Thomas Walk   \n",
       "\n",
       "    price       size bedrooms  bathrooms   property_type_furnishing_year  \\\n",
       "0  3,000    400 sqft        1        1.0  \\nApartment\\nFully Furnished\\n   \n",
       "1  2,000   1130 sqft     Room        NaN  \\nApartment\\nFully Furnished\\n   \n",
       "2  7,400   3800 sqft        5        4.0  \\nApartment\\nFully Furnished\\n   \n",
       "3  1,000    120 sqft     Room        NaN  \\nApartment\\nFully Furnished\\n   \n",
       "4  4,300    689 sqft        1        1.0  \\nApartment\\nFully Furnished\\n   \n",
       "\n",
       "                             mrt_distance  \\\n",
       "0                                     NaN   \n",
       "1  11 mins (810 m) to DT28 Kaki Bukit MRT   \n",
       "2                                     NaN   \n",
       "3       9 mins (700 m) to NS13 Yishun MRT   \n",
       "4     6 mins (420 m) to NS23 Somerset MRT   \n",
       "\n",
       "                                   agent_description  \n",
       "0  One and only attic studio! Beautifully done up...  \n",
       "1                           Comes with In House Maid  \n",
       "2  Close to MRT and short drive to French, Austra...  \n",
       "3                      Room for 1 or 2 single ladies  \n",
       "4  All units virtual online viewing available! An...  "
      ]
     },
     "execution_count": 4,
     "metadata": {},
     "output_type": "execute_result"
    }
   ],
   "source": [
    "# Show top five rows\n",
    "df.head()"
   ]
  },
  {
   "cell_type": "markdown",
   "id": "b7512457",
   "metadata": {},
   "source": [
    "# Remove duplicates"
   ]
  },
  {
   "cell_type": "code",
   "execution_count": 5,
   "id": "10dfc32d",
   "metadata": {},
   "outputs": [
    {
     "data": {
      "text/plain": [
       "False    5082\n",
       "True      278\n",
       "dtype: int64"
      ]
     },
     "execution_count": 5,
     "metadata": {},
     "output_type": "execute_result"
    }
   ],
   "source": [
    "# Diagnose duplicates\n",
    "df.duplicated().value_counts()"
   ]
  },
  {
   "cell_type": "code",
   "execution_count": 6,
   "id": "45f4a943",
   "metadata": {},
   "outputs": [],
   "source": [
    "# Remove duplicates\n",
    "df = df.drop_duplicates().copy()"
   ]
  },
  {
   "cell_type": "code",
   "execution_count": 7,
   "id": "4de869e9",
   "metadata": {},
   "outputs": [
    {
     "name": "stdout",
     "output_type": "stream",
     "text": [
      "<class 'pandas.core.frame.DataFrame'>\n",
      "Int64Index: 5082 entries, 0 to 5359\n",
      "Data columns (total 9 columns):\n",
      " #   Column                         Non-Null Count  Dtype  \n",
      "---  ------                         --------------  -----  \n",
      " 0   name                           5082 non-null   object \n",
      " 1   address                        4754 non-null   object \n",
      " 2   price                          5082 non-null   object \n",
      " 3   size                           5082 non-null   object \n",
      " 4   bedrooms                       5082 non-null   object \n",
      " 5   bathrooms                      4680 non-null   float64\n",
      " 6   property_type_furnishing_year  5082 non-null   object \n",
      " 7   mrt_distance                   4418 non-null   object \n",
      " 8   agent_description              5082 non-null   object \n",
      "dtypes: float64(1), object(8)\n",
      "memory usage: 397.0+ KB\n"
     ]
    }
   ],
   "source": [
    "# Show dataframe info\n",
    "df.info()"
   ]
  },
  {
   "cell_type": "markdown",
   "id": "eeffeabb",
   "metadata": {},
   "source": [
    "# Feature engineering"
   ]
  },
  {
   "cell_type": "markdown",
   "id": "4572ef89",
   "metadata": {},
   "source": [
    "## Latitude and longitude"
   ]
  },
  {
   "cell_type": "code",
   "execution_count": 8,
   "id": "ef6b7670",
   "metadata": {},
   "outputs": [
    {
     "data": {
      "text/plain": [
       "True"
      ]
     },
     "execution_count": 8,
     "metadata": {},
     "output_type": "execute_result"
    }
   ],
   "source": [
    "# Load environment variables from .env file\n",
    "load_dotenv()"
   ]
  },
  {
   "cell_type": "code",
   "execution_count": 9,
   "id": "33d3194b",
   "metadata": {},
   "outputs": [],
   "source": [
    "# Get Google Maps API key from .env \n",
    "google_maps_api_key = os.getenv(\"google_maps_api_key\")"
   ]
  },
  {
   "cell_type": "code",
   "execution_count": 10,
   "id": "baa5ec80",
   "metadata": {},
   "outputs": [],
   "source": [
    "# Create function to get latitude and longitude from an address \n",
    "def get_latitude_longitude(address):\n",
    "    # Base URL for the Google Maps Geocoding API\n",
    "    base_url = \"https://maps.googleapis.com/maps/api/geocode/json\"\n",
    "    \n",
    "    # Parameters for the Geocoding API request\n",
    "    params = {\n",
    "        \"address\": f\"{address}, Singapore\",\n",
    "        \"key\": google_maps_api_key\n",
    "    }\n",
    "    \n",
    "    # Send Geocoding API request and store the response\n",
    "    response = requests.get(base_url, params=params)\n",
    "    data = response.json()\n",
    "    \n",
    "    # Check if request was successful\n",
    "    if data[\"status\"] == \"OK\":\n",
    "        # Extract latitude and longitude from the response\n",
    "        location = data[\"results\"][0][\"geometry\"][\"location\"]\n",
    "        latitude = location[\"lat\"]\n",
    "        longitude = location[\"lng\"]\n",
    "    else:\n",
    "        # Assign missing values and print error message if the request failed\n",
    "        latitude = np.nan\n",
    "        longitude = np.nan\n",
    "        print(f\"Geocoding request failed for {address}\")\n",
    "    \n",
    "    # Return latitude and longitude\n",
    "    return (latitude, longitude)"
   ]
  },
  {
   "cell_type": "code",
   "execution_count": 11,
   "id": "af4e1c4d",
   "metadata": {},
   "outputs": [],
   "source": [
    "# Apply function to create latitude and longitude column (cost: ~25$)\n",
    "# df[[\"latitude\", \"longitude\"]] = df[\"address\"].apply(get_latitude_longitude).apply(pd.Series)"
   ]
  },
  {
   "cell_type": "code",
   "execution_count": 12,
   "id": "fc3e1af4",
   "metadata": {},
   "outputs": [],
   "source": [
    "# Save enriched dataframe as csv\n",
    "# df.to_csv(\"data/rental_prices_singapore_2.csv\", index=False)"
   ]
  },
  {
   "cell_type": "code",
   "execution_count": 13,
   "id": "de504e4f",
   "metadata": {},
   "outputs": [],
   "source": [
    "# Load enriched data\n",
    "df = pd.read_csv(\"data/rental_prices_singapore_2.csv\")"
   ]
  },
  {
   "cell_type": "code",
   "execution_count": 14,
   "id": "e92369f0",
   "metadata": {
    "scrolled": true
   },
   "outputs": [
    {
     "name": "stdout",
     "output_type": "stream",
     "text": [
      "<class 'pandas.core.frame.DataFrame'>\n",
      "RangeIndex: 5082 entries, 0 to 5081\n",
      "Data columns (total 11 columns):\n",
      " #   Column                         Non-Null Count  Dtype  \n",
      "---  ------                         --------------  -----  \n",
      " 0   name                           5082 non-null   object \n",
      " 1   address                        4754 non-null   object \n",
      " 2   price                          5082 non-null   object \n",
      " 3   size                           5082 non-null   object \n",
      " 4   bedrooms                       5082 non-null   object \n",
      " 5   bathrooms                      4680 non-null   float64\n",
      " 6   property_type_furnishing_year  5082 non-null   object \n",
      " 7   mrt_distance                   4418 non-null   object \n",
      " 8   agent_description              5082 non-null   object \n",
      " 9   latitude                       5082 non-null   float64\n",
      " 10  longitude                      5082 non-null   float64\n",
      "dtypes: float64(3), object(8)\n",
      "memory usage: 436.9+ KB\n"
     ]
    }
   ],
   "source": [
    "# Show dataframe info\n",
    "df.info()"
   ]
  },
  {
   "cell_type": "markdown",
   "id": "35a60135",
   "metadata": {},
   "source": [
    "## Meters to school"
   ]
  },
  {
   "cell_type": "code",
   "execution_count": 15,
   "id": "36235d65",
   "metadata": {},
   "outputs": [],
   "source": [
    "# Create function to get latitude and longitude of the closest school \n",
    "def get_school_location(row):\n",
    "    # Get latitude and longitude of the property\n",
    "    property_latitude = row[\"latitude\"]\n",
    "    property_longitude = row[\"longitude\"]\n",
    "    \n",
    "    # Base URL for the Google Maps Places Nearby Search API\n",
    "    base_url = \"https://maps.googleapis.com/maps/api/place/nearbysearch/json\"\n",
    "\n",
    "    # Parameters for the Nearby Search API request\n",
    "    params = {\n",
    "        \"location\": f\"{property_latitude},{property_longitude}\",\n",
    "        \"radius\": 1000,  # Search radius in meters\n",
    "        \"type\": \"school\",\n",
    "        \"key\": google_maps_api_key\n",
    "    }\n",
    "\n",
    "    # Send the Nearby Search API request and store the response\n",
    "    response = requests.get(base_url, params=params)\n",
    "    data = response.json()\n",
    "    \n",
    "    # Extract latitude and longitude of the closest school from the response\n",
    "    if \"results\" in data and data[\"results\"]:\n",
    "        closest_school = data[\"results\"][0]\n",
    "        school_name = closest_school[\"name\"]\n",
    "        school_location = closest_school[\"geometry\"][\"location\"]\n",
    "        school_latitude = school_location[\"lat\"]\n",
    "        school_longitude = school_location[\"lng\"]\n",
    "        print(f\"Closest school: {school_name}\")\n",
    "        print(f\"Latitude: {school_latitude}, Longitude: {school_longitude}\")\n",
    "    else:\n",
    "        school_latitude = np.nan\n",
    "        school_longitude = np.nan\n",
    "        print(\"No schools found nearby.\")\n",
    "    return (school_latitude, school_longitude)"
   ]
  },
  {
   "cell_type": "code",
   "execution_count": 16,
   "id": "9c5c4029",
   "metadata": {},
   "outputs": [],
   "source": [
    "# Apply function to create the \"school_location\" column (cost: ~160$)\n",
    "# df[\"school_location\"] = df.apply(get_school_location, axis=1)"
   ]
  },
  {
   "cell_type": "code",
   "execution_count": 17,
   "id": "8ea00dec",
   "metadata": {},
   "outputs": [],
   "source": [
    "# Save enriched dataframe as csv\n",
    "# df.to_csv(\"data/rental_prices_singapore_3.csv\", index=False)"
   ]
  },
  {
   "cell_type": "code",
   "execution_count": 18,
   "id": "a7bb1c79",
   "metadata": {},
   "outputs": [],
   "source": [
    "# Load enriched data\n",
    "df = pd.read_csv(\"data/rental_prices_singapore_3.csv\")"
   ]
  },
  {
   "cell_type": "code",
   "execution_count": 19,
   "id": "f1078e99",
   "metadata": {
    "scrolled": true
   },
   "outputs": [
    {
     "name": "stdout",
     "output_type": "stream",
     "text": [
      "<class 'pandas.core.frame.DataFrame'>\n",
      "RangeIndex: 5082 entries, 0 to 5081\n",
      "Data columns (total 12 columns):\n",
      " #   Column                         Non-Null Count  Dtype  \n",
      "---  ------                         --------------  -----  \n",
      " 0   name                           5082 non-null   object \n",
      " 1   address                        4754 non-null   object \n",
      " 2   price                          5082 non-null   object \n",
      " 3   size                           5082 non-null   object \n",
      " 4   bedrooms                       5082 non-null   object \n",
      " 5   bathrooms                      4680 non-null   float64\n",
      " 6   property_type_furnishing_year  5082 non-null   object \n",
      " 7   mrt_distance                   4418 non-null   object \n",
      " 8   agent_description              5082 non-null   object \n",
      " 9   latitude                       5082 non-null   float64\n",
      " 10  longitude                      5082 non-null   float64\n",
      " 11  school_location                5065 non-null   object \n",
      "dtypes: float64(3), object(9)\n",
      "memory usage: 476.6+ KB\n"
     ]
    }
   ],
   "source": [
    "# Show dataframe info\n",
    "df.info()"
   ]
  },
  {
   "cell_type": "code",
   "execution_count": 20,
   "id": "6ee06cfd",
   "metadata": {
    "scrolled": true
   },
   "outputs": [],
   "source": [
    "# Create function to get meters to the closest school \n",
    "def get_meters_to_school(row):\n",
    "    # Get latitude and longitude of the property\n",
    "    property_latitude = row[\"latitude\"]\n",
    "    property_longitude = row[\"longitude\"]\n",
    "    \n",
    "    # Get latitude and longitude of the school\n",
    "    if pd.isna(row[\"school_location\"]):\n",
    "        return np.nan\n",
    "    # Remove parentheses and split the string by comma\n",
    "    latitude_str, longitude_str = row[\"school_location\"].strip(\"()\").split(\",\")\n",
    "    # Convert the strings to float values\n",
    "    school_latitude = float(latitude_str)\n",
    "    school_longitude = float(longitude_str)\n",
    "\n",
    "    # Base URL for the Google Maps Distance Matrix API\n",
    "    base_url = \"https://maps.googleapis.com/maps/api/distancematrix/json\"\n",
    "    \n",
    "    # Parameters for the Distance Matrix API request\n",
    "    params = {\n",
    "        \"origins\": f\"{property_latitude},{property_longitude}\",\n",
    "        \"destinations\": f\"{school_latitude},{school_longitude}\",\n",
    "        \"key\": google_maps_api_key\n",
    "    }\n",
    "\n",
    "    # Send the Distance Matrix API request and store the response\n",
    "    response = requests.get(base_url, params=params)\n",
    "    data = response.json()\n",
    "\n",
    "    # Process the response to get the distance\n",
    "    if \"rows\" in data and data[\"rows\"]:\n",
    "        meters_to_school = data[\"rows\"][0][\"elements\"][0][\"distance\"][\"value\"]\n",
    "        print(f\"Distance between property and closest school: {meters_to_school} meters\")\n",
    "    else:\n",
    "        print(\"No distance information available.\")\n",
    "        return np.nan\n",
    "    return meters_to_school"
   ]
  },
  {
   "cell_type": "code",
   "execution_count": 21,
   "id": "b0a6ffc8",
   "metadata": {},
   "outputs": [],
   "source": [
    "# Apply function to create the \"meters_to_school\" column (cost: ~25$)\n",
    "# df[\"meters_to_school\"] = df.apply(get_meters_to_school, axis=1)"
   ]
  },
  {
   "cell_type": "code",
   "execution_count": 22,
   "id": "5bf73705",
   "metadata": {},
   "outputs": [],
   "source": [
    "# Save enriched dataframe as csv\n",
    "# df.to_csv(\"data/rental_prices_singapore_4.csv\", index=False)"
   ]
  },
  {
   "cell_type": "code",
   "execution_count": 23,
   "id": "7e7f3dca",
   "metadata": {},
   "outputs": [],
   "source": [
    "# Load enriched data\n",
    "df = pd.read_csv(\"data/rental_prices_singapore_4.csv\")"
   ]
  },
  {
   "cell_type": "code",
   "execution_count": 24,
   "id": "222007b7",
   "metadata": {},
   "outputs": [
    {
     "name": "stdout",
     "output_type": "stream",
     "text": [
      "<class 'pandas.core.frame.DataFrame'>\n",
      "RangeIndex: 5082 entries, 0 to 5081\n",
      "Data columns (total 13 columns):\n",
      " #   Column                         Non-Null Count  Dtype  \n",
      "---  ------                         --------------  -----  \n",
      " 0   name                           5082 non-null   object \n",
      " 1   address                        4754 non-null   object \n",
      " 2   price                          5082 non-null   object \n",
      " 3   size                           5082 non-null   object \n",
      " 4   bedrooms                       5082 non-null   object \n",
      " 5   bathrooms                      4680 non-null   float64\n",
      " 6   property_type_furnishing_year  5082 non-null   object \n",
      " 7   mrt_distance                   4418 non-null   object \n",
      " 8   agent_description              5082 non-null   object \n",
      " 9   latitude                       5082 non-null   float64\n",
      " 10  longitude                      5082 non-null   float64\n",
      " 11  school_location                5065 non-null   object \n",
      " 12  meters_to_school               5065 non-null   float64\n",
      "dtypes: float64(4), object(9)\n",
      "memory usage: 516.3+ KB\n"
     ]
    }
   ],
   "source": [
    "# Show dataframe info\n",
    "df.info()"
   ]
  },
  {
   "cell_type": "markdown",
   "id": "dd18f80a",
   "metadata": {},
   "source": [
    "### Data enrichment: Fill in missing addresses"
   ]
  },
  {
   "cell_type": "code",
   "execution_count": 25,
   "id": "6b270746",
   "metadata": {},
   "outputs": [],
   "source": [
    "# Create function to get missing address based on the property name via Google Maps API\n",
    "def get_missing_address(row):\n",
    "    # Check if address is missing\n",
    "    if pd.isna(row[\"address\"]): \n",
    "        # Base URL for the Google Maps Find Place API\n",
    "        base_url = \"https://maps.googleapis.com/maps/api/place/findplacefromtext/json\"\n",
    "\n",
    "        # Parameters for the Find Place API request\n",
    "        params = {\n",
    "            \"input\": f\"{row['name']}, Singapore\",\n",
    "            \"inputtype\": \"textquery\",\n",
    "            \"fields\": \"formatted_address\",\n",
    "            \"key\": google_maps_api_key\n",
    "        }\n",
    "\n",
    "        # Send Find Place API request and store the response\n",
    "        response = requests.get(base_url, params=params)\n",
    "        data = response.json()\n",
    "\n",
    "        # Check if request was successful\n",
    "        if data[\"status\"] == \"OK\":\n",
    "            # Extract address from the response\n",
    "            address = data[\"candidates\"][0][\"formatted_address\"]\n",
    "        # If no address was found, give notification and use the original value (i.e. np.nan)\n",
    "        else:\n",
    "            print(f\"No address found for {row['name']}\")\n",
    "            address = row[\"address\"]\n",
    "    # If an address is present, use that address\n",
    "    else:\n",
    "        address = row[\"address\"]\n",
    "    # Return address\n",
    "    return address"
   ]
  },
  {
   "cell_type": "code",
   "execution_count": 26,
   "id": "03cdcd8d",
   "metadata": {},
   "outputs": [],
   "source": [
    "# Apply function to get missing addresses and store them in \"address_new\" column (cost: ~2$)\n",
    "# df[\"address_new\"] = df.apply(get_missing_address, axis=1)"
   ]
  },
  {
   "cell_type": "code",
   "execution_count": 27,
   "id": "499ea0de",
   "metadata": {},
   "outputs": [],
   "source": [
    "# Save enriched dataframe as csv\n",
    "# df.to_csv(\"data/rental_prices_singapore_5.csv\", index=False)"
   ]
  },
  {
   "cell_type": "code",
   "execution_count": 28,
   "id": "9c5e34f5",
   "metadata": {},
   "outputs": [],
   "source": [
    "# Load enriched data\n",
    "df = pd.read_csv(\"data/rental_prices_singapore_5.csv\")"
   ]
  },
  {
   "cell_type": "code",
   "execution_count": 29,
   "id": "b3fc09ec",
   "metadata": {
    "scrolled": true
   },
   "outputs": [
    {
     "name": "stdout",
     "output_type": "stream",
     "text": [
      "<class 'pandas.core.frame.DataFrame'>\n",
      "RangeIndex: 5082 entries, 0 to 5081\n",
      "Data columns (total 14 columns):\n",
      " #   Column                         Non-Null Count  Dtype  \n",
      "---  ------                         --------------  -----  \n",
      " 0   name                           5082 non-null   object \n",
      " 1   address                        4754 non-null   object \n",
      " 2   price                          5082 non-null   object \n",
      " 3   size                           5082 non-null   object \n",
      " 4   bedrooms                       5082 non-null   object \n",
      " 5   bathrooms                      4680 non-null   float64\n",
      " 6   property_type_furnishing_year  5082 non-null   object \n",
      " 7   mrt_distance                   4418 non-null   object \n",
      " 8   agent_description              5082 non-null   object \n",
      " 9   latitude                       5082 non-null   float64\n",
      " 10  longitude                      5082 non-null   float64\n",
      " 11  school_location                5065 non-null   object \n",
      " 12  meters_to_school               5065 non-null   float64\n",
      " 13  address_new                    5012 non-null   object \n",
      "dtypes: float64(4), object(10)\n",
      "memory usage: 556.0+ KB\n"
     ]
    }
   ],
   "source": [
    "# Show dataframe info\n",
    "df.info()"
   ]
  },
  {
   "cell_type": "code",
   "execution_count": 30,
   "id": "9fac10ed",
   "metadata": {},
   "outputs": [
    {
     "name": "stdout",
     "output_type": "stream",
     "text": [
      "Percent missing addresses before: 6.5%\n"
     ]
    }
   ],
   "source": [
    "# Percent missing addresses before\n",
    "print(f'Percent missing addresses before: {100 * pd.isna(df[\"address\"]).sum() / pd.isna(df[\"address\"]).count():.1f}%')"
   ]
  },
  {
   "cell_type": "code",
   "execution_count": 31,
   "id": "6a1a925c",
   "metadata": {},
   "outputs": [
    {
     "name": "stdout",
     "output_type": "stream",
     "text": [
      "Percent missing addresses after: 1.4%\n"
     ]
    }
   ],
   "source": [
    "# Percent missing addresses after \n",
    "print(f'Percent missing addresses after: {100 * pd.isna(df[\"address_new\"]).sum() / pd.isna(df[\"address_new\"]).count():.1f}%')"
   ]
  },
  {
   "cell_type": "markdown",
   "id": "6a75df29",
   "metadata": {},
   "source": [
    "Rerun code below on 01-09-2023 to update info for new addresses"
   ]
  },
  {
   "cell_type": "code",
   "execution_count": 32,
   "id": "f35b3577",
   "metadata": {},
   "outputs": [],
   "source": [
    "# Function to update latitude, longitude, school_location and meters_to_school for new addresses\n",
    "def new_address_update(row):\n",
    "    if pd.isna(row[\"address\"]):\n",
    "        latitude_new, longitude_new = get_latitude_longitude(row[\"address_new\"])        \n",
    "        row[\"latitude\"] = latitude_new\n",
    "        row[\"longitude\"] = longitude_new\n",
    "        row[\"school_location\"] = get_school_location(row)\n",
    "        row[\"meters_to_school\"] = get_meters_to_school(row)\n",
    "    return row"
   ]
  },
  {
   "cell_type": "code",
   "execution_count": 33,
   "id": "b394b07c",
   "metadata": {},
   "outputs": [],
   "source": [
    "# Apply function to update latitude, longitude, school_location and meters_to_school for new addresses\n",
    "# df = df.apply(new_address_update, axis=1).copy()"
   ]
  },
  {
   "cell_type": "code",
   "execution_count": 34,
   "id": "5a0fb564",
   "metadata": {},
   "outputs": [],
   "source": [
    "# Save enriched dataframe as csv\n",
    "# df.to_csv(\"data/rental_prices_singapore_6.csv\", index=False)"
   ]
  },
  {
   "cell_type": "code",
   "execution_count": 35,
   "id": "e5db5c66",
   "metadata": {},
   "outputs": [],
   "source": [
    "# Load enriched data\n",
    "df = pd.read_csv(\"data/rental_prices_singapore_6.csv\")"
   ]
  },
  {
   "cell_type": "code",
   "execution_count": 36,
   "id": "12be631c",
   "metadata": {
    "scrolled": true
   },
   "outputs": [
    {
     "name": "stdout",
     "output_type": "stream",
     "text": [
      "<class 'pandas.core.frame.DataFrame'>\n",
      "RangeIndex: 5082 entries, 0 to 5081\n",
      "Data columns (total 14 columns):\n",
      " #   Column                         Non-Null Count  Dtype  \n",
      "---  ------                         --------------  -----  \n",
      " 0   name                           5082 non-null   object \n",
      " 1   address                        4754 non-null   object \n",
      " 2   price                          5082 non-null   object \n",
      " 3   size                           5082 non-null   object \n",
      " 4   bedrooms                       5082 non-null   object \n",
      " 5   bathrooms                      4680 non-null   float64\n",
      " 6   property_type_furnishing_year  5082 non-null   object \n",
      " 7   mrt_distance                   4418 non-null   object \n",
      " 8   agent_description              5082 non-null   object \n",
      " 9   latitude                       4754 non-null   float64\n",
      " 10  longitude                      4754 non-null   float64\n",
      " 11  school_location                4737 non-null   object \n",
      " 12  meters_to_school               4737 non-null   float64\n",
      " 13  address_new                    5012 non-null   object \n",
      "dtypes: float64(4), object(10)\n",
      "memory usage: 556.0+ KB\n"
     ]
    }
   ],
   "source": [
    "# Show dataframe info\n",
    "df.info()"
   ]
  },
  {
   "cell_type": "markdown",
   "id": "e300aaca",
   "metadata": {},
   "source": [
    "## Good restaurants nearby"
   ]
  },
  {
   "cell_type": "code",
   "execution_count": 37,
   "id": "5a0016eb",
   "metadata": {},
   "outputs": [],
   "source": [
    "# Create function to get the average Google Maps rating of nearby restaurants \n",
    "def get_restaurants_rating(row):\n",
    "    # Get latitude and longitude of the property\n",
    "    property_latitude = row[\"latitude\"]\n",
    "    property_longitude = row[\"longitude\"]\n",
    "    \n",
    "    # Base URL for the Google Maps Places Nearby Search API\n",
    "    base_url = \"https://maps.googleapis.com/maps/api/place/nearbysearch/json\"\n",
    "\n",
    "    # Parameters for the Nearby Search API request\n",
    "    params = {\n",
    "        \"location\": f\"{property_latitude},{property_longitude}\",\n",
    "        \"radius\": 1000,  # Search radius in meters\n",
    "        \"type\": \"restaurant\",\n",
    "        \"key\": google_maps_api_key\n",
    "    }\n",
    "\n",
    "    # Send the Nearby Search API request and store the response\n",
    "    response = requests.get(base_url, params=params)\n",
    "    data = response.json()\n",
    "    \n",
    "    # Process the response to get the average restaurant rating\n",
    "    if \"results\" in data and data[\"results\"]:\n",
    "        # Extract restaurant ratings as a list, assigning np.nan for missing ratings\n",
    "        rating_list = [restaurant.get(\"rating\", np.nan) for restaurant in data.get(\"results\")]\n",
    "        # Calculate average rating, ignoring np.nan values\n",
    "        average_rating = np.nanmean(rating_list)\n",
    "        print(f\"Number of restaurants: {len(rating_list)}\")\n",
    "        print(f\"Number of ratings: {len([rating for rating in rating_list if not np.isnan(rating)])}\")\n",
    "        print(f\"Average rating: {average_rating:.2f}\")\n",
    "    else:\n",
    "        print(\"No restaurants found nearby.\")\n",
    "        return np.nan\n",
    "    return average_rating"
   ]
  },
  {
   "cell_type": "code",
   "execution_count": 38,
   "id": "57a888f2",
   "metadata": {},
   "outputs": [],
   "source": [
    "# Apply function to create the \"restaurants_rating\" column (cost: ~160$)\n",
    "# df[\"restaurants_rating\"] = df.apply(get_restaurants_rating, axis=1)"
   ]
  },
  {
   "cell_type": "code",
   "execution_count": 39,
   "id": "2095b9c0",
   "metadata": {},
   "outputs": [],
   "source": [
    "# Save enriched dataframe as csv\n",
    "# df.to_csv(\"data/rental_prices_singapore_7.csv\", index=False)"
   ]
  },
  {
   "cell_type": "code",
   "execution_count": 40,
   "id": "d372ef24",
   "metadata": {},
   "outputs": [],
   "source": [
    "# Load enriched data\n",
    "# df = pd.read_csv(\"data/rental_prices_singapore_7.csv\")"
   ]
  },
  {
   "cell_type": "code",
   "execution_count": 41,
   "id": "e09d4646",
   "metadata": {},
   "outputs": [
    {
     "name": "stdout",
     "output_type": "stream",
     "text": [
      "<class 'pandas.core.frame.DataFrame'>\n",
      "RangeIndex: 5082 entries, 0 to 5081\n",
      "Data columns (total 14 columns):\n",
      " #   Column                         Non-Null Count  Dtype  \n",
      "---  ------                         --------------  -----  \n",
      " 0   name                           5082 non-null   object \n",
      " 1   address                        4754 non-null   object \n",
      " 2   price                          5082 non-null   object \n",
      " 3   size                           5082 non-null   object \n",
      " 4   bedrooms                       5082 non-null   object \n",
      " 5   bathrooms                      4680 non-null   float64\n",
      " 6   property_type_furnishing_year  5082 non-null   object \n",
      " 7   mrt_distance                   4418 non-null   object \n",
      " 8   agent_description              5082 non-null   object \n",
      " 9   latitude                       4754 non-null   float64\n",
      " 10  longitude                      4754 non-null   float64\n",
      " 11  school_location                4737 non-null   object \n",
      " 12  meters_to_school               4737 non-null   float64\n",
      " 13  address_new                    5012 non-null   object \n",
      "dtypes: float64(4), object(10)\n",
      "memory usage: 556.0+ KB\n"
     ]
    }
   ],
   "source": [
    "# Show dataframe info\n",
    "df.info()"
   ]
  },
  {
   "cell_type": "markdown",
   "id": "f919d244",
   "metadata": {},
   "source": [
    "## Meters to central business district"
   ]
  },
  {
   "cell_type": "code",
   "execution_count": 42,
   "id": "aeccd6f8",
   "metadata": {},
   "outputs": [],
   "source": [
    "# Create function to get meters to central business district \n",
    "def get_meters_to_cbd(row):\n",
    "    # Get latitude and longitude of the property\n",
    "    property_latitude = row[\"latitude\"]\n",
    "    property_longitude = row[\"longitude\"]\n",
    "    \n",
    "    # Latitude and longitude of central business district (i.e. Raffles Place)\n",
    "    cbd_latitude = 1.284184\n",
    "    cbd_longitude = 103.85151\n",
    "\n",
    "    # Base URL for the Google Maps Distance Matrix API\n",
    "    base_url = \"https://maps.googleapis.com/maps/api/distancematrix/json\"\n",
    "    \n",
    "    # Parameters for the Distance Matrix API request\n",
    "    params = {\n",
    "        \"origins\": f\"{property_latitude},{property_longitude}\",\n",
    "        \"destinations\": f\"{cbd_latitude},{cbd_longitude}\",\n",
    "        \"key\": google_maps_api_key\n",
    "    }\n",
    "\n",
    "    # Send the Distance Matrix API request and store the response\n",
    "    response = requests.get(base_url, params=params)\n",
    "    data = response.json()\n",
    "\n",
    "    # Process the response to get the distance\n",
    "    if \"rows\" in data and data[\"rows\"]:\n",
    "        meters_to_cbd = data[\"rows\"][0][\"elements\"][0][\"distance\"][\"value\"]\n",
    "        print(f\"Distance between property and CBD: {meters_to_cbd} meters\")\n",
    "    else:\n",
    "        print(\"No distance information available.\")\n",
    "        return np.nan\n",
    "    return meters_to_cbd"
   ]
  },
  {
   "cell_type": "code",
   "execution_count": 43,
   "id": "5589edf3",
   "metadata": {},
   "outputs": [],
   "source": [
    "# Apply function to create the \"meters_to_cbd\" column (cost: ~25$)\n",
    "# df[\"meters_to_cbd\"] = df.apply(get_meters_to_cbd, axis=1)"
   ]
  },
  {
   "cell_type": "code",
   "execution_count": 44,
   "id": "001f4dff",
   "metadata": {},
   "outputs": [],
   "source": [
    "# Save enriched dataframe as csv\n",
    "# df.to_csv(\"data/rental_prices_singapore_8.csv\", index=False)"
   ]
  },
  {
   "cell_type": "code",
   "execution_count": 45,
   "id": "84745c95",
   "metadata": {},
   "outputs": [],
   "source": [
    "# Load enriched data\n",
    "# df = pd.read_csv(\"data/rental_prices_singapore_8.csv\")"
   ]
  },
  {
   "cell_type": "code",
   "execution_count": 46,
   "id": "5eeb9031",
   "metadata": {},
   "outputs": [
    {
     "name": "stdout",
     "output_type": "stream",
     "text": [
      "<class 'pandas.core.frame.DataFrame'>\n",
      "RangeIndex: 5082 entries, 0 to 5081\n",
      "Data columns (total 14 columns):\n",
      " #   Column                         Non-Null Count  Dtype  \n",
      "---  ------                         --------------  -----  \n",
      " 0   name                           5082 non-null   object \n",
      " 1   address                        4754 non-null   object \n",
      " 2   price                          5082 non-null   object \n",
      " 3   size                           5082 non-null   object \n",
      " 4   bedrooms                       5082 non-null   object \n",
      " 5   bathrooms                      4680 non-null   float64\n",
      " 6   property_type_furnishing_year  5082 non-null   object \n",
      " 7   mrt_distance                   4418 non-null   object \n",
      " 8   agent_description              5082 non-null   object \n",
      " 9   latitude                       4754 non-null   float64\n",
      " 10  longitude                      4754 non-null   float64\n",
      " 11  school_location                4737 non-null   object \n",
      " 12  meters_to_school               4737 non-null   float64\n",
      " 13  address_new                    5012 non-null   object \n",
      "dtypes: float64(4), object(10)\n",
      "memory usage: 556.0+ KB\n"
     ]
    }
   ],
   "source": [
    "# Show dataframe info\n",
    "df.info()"
   ]
  },
  {
   "cell_type": "markdown",
   "id": "67d00b42",
   "metadata": {},
   "source": [
    "# Feature extraction"
   ]
  },
  {
   "cell_type": "markdown",
   "id": "3b2e25f8",
   "metadata": {},
   "source": [
    "## Property type"
   ]
  },
  {
   "cell_type": "code",
   "execution_count": 47,
   "id": "43009e06",
   "metadata": {},
   "outputs": [],
   "source": [
    "# Create function to extract property type \n",
    "def extract_type(string):\n",
    "    if \"Condominium\" in string:\n",
    "        return \"Condominium\"\n",
    "    elif \"Apartment\" in string:\n",
    "        return \"Apartment\"\n",
    "    elif \"HDB Flat\" in string:\n",
    "        return \"HDB Flat\"\n",
    "    elif \"Semi-Detached House\" in string:\n",
    "        return \"Semi-Detached House\"\n",
    "    elif \"Good Class Bungalow\" in string:\n",
    "        return \"Good Class Bungalow\"\n",
    "    elif \"Corner Terrace\" in string:\n",
    "        return \"Corner Terrace\"\n",
    "    elif \"Detached House\" in string:\n",
    "        return \"Detached House\"\n",
    "    elif \"Executive Condominium\" in string:\n",
    "        return \"Executive Condominium\"\n",
    "    elif \"Terraced House\" in string:\n",
    "        return \"Terraced House\"\n",
    "    elif \"Bungalow House\" in string:\n",
    "        return \"Bungalow House\"\n",
    "    elif \"Cluster House\" in string:\n",
    "        return \"Cluster House\"\n",
    "    else:\n",
    "        return np.nan"
   ]
  },
  {
   "cell_type": "code",
   "execution_count": 48,
   "id": "f3fac230",
   "metadata": {},
   "outputs": [],
   "source": [
    "# Apply function to create property type column\n",
    "df[\"property_type\"] = df[\"property_type_furnishing_year\"].apply(extract_type)"
   ]
  },
  {
   "cell_type": "code",
   "execution_count": 49,
   "id": "dc920c4c",
   "metadata": {
    "scrolled": true
   },
   "outputs": [
    {
     "data": {
      "text/plain": [
       "Condominium            2770\n",
       "Apartment               905\n",
       "HDB Flat                763\n",
       "Semi-Detached House     188\n",
       "Good Class Bungalow     174\n",
       "Corner Terrace          103\n",
       "Detached House           79\n",
       "Terraced House           40\n",
       "Bungalow House           40\n",
       "Cluster House            20\n",
       "Name: property_type, dtype: int64"
      ]
     },
     "execution_count": 49,
     "metadata": {},
     "output_type": "execute_result"
    }
   ],
   "source": [
    "# Frequencies of property types\n",
    "df[\"property_type\"].value_counts()"
   ]
  },
  {
   "cell_type": "markdown",
   "id": "2fdf77fb",
   "metadata": {},
   "source": [
    "## Furnishing"
   ]
  },
  {
   "cell_type": "code",
   "execution_count": 50,
   "id": "9fa6807c",
   "metadata": {},
   "outputs": [],
   "source": [
    "# Create function to extract information about furnishing  \n",
    "def extract_furnishing(string):\n",
    "    if \"Fully Furnished\" in string:\n",
    "        return \"Fully Furnished\"\n",
    "    elif \"Partially Furnished\" in string:\n",
    "        return \"Partially Furnished\"\n",
    "    elif \"Unfurnished\" in string:\n",
    "        return \"Unfurnished\"\n",
    "    else:\n",
    "        return np.nan"
   ]
  },
  {
   "cell_type": "code",
   "execution_count": 51,
   "id": "61bc98d8",
   "metadata": {},
   "outputs": [],
   "source": [
    "# Apply function to create furnishing column\n",
    "df[\"furnishing\"] = df[\"property_type_furnishing_year\"].apply(extract_furnishing)"
   ]
  },
  {
   "cell_type": "code",
   "execution_count": 52,
   "id": "d14d9611",
   "metadata": {},
   "outputs": [
    {
     "data": {
      "text/plain": [
       "Partially Furnished    3058\n",
       "Fully Furnished        1600\n",
       "Unfurnished              84\n",
       "Name: furnishing, dtype: int64"
      ]
     },
     "execution_count": 52,
     "metadata": {},
     "output_type": "execute_result"
    }
   ],
   "source": [
    "# Frequencies of furnishing\n",
    "df[\"furnishing\"].value_counts()"
   ]
  },
  {
   "cell_type": "markdown",
   "id": "e3240de4",
   "metadata": {},
   "source": [
    "## Built year"
   ]
  },
  {
   "cell_type": "code",
   "execution_count": 53,
   "id": "0b5ec883",
   "metadata": {},
   "outputs": [],
   "source": [
    "# Create function to extract built year \n",
    "def extract_year(string):\n",
    "    year = re.search(r\"\\b\\d{4}\\b\", string)\n",
    "    if year:\n",
    "        return year.group()\n",
    "    else:\n",
    "        return np.nan"
   ]
  },
  {
   "cell_type": "code",
   "execution_count": 54,
   "id": "37d87a63",
   "metadata": {},
   "outputs": [],
   "source": [
    "# Apply function to create built year column\n",
    "df[\"year\"] = df[\"property_type_furnishing_year\"].apply(extract_year).astype(\"Int32\")"
   ]
  },
  {
   "cell_type": "code",
   "execution_count": 55,
   "id": "7d4739e4",
   "metadata": {
    "scrolled": true
   },
   "outputs": [
    {
     "data": {
      "text/plain": [
       "count    4398.000000\n",
       "mean     2009.644156\n",
       "std        12.091740\n",
       "min      1971.000000\n",
       "25%      2004.000000\n",
       "50%      2012.000000\n",
       "75%      2018.000000\n",
       "max      2024.000000\n",
       "Name: year, dtype: float64"
      ]
     },
     "execution_count": 55,
     "metadata": {},
     "output_type": "execute_result"
    }
   ],
   "source": [
    "# Descriptive statistics of built year\n",
    "df[\"year\"].describe()"
   ]
  },
  {
   "cell_type": "markdown",
   "id": "249e3cfc",
   "metadata": {},
   "source": [
    "## Meters to MRT"
   ]
  },
  {
   "cell_type": "code",
   "execution_count": 56,
   "id": "ef7ac06c",
   "metadata": {},
   "outputs": [],
   "source": [
    "# Extract MRT distance in meters\n",
    "df[\"meters_to_mrt\"] = df[\"mrt_distance\"].str.split(r\"m\\)\").str[0].str.split(r\"\\(\").str[1].astype(\"Int32\")"
   ]
  },
  {
   "cell_type": "markdown",
   "id": "d26555e0",
   "metadata": {},
   "source": [
    "## Renovated"
   ]
  },
  {
   "cell_type": "code",
   "execution_count": 57,
   "id": "82c6ed2c",
   "metadata": {},
   "outputs": [],
   "source": [
    "# Extract renovation information\n",
    "df[\"renovated\"] = df[\"agent_description\"].apply(lambda string: True if \"renovated\" in string.lower() or \n",
    "                                                \"renovation\" in string.lower() else False)"
   ]
  },
  {
   "cell_type": "markdown",
   "id": "323b7fa5",
   "metadata": {},
   "source": [
    "## Pool"
   ]
  },
  {
   "cell_type": "code",
   "execution_count": 58,
   "id": "4ad2a0da",
   "metadata": {},
   "outputs": [],
   "source": [
    "# Extract pool information\n",
    "df[\"pool\"] = df[\"agent_description\"].apply(lambda string: True if \"pool\" in string.lower() else False)"
   ]
  },
  {
   "cell_type": "markdown",
   "id": "9ddd639c",
   "metadata": {},
   "source": [
    "## Sea view"
   ]
  },
  {
   "cell_type": "code",
   "execution_count": 59,
   "id": "48f1469e",
   "metadata": {},
   "outputs": [],
   "source": [
    "# Extract sea view information\n",
    "df[\"sea_view\"] = df[\"agent_description\"].apply(lambda string: True if \"seaview\" in string.lower() or \n",
    "                                               \"sea view\" in string.lower() else False)"
   ]
  },
  {
   "cell_type": "markdown",
   "id": "9995205f",
   "metadata": {},
   "source": [
    "## Penthouse"
   ]
  },
  {
   "cell_type": "code",
   "execution_count": 60,
   "id": "3a010d3c",
   "metadata": {},
   "outputs": [],
   "source": [
    "# Extract penthouse information\n",
    "df[\"penthouse\"] = df[\"agent_description\"].apply(lambda string: True if \"penthouse\" in string.lower() else False)"
   ]
  },
  {
   "cell_type": "markdown",
   "id": "7154e273",
   "metadata": {},
   "source": [
    "# Convert data types"
   ]
  },
  {
   "cell_type": "code",
   "execution_count": 61,
   "id": "aa84aefb",
   "metadata": {},
   "outputs": [],
   "source": [
    "# Convert price from str to int\n",
    "df[\"price\"] = df[\"price\"].str.replace(\",\", \"\").astype(\"Int32\")"
   ]
  },
  {
   "cell_type": "code",
   "execution_count": 62,
   "id": "959d0314",
   "metadata": {},
   "outputs": [],
   "source": [
    "# Convert size (sqft) from str to int\n",
    "df[\"size\"] = df[\"size\"].str.split(\"sqft\").str[0].astype(\"Int32\")"
   ]
  },
  {
   "cell_type": "code",
   "execution_count": 63,
   "id": "d029d10c",
   "metadata": {},
   "outputs": [],
   "source": [
    "# Convert bathrooms from str to int\n",
    "df[\"bathrooms\"] = df[\"bathrooms\"].astype(\"Int32\")"
   ]
  },
  {
   "cell_type": "code",
   "execution_count": 64,
   "id": "b5b3e8fc",
   "metadata": {},
   "outputs": [],
   "source": [
    "# Convert meters_to_school from float to int\n",
    "df[\"meters_to_school\"] = df[\"meters_to_school\"].astype(\"Int32\")"
   ]
  },
  {
   "cell_type": "markdown",
   "id": "24bf8d6e",
   "metadata": {},
   "source": [
    "# Handle missing values"
   ]
  },
  {
   "cell_type": "markdown",
   "id": "b5248f8f",
   "metadata": {},
   "source": [
    "## Bathrooms"
   ]
  },
  {
   "cell_type": "code",
   "execution_count": 65,
   "id": "ca87a473",
   "metadata": {},
   "outputs": [
    {
     "data": {
      "text/plain": [
       "bedrooms\n",
       "1          1.1\n",
       "10        10.0\n",
       "2          1.7\n",
       "3          2.5\n",
       "4          4.1\n",
       "5          5.3\n",
       "6          5.8\n",
       "7          6.6\n",
       "8          8.1\n",
       "9          8.0\n",
       "Room      <NA>\n",
       "Studio    <NA>\n",
       "Name: bathrooms, dtype: Float64"
      ]
     },
     "execution_count": 65,
     "metadata": {},
     "output_type": "execute_result"
    }
   ],
   "source": [
    "# Average number of bathrooms by number of bedrooms\n",
    "np.round(df[\"bathrooms\"].groupby(df[\"bedrooms\"]).mean(), 1)"
   ]
  },
  {
   "cell_type": "code",
   "execution_count": 66,
   "id": "145fbd3a",
   "metadata": {},
   "outputs": [],
   "source": [
    "# Assume 1 bathroom for a studio\n",
    "df[\"bathrooms\"][df[\"bedrooms\"]==\"Studio\"] = 1\n",
    "# Assume 1 bathroom for a room in a shared flat\n",
    "df[\"bathrooms\"][df[\"bedrooms\"]==\"Room\"] = 1\n",
    "# Else assume the same number as bedrooms\n",
    "df[\"bathrooms\"][pd.isna(df[\"bathrooms\"])] = df[\"bedrooms\"]"
   ]
  },
  {
   "cell_type": "markdown",
   "id": "272a6204",
   "metadata": {},
   "source": [
    "## Latitude and longitude"
   ]
  },
  {
   "cell_type": "code",
   "execution_count": 67,
   "id": "2d4a3455",
   "metadata": {},
   "outputs": [],
   "source": [
    "# Delete rows where latitude or longitude is missing \n",
    "df.dropna(subset=[\"latitude\", \"longitude\"], how=\"any\", inplace=True)"
   ]
  },
  {
   "cell_type": "markdown",
   "id": "48d10b82",
   "metadata": {},
   "source": [
    "## Meters to school"
   ]
  },
  {
   "cell_type": "code",
   "execution_count": 68,
   "id": "5da46e52",
   "metadata": {},
   "outputs": [
    {
     "data": {
      "text/plain": [
       "count    4737.000000\n",
       "mean     1475.897615\n",
       "std       843.668011\n",
       "min         0.000000\n",
       "25%       927.000000\n",
       "50%      1335.000000\n",
       "75%      1821.000000\n",
       "max      9042.000000\n",
       "Name: meters_to_school, dtype: float64"
      ]
     },
     "execution_count": 68,
     "metadata": {},
     "output_type": "execute_result"
    }
   ],
   "source": [
    "# Descriptive statistics of meters to school\n",
    "df[\"meters_to_school\"].describe()"
   ]
  },
  {
   "cell_type": "code",
   "execution_count": 69,
   "id": "260a35d8",
   "metadata": {},
   "outputs": [],
   "source": [
    "# Impute the maximum value if meters to school are missing\n",
    "max_meters_to_school = df[\"meters_to_school\"].max()\n",
    "df[\"meters_to_school\"] = df[\"meters_to_school\"].fillna(max_meters_to_school)"
   ]
  },
  {
   "cell_type": "markdown",
   "id": "d876c521",
   "metadata": {},
   "source": [
    "## Meters to MRT"
   ]
  },
  {
   "cell_type": "code",
   "execution_count": 70,
   "id": "e76d6abc",
   "metadata": {},
   "outputs": [
    {
     "data": {
      "text/plain": [
       "count    4165.000000\n",
       "mean      459.193277\n",
       "std       223.646902\n",
       "min        20.000000\n",
       "25%       270.000000\n",
       "50%       450.000000\n",
       "75%       610.000000\n",
       "max       990.000000\n",
       "Name: meters_to_mrt, dtype: float64"
      ]
     },
     "execution_count": 70,
     "metadata": {},
     "output_type": "execute_result"
    }
   ],
   "source": [
    "# Descriptive statistics of meters to MRT\n",
    "df[\"meters_to_mrt\"].describe()"
   ]
  },
  {
   "cell_type": "code",
   "execution_count": 71,
   "id": "e9841d51",
   "metadata": {},
   "outputs": [],
   "source": [
    "# Impute the median if meters to MRT are missing\n",
    "median_meters_to_mrt = df[\"meters_to_mrt\"].median()\n",
    "df[\"meters_to_mrt\"] = df[\"meters_to_mrt\"].fillna(median_meters_to_mrt)"
   ]
  },
  {
   "cell_type": "markdown",
   "id": "e48e9579",
   "metadata": {},
   "source": [
    "## Furnishing"
   ]
  },
  {
   "cell_type": "code",
   "execution_count": 72,
   "id": "079bccd7",
   "metadata": {},
   "outputs": [
    {
     "data": {
      "text/plain": [
       "Partially Furnished    2880\n",
       "Fully Furnished        1476\n",
       "Unfurnished              74\n",
       "Name: furnishing, dtype: int64"
      ]
     },
     "execution_count": 72,
     "metadata": {},
     "output_type": "execute_result"
    }
   ],
   "source": [
    "# Frequencies of furnishing\n",
    "df[\"furnishing\"].value_counts()"
   ]
  },
  {
   "cell_type": "code",
   "execution_count": 73,
   "id": "5089475a",
   "metadata": {},
   "outputs": [],
   "source": [
    "# Impute the mode if furnishing information is missing\n",
    "mode_furnishing = df[\"furnishing\"].mode()[0]\n",
    "df[\"furnishing\"] = df[\"furnishing\"].fillna(mode_furnishing)"
   ]
  },
  {
   "cell_type": "markdown",
   "id": "bb1e51d0",
   "metadata": {},
   "source": [
    "## Built year"
   ]
  },
  {
   "cell_type": "code",
   "execution_count": 74,
   "id": "b7fe369f",
   "metadata": {},
   "outputs": [
    {
     "data": {
      "text/plain": [
       "count    4128.000000\n",
       "mean     2009.596899\n",
       "std        12.065780\n",
       "min      1971.000000\n",
       "25%      2004.000000\n",
       "50%      2012.000000\n",
       "75%      2017.000000\n",
       "max      2024.000000\n",
       "Name: year, dtype: float64"
      ]
     },
     "execution_count": 74,
     "metadata": {},
     "output_type": "execute_result"
    }
   ],
   "source": [
    "# Descriptive statistics of built year\n",
    "df[\"year\"].describe()"
   ]
  },
  {
   "cell_type": "code",
   "execution_count": 75,
   "id": "0d025c96",
   "metadata": {},
   "outputs": [],
   "source": [
    "# Impute the median if built year is missing\n",
    "median_year = df[\"year\"].median()\n",
    "df[\"year\"] = df[\"year\"].fillna(median_year)"
   ]
  },
  {
   "cell_type": "markdown",
   "id": "11dfdef7",
   "metadata": {},
   "source": [
    "# Check data"
   ]
  },
  {
   "cell_type": "code",
   "execution_count": 76,
   "id": "eecdd4b9",
   "metadata": {
    "scrolled": false
   },
   "outputs": [
    {
     "name": "stdout",
     "output_type": "stream",
     "text": [
      "<class 'pandas.core.frame.DataFrame'>\n",
      "Int64Index: 4754 entries, 0 to 5081\n",
      "Data columns (total 22 columns):\n",
      " #   Column                         Non-Null Count  Dtype  \n",
      "---  ------                         --------------  -----  \n",
      " 0   name                           4754 non-null   object \n",
      " 1   address                        4754 non-null   object \n",
      " 2   price                          4754 non-null   Int32  \n",
      " 3   size                           4754 non-null   Int32  \n",
      " 4   bedrooms                       4754 non-null   object \n",
      " 5   bathrooms                      4754 non-null   Int32  \n",
      " 6   property_type_furnishing_year  4754 non-null   object \n",
      " 7   mrt_distance                   4165 non-null   object \n",
      " 8   agent_description              4754 non-null   object \n",
      " 9   latitude                       4754 non-null   float64\n",
      " 10  longitude                      4754 non-null   float64\n",
      " 11  school_location                4737 non-null   object \n",
      " 12  meters_to_school               4754 non-null   Int32  \n",
      " 13  address_new                    4754 non-null   object \n",
      " 14  property_type                  4754 non-null   object \n",
      " 15  furnishing                     4754 non-null   object \n",
      " 16  year                           4754 non-null   Int32  \n",
      " 17  meters_to_mrt                  4754 non-null   Int32  \n",
      " 18  renovated                      4754 non-null   bool   \n",
      " 19  pool                           4754 non-null   bool   \n",
      " 20  sea_view                       4754 non-null   bool   \n",
      " 21  penthouse                      4754 non-null   bool   \n",
      "dtypes: Int32(6), bool(4), float64(2), object(10)\n",
      "memory usage: 640.7+ KB\n"
     ]
    }
   ],
   "source": [
    "# Show dataframe info\n",
    "df.info()"
   ]
  },
  {
   "cell_type": "code",
   "execution_count": 77,
   "id": "92577ee0",
   "metadata": {
    "scrolled": true
   },
   "outputs": [
    {
     "data": {
      "text/html": [
       "<div>\n",
       "<style scoped>\n",
       "    .dataframe tbody tr th:only-of-type {\n",
       "        vertical-align: middle;\n",
       "    }\n",
       "\n",
       "    .dataframe tbody tr th {\n",
       "        vertical-align: top;\n",
       "    }\n",
       "\n",
       "    .dataframe thead th {\n",
       "        text-align: right;\n",
       "    }\n",
       "</style>\n",
       "<table border=\"1\" class=\"dataframe\">\n",
       "  <thead>\n",
       "    <tr style=\"text-align: right;\">\n",
       "      <th></th>\n",
       "      <th>name</th>\n",
       "      <th>address</th>\n",
       "      <th>price</th>\n",
       "      <th>size</th>\n",
       "      <th>bedrooms</th>\n",
       "      <th>bathrooms</th>\n",
       "      <th>property_type_furnishing_year</th>\n",
       "      <th>mrt_distance</th>\n",
       "      <th>agent_description</th>\n",
       "      <th>latitude</th>\n",
       "      <th>...</th>\n",
       "      <th>meters_to_school</th>\n",
       "      <th>address_new</th>\n",
       "      <th>property_type</th>\n",
       "      <th>furnishing</th>\n",
       "      <th>year</th>\n",
       "      <th>meters_to_mrt</th>\n",
       "      <th>renovated</th>\n",
       "      <th>pool</th>\n",
       "      <th>sea_view</th>\n",
       "      <th>penthouse</th>\n",
       "    </tr>\n",
       "  </thead>\n",
       "  <tbody>\n",
       "    <tr>\n",
       "      <th>0</th>\n",
       "      <td>Brand new Attic Studio, in a Peranakan Conserv...</td>\n",
       "      <td>Lorong 34 Geylang</td>\n",
       "      <td>3000</td>\n",
       "      <td>400</td>\n",
       "      <td>1</td>\n",
       "      <td>1</td>\n",
       "      <td>\\nApartment\\nFully Furnished\\n</td>\n",
       "      <td>NaN</td>\n",
       "      <td>One and only attic studio! Beautifully done up...</td>\n",
       "      <td>1.312952</td>\n",
       "      <td>...</td>\n",
       "      <td>422</td>\n",
       "      <td>Lorong 34 Geylang</td>\n",
       "      <td>Apartment</td>\n",
       "      <td>Fully Furnished</td>\n",
       "      <td>2012</td>\n",
       "      <td>450</td>\n",
       "      <td>False</td>\n",
       "      <td>False</td>\n",
       "      <td>False</td>\n",
       "      <td>False</td>\n",
       "    </tr>\n",
       "    <tr>\n",
       "      <th>1</th>\n",
       "      <td>Astor</td>\n",
       "      <td>51C Lengkong Empat</td>\n",
       "      <td>2000</td>\n",
       "      <td>1130</td>\n",
       "      <td>Room</td>\n",
       "      <td>1</td>\n",
       "      <td>\\nApartment\\nFully Furnished\\n</td>\n",
       "      <td>11 mins (810 m) to DT28 Kaki Bukit MRT</td>\n",
       "      <td>Comes with In House Maid</td>\n",
       "      <td>1.328820</td>\n",
       "      <td>...</td>\n",
       "      <td>3573</td>\n",
       "      <td>51C Lengkong Empat</td>\n",
       "      <td>Apartment</td>\n",
       "      <td>Fully Furnished</td>\n",
       "      <td>2012</td>\n",
       "      <td>810</td>\n",
       "      <td>False</td>\n",
       "      <td>False</td>\n",
       "      <td>False</td>\n",
       "      <td>False</td>\n",
       "    </tr>\n",
       "    <tr>\n",
       "      <th>2</th>\n",
       "      <td>Springhill Terrace</td>\n",
       "      <td>Sunrise avenue</td>\n",
       "      <td>7400</td>\n",
       "      <td>3800</td>\n",
       "      <td>5</td>\n",
       "      <td>4</td>\n",
       "      <td>\\nApartment\\nFully Furnished\\n</td>\n",
       "      <td>NaN</td>\n",
       "      <td>Close to MRT and short drive to French, Austra...</td>\n",
       "      <td>1.389444</td>\n",
       "      <td>...</td>\n",
       "      <td>568</td>\n",
       "      <td>Sunrise avenue</td>\n",
       "      <td>Apartment</td>\n",
       "      <td>Fully Furnished</td>\n",
       "      <td>2012</td>\n",
       "      <td>450</td>\n",
       "      <td>False</td>\n",
       "      <td>False</td>\n",
       "      <td>False</td>\n",
       "      <td>False</td>\n",
       "    </tr>\n",
       "    <tr>\n",
       "      <th>3</th>\n",
       "      <td>704 Yishun Avenue 5</td>\n",
       "      <td>704 Yishun Avenue 5</td>\n",
       "      <td>1000</td>\n",
       "      <td>120</td>\n",
       "      <td>Room</td>\n",
       "      <td>1</td>\n",
       "      <td>\\nApartment\\nFully Furnished\\n</td>\n",
       "      <td>9 mins (700 m) to NS13 Yishun MRT</td>\n",
       "      <td>Room for 1 or 2 single ladies</td>\n",
       "      <td>1.429261</td>\n",
       "      <td>...</td>\n",
       "      <td>1090</td>\n",
       "      <td>704 Yishun Avenue 5</td>\n",
       "      <td>Apartment</td>\n",
       "      <td>Fully Furnished</td>\n",
       "      <td>2012</td>\n",
       "      <td>700</td>\n",
       "      <td>False</td>\n",
       "      <td>False</td>\n",
       "      <td>False</td>\n",
       "      <td>False</td>\n",
       "    </tr>\n",
       "    <tr>\n",
       "      <th>4</th>\n",
       "      <td>Espada</td>\n",
       "      <td>48 Saint Thomas Walk</td>\n",
       "      <td>4300</td>\n",
       "      <td>689</td>\n",
       "      <td>1</td>\n",
       "      <td>1</td>\n",
       "      <td>\\nApartment\\nFully Furnished\\n</td>\n",
       "      <td>6 mins (420 m) to NS23 Somerset MRT</td>\n",
       "      <td>All units virtual online viewing available! An...</td>\n",
       "      <td>1.297356</td>\n",
       "      <td>...</td>\n",
       "      <td>1262</td>\n",
       "      <td>48 Saint Thomas Walk</td>\n",
       "      <td>Apartment</td>\n",
       "      <td>Fully Furnished</td>\n",
       "      <td>2012</td>\n",
       "      <td>420</td>\n",
       "      <td>False</td>\n",
       "      <td>False</td>\n",
       "      <td>False</td>\n",
       "      <td>False</td>\n",
       "    </tr>\n",
       "    <tr>\n",
       "      <th>...</th>\n",
       "      <td>...</td>\n",
       "      <td>...</td>\n",
       "      <td>...</td>\n",
       "      <td>...</td>\n",
       "      <td>...</td>\n",
       "      <td>...</td>\n",
       "      <td>...</td>\n",
       "      <td>...</td>\n",
       "      <td>...</td>\n",
       "      <td>...</td>\n",
       "      <td>...</td>\n",
       "      <td>...</td>\n",
       "      <td>...</td>\n",
       "      <td>...</td>\n",
       "      <td>...</td>\n",
       "      <td>...</td>\n",
       "      <td>...</td>\n",
       "      <td>...</td>\n",
       "      <td>...</td>\n",
       "      <td>...</td>\n",
       "      <td>...</td>\n",
       "    </tr>\n",
       "    <tr>\n",
       "      <th>5077</th>\n",
       "      <td>Avenue South Residence</td>\n",
       "      <td>13 Silat Avenue</td>\n",
       "      <td>7500</td>\n",
       "      <td>947</td>\n",
       "      <td>3</td>\n",
       "      <td>2</td>\n",
       "      <td>\\nBungalow House\\nPartially Furnished\\n</td>\n",
       "      <td>NaN</td>\n",
       "      <td>Newly TOP! Be the first to stay near town!</td>\n",
       "      <td>1.276469</td>\n",
       "      <td>...</td>\n",
       "      <td>797</td>\n",
       "      <td>13 Silat Avenue</td>\n",
       "      <td>Bungalow House</td>\n",
       "      <td>Partially Furnished</td>\n",
       "      <td>2012</td>\n",
       "      <td>450</td>\n",
       "      <td>False</td>\n",
       "      <td>False</td>\n",
       "      <td>False</td>\n",
       "      <td>False</td>\n",
       "    </tr>\n",
       "    <tr>\n",
       "      <th>5078</th>\n",
       "      <td>453B Fernvale Road</td>\n",
       "      <td>453B Fernvale Road</td>\n",
       "      <td>999</td>\n",
       "      <td>150</td>\n",
       "      <td>Room</td>\n",
       "      <td>1</td>\n",
       "      <td>\\nBungalow House\\nPartially Furnished\\n</td>\n",
       "      <td>4 mins (290 m) to SW5 Fernvale LRT</td>\n",
       "      <td>Close to fernvale LRT</td>\n",
       "      <td>1.393888</td>\n",
       "      <td>...</td>\n",
       "      <td>1510</td>\n",
       "      <td>453B Fernvale Road</td>\n",
       "      <td>Bungalow House</td>\n",
       "      <td>Partially Furnished</td>\n",
       "      <td>2012</td>\n",
       "      <td>290</td>\n",
       "      <td>False</td>\n",
       "      <td>False</td>\n",
       "      <td>False</td>\n",
       "      <td>False</td>\n",
       "    </tr>\n",
       "    <tr>\n",
       "      <th>5079</th>\n",
       "      <td>Riviere</td>\n",
       "      <td>1 Jiak Kim Street</td>\n",
       "      <td>8000</td>\n",
       "      <td>840</td>\n",
       "      <td>2</td>\n",
       "      <td>2</td>\n",
       "      <td>\\nBungalow House\\nPartially Furnished\\n</td>\n",
       "      <td>5 mins (370 m) to TE16 Havelock MRT</td>\n",
       "      <td>Brand new pool facing unit!</td>\n",
       "      <td>1.291419</td>\n",
       "      <td>...</td>\n",
       "      <td>1422</td>\n",
       "      <td>1 Jiak Kim Street</td>\n",
       "      <td>Bungalow House</td>\n",
       "      <td>Partially Furnished</td>\n",
       "      <td>2012</td>\n",
       "      <td>370</td>\n",
       "      <td>False</td>\n",
       "      <td>True</td>\n",
       "      <td>False</td>\n",
       "      <td>False</td>\n",
       "    </tr>\n",
       "    <tr>\n",
       "      <th>5080</th>\n",
       "      <td>Bukit Villas</td>\n",
       "      <td>1 Rasok Drive</td>\n",
       "      <td>7100</td>\n",
       "      <td>3025</td>\n",
       "      <td>5</td>\n",
       "      <td>4</td>\n",
       "      <td>\\nBungalow House\\nPartially Furnished\\n</td>\n",
       "      <td>NaN</td>\n",
       "      <td>Tranquil surroundings, facilities included! Po...</td>\n",
       "      <td>1.416662</td>\n",
       "      <td>...</td>\n",
       "      <td>9042</td>\n",
       "      <td>1 Rasok Drive</td>\n",
       "      <td>Bungalow House</td>\n",
       "      <td>Partially Furnished</td>\n",
       "      <td>2012</td>\n",
       "      <td>450</td>\n",
       "      <td>False</td>\n",
       "      <td>True</td>\n",
       "      <td>False</td>\n",
       "      <td>False</td>\n",
       "    </tr>\n",
       "    <tr>\n",
       "      <th>5081</th>\n",
       "      <td>442A Bukit Batok West Avenue 8</td>\n",
       "      <td>442A Bukit Batok West Avenue 8</td>\n",
       "      <td>4600</td>\n",
       "      <td>1205</td>\n",
       "      <td>3</td>\n",
       "      <td>2</td>\n",
       "      <td>\\nBungalow House\\nPartially Furnished\\n</td>\n",
       "      <td>7 mins (530 m) to JE2 Tengah Park MRT</td>\n",
       "      <td>Quiet Spacious 5 Room Unit for Rent</td>\n",
       "      <td>1.356624</td>\n",
       "      <td>...</td>\n",
       "      <td>1950</td>\n",
       "      <td>442A Bukit Batok West Avenue 8</td>\n",
       "      <td>Bungalow House</td>\n",
       "      <td>Partially Furnished</td>\n",
       "      <td>2012</td>\n",
       "      <td>530</td>\n",
       "      <td>False</td>\n",
       "      <td>False</td>\n",
       "      <td>False</td>\n",
       "      <td>False</td>\n",
       "    </tr>\n",
       "  </tbody>\n",
       "</table>\n",
       "<p>4754 rows × 22 columns</p>\n",
       "</div>"
      ],
      "text/plain": [
       "                                                   name  \\\n",
       "0     Brand new Attic Studio, in a Peranakan Conserv...   \n",
       "1                                                 Astor   \n",
       "2                                    Springhill Terrace   \n",
       "3                                   704 Yishun Avenue 5   \n",
       "4                                                Espada   \n",
       "...                                                 ...   \n",
       "5077                             Avenue South Residence   \n",
       "5078                                 453B Fernvale Road   \n",
       "5079                                            Riviere   \n",
       "5080                                       Bukit Villas   \n",
       "5081                     442A Bukit Batok West Avenue 8   \n",
       "\n",
       "                             address  price  size bedrooms  bathrooms  \\\n",
       "0                  Lorong 34 Geylang   3000   400        1          1   \n",
       "1                 51C Lengkong Empat   2000  1130     Room          1   \n",
       "2                     Sunrise avenue   7400  3800        5          4   \n",
       "3                704 Yishun Avenue 5   1000   120     Room          1   \n",
       "4               48 Saint Thomas Walk   4300   689        1          1   \n",
       "...                              ...    ...   ...      ...        ...   \n",
       "5077                 13 Silat Avenue   7500   947        3          2   \n",
       "5078              453B Fernvale Road    999   150     Room          1   \n",
       "5079               1 Jiak Kim Street   8000   840        2          2   \n",
       "5080                   1 Rasok Drive   7100  3025        5          4   \n",
       "5081  442A Bukit Batok West Avenue 8   4600  1205        3          2   \n",
       "\n",
       "                property_type_furnishing_year  \\\n",
       "0              \\nApartment\\nFully Furnished\\n   \n",
       "1              \\nApartment\\nFully Furnished\\n   \n",
       "2              \\nApartment\\nFully Furnished\\n   \n",
       "3              \\nApartment\\nFully Furnished\\n   \n",
       "4              \\nApartment\\nFully Furnished\\n   \n",
       "...                                       ...   \n",
       "5077  \\nBungalow House\\nPartially Furnished\\n   \n",
       "5078  \\nBungalow House\\nPartially Furnished\\n   \n",
       "5079  \\nBungalow House\\nPartially Furnished\\n   \n",
       "5080  \\nBungalow House\\nPartially Furnished\\n   \n",
       "5081  \\nBungalow House\\nPartially Furnished\\n   \n",
       "\n",
       "                                mrt_distance  \\\n",
       "0                                        NaN   \n",
       "1     11 mins (810 m) to DT28 Kaki Bukit MRT   \n",
       "2                                        NaN   \n",
       "3          9 mins (700 m) to NS13 Yishun MRT   \n",
       "4        6 mins (420 m) to NS23 Somerset MRT   \n",
       "...                                      ...   \n",
       "5077                                     NaN   \n",
       "5078      4 mins (290 m) to SW5 Fernvale LRT   \n",
       "5079     5 mins (370 m) to TE16 Havelock MRT   \n",
       "5080                                     NaN   \n",
       "5081   7 mins (530 m) to JE2 Tengah Park MRT   \n",
       "\n",
       "                                      agent_description  latitude  ...  \\\n",
       "0     One and only attic studio! Beautifully done up...  1.312952  ...   \n",
       "1                              Comes with In House Maid  1.328820  ...   \n",
       "2     Close to MRT and short drive to French, Austra...  1.389444  ...   \n",
       "3                         Room for 1 or 2 single ladies  1.429261  ...   \n",
       "4     All units virtual online viewing available! An...  1.297356  ...   \n",
       "...                                                 ...       ...  ...   \n",
       "5077         Newly TOP! Be the first to stay near town!  1.276469  ...   \n",
       "5078                              Close to fernvale LRT  1.393888  ...   \n",
       "5079                        Brand new pool facing unit!  1.291419  ...   \n",
       "5080  Tranquil surroundings, facilities included! Po...  1.416662  ...   \n",
       "5081                Quiet Spacious 5 Room Unit for Rent  1.356624  ...   \n",
       "\n",
       "      meters_to_school                     address_new   property_type  \\\n",
       "0                  422               Lorong 34 Geylang       Apartment   \n",
       "1                 3573              51C Lengkong Empat       Apartment   \n",
       "2                  568                  Sunrise avenue       Apartment   \n",
       "3                 1090             704 Yishun Avenue 5       Apartment   \n",
       "4                 1262            48 Saint Thomas Walk       Apartment   \n",
       "...                ...                             ...             ...   \n",
       "5077               797                 13 Silat Avenue  Bungalow House   \n",
       "5078              1510              453B Fernvale Road  Bungalow House   \n",
       "5079              1422               1 Jiak Kim Street  Bungalow House   \n",
       "5080              9042                   1 Rasok Drive  Bungalow House   \n",
       "5081              1950  442A Bukit Batok West Avenue 8  Bungalow House   \n",
       "\n",
       "               furnishing  year meters_to_mrt  renovated   pool  sea_view  \\\n",
       "0         Fully Furnished  2012           450      False  False     False   \n",
       "1         Fully Furnished  2012           810      False  False     False   \n",
       "2         Fully Furnished  2012           450      False  False     False   \n",
       "3         Fully Furnished  2012           700      False  False     False   \n",
       "4         Fully Furnished  2012           420      False  False     False   \n",
       "...                   ...   ...           ...        ...    ...       ...   \n",
       "5077  Partially Furnished  2012           450      False  False     False   \n",
       "5078  Partially Furnished  2012           290      False  False     False   \n",
       "5079  Partially Furnished  2012           370      False   True     False   \n",
       "5080  Partially Furnished  2012           450      False   True     False   \n",
       "5081  Partially Furnished  2012           530      False  False     False   \n",
       "\n",
       "      penthouse  \n",
       "0         False  \n",
       "1         False  \n",
       "2         False  \n",
       "3         False  \n",
       "4         False  \n",
       "...         ...  \n",
       "5077      False  \n",
       "5078      False  \n",
       "5079      False  \n",
       "5080      False  \n",
       "5081      False  \n",
       "\n",
       "[4754 rows x 22 columns]"
      ]
     },
     "execution_count": 77,
     "metadata": {},
     "output_type": "execute_result"
    }
   ],
   "source": [
    "# Show top and bottom five rows\n",
    "df"
   ]
  },
  {
   "cell_type": "markdown",
   "id": "2cf22e1f",
   "metadata": {},
   "source": [
    "# Exploratory data analysis"
   ]
  },
  {
   "cell_type": "markdown",
   "id": "b7149699",
   "metadata": {},
   "source": [
    "## Word cloud of agent descriptions"
   ]
  },
  {
   "cell_type": "code",
   "execution_count": 80,
   "id": "e0e59b88",
   "metadata": {},
   "outputs": [],
   "source": [
    "from wordcloud import WordCloud"
   ]
  },
  {
   "cell_type": "code",
   "execution_count": 85,
   "id": "a8d77031",
   "metadata": {},
   "outputs": [
    {
     "data": {
      "image/png": "[encoded data removed]",
      "text/plain": [
       "<Figure size 1000x500 with 1 Axes>"
      ]
     },
     "metadata": {},
     "output_type": "display_data"
    }
   ],
   "source": [
    "# Combine all agent descriptions in one str\n",
    "text = \" \".join(df[\"agent_description\"])\n",
    "\n",
    "# Create a WordCloud object\n",
    "wordcloud = WordCloud(width=800, height=400, background_color=\"white\")\n",
    "\n",
    "# Create a word cloud of the agent descriptions\n",
    "wordcloud.generate(text)\n",
    "\n",
    "# Display the word cloud \n",
    "plt.figure(figsize=(10, 5))\n",
    "plt.imshow(wordcloud, interpolation=\"bilinear\")\n",
    "plt.axis(\"off\")  # Turn off the axis\n",
    "plt.show()"
   ]
  },
  {
   "cell_type": "markdown",
   "id": "1a0ceeb7",
   "metadata": {},
   "source": [
    "# Save preprocessed data"
   ]
  },
  {
   "cell_type": "code",
   "execution_count": null,
   "id": "58b2f46a",
   "metadata": {},
   "outputs": [],
   "source": [
    "# Delete columns that are no longer needed\n",
    "df.drop([\"name\", \"address\", \"property_type_furnishing_year\", \"mrt_distance\", \"agent_description\", \"school_location\", \n",
    "         \"address_new\"], axis=1, inplace=True)"
   ]
  },
  {
   "cell_type": "code",
   "execution_count": null,
   "id": "222b9378",
   "metadata": {},
   "outputs": [],
   "source": [
    "# Save preprocessed data as csv\n",
    "# df.to_csv(\"data/rental_prices_singapore_preprocessed.csv\", index=False)"
   ]
  }
 ],
 "metadata": {
  "kernelspec": {
   "display_name": "Python 3 (ipykernel)",
   "language": "python",
   "name": "python3"
  },
  "language_info": {
   "codemirror_mode": {
    "name": "ipython",
    "version": 3
   },
   "file_extension": ".py",
   "mimetype": "text/x-python",
   "name": "python",
   "nbconvert_exporter": "python",
   "pygments_lexer": "ipython3",
   "version": "3.9.13"
  },
  "toc": {
   "base_numbering": 1,
   "nav_menu": {},
   "number_sections": true,
   "sideBar": true,
   "skip_h1_title": false,
   "title_cell": "Table of Contents",
   "title_sidebar": "Contents",
   "toc_cell": false,
   "toc_position": {
    "height": "calc(100% - 180px)",
    "left": "10px",
    "top": "150px",
    "width": "384px"
   },
   "toc_section_display": true,
   "toc_window_display": true
  }
 },
 "nbformat": 4,
 "nbformat_minor": 5
}
