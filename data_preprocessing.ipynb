{
 "cells": [
  {
   "cell_type": "code",
   "execution_count": 1,
   "id": "f29a2fb8",
   "metadata": {},
   "outputs": [],
   "source": [
    "import numpy as np\n",
    "import pandas as pd\n",
    "import re\n",
    "import requests\n",
    "from dotenv import load_dotenv\n",
    "import os"
   ]
  },
  {
   "cell_type": "markdown",
   "id": "de97be28",
   "metadata": {},
   "source": [
    "# Read data"
   ]
  },
  {
   "cell_type": "code",
   "execution_count": 2,
   "id": "fbd9a7fa",
   "metadata": {},
   "outputs": [],
   "source": [
    "# Read data from csv\n",
    "df = pd.read_csv(\"data/rental_prices_singapore.csv\")"
   ]
  },
  {
   "cell_type": "code",
   "execution_count": 3,
   "id": "608ebde1",
   "metadata": {},
   "outputs": [
    {
     "name": "stdout",
     "output_type": "stream",
     "text": [
      "<class 'pandas.core.frame.DataFrame'>\n",
      "RangeIndex: 5360 entries, 0 to 5359\n",
      "Data columns (total 9 columns):\n",
      " #   Column                         Non-Null Count  Dtype  \n",
      "---  ------                         --------------  -----  \n",
      " 0   name                           5360 non-null   object \n",
      " 1   address                        5011 non-null   object \n",
      " 2   price                          5360 non-null   object \n",
      " 3   size                           5360 non-null   object \n",
      " 4   bedrooms                       5360 non-null   object \n",
      " 5   bathrooms                      4941 non-null   float64\n",
      " 6   property_type_furnishing_year  5360 non-null   object \n",
      " 7   mrt_distance                   4641 non-null   object \n",
      " 8   agent_description              5360 non-null   object \n",
      "dtypes: float64(1), object(8)\n",
      "memory usage: 377.0+ KB\n"
     ]
    }
   ],
   "source": [
    "# Show dataframe info\n",
    "df.info()"
   ]
  },
  {
   "cell_type": "code",
   "execution_count": 17,
   "id": "43f905cc",
   "metadata": {},
   "outputs": [
    {
     "data": {
      "text/html": [
       "<div>\n",
       "<style scoped>\n",
       "    .dataframe tbody tr th:only-of-type {\n",
       "        vertical-align: middle;\n",
       "    }\n",
       "\n",
       "    .dataframe tbody tr th {\n",
       "        vertical-align: top;\n",
       "    }\n",
       "\n",
       "    .dataframe thead th {\n",
       "        text-align: right;\n",
       "    }\n",
       "</style>\n",
       "<table border=\"1\" class=\"dataframe\">\n",
       "  <thead>\n",
       "    <tr style=\"text-align: right;\">\n",
       "      <th></th>\n",
       "      <th>name</th>\n",
       "      <th>address</th>\n",
       "      <th>price</th>\n",
       "      <th>size</th>\n",
       "      <th>bedrooms</th>\n",
       "      <th>bathrooms</th>\n",
       "      <th>property_type_furnishing_year</th>\n",
       "      <th>mrt_distance</th>\n",
       "      <th>agent_description</th>\n",
       "      <th>latitude</th>\n",
       "      <th>longitude</th>\n",
       "    </tr>\n",
       "  </thead>\n",
       "  <tbody>\n",
       "    <tr>\n",
       "      <th>0</th>\n",
       "      <td>Brand new Attic Studio, in a Peranakan Conserv...</td>\n",
       "      <td>Lorong 34 Geylang</td>\n",
       "      <td>3,000</td>\n",
       "      <td>400 sqft</td>\n",
       "      <td>1</td>\n",
       "      <td>1.0</td>\n",
       "      <td>\\nApartment\\nFully Furnished\\n</td>\n",
       "      <td>NaN</td>\n",
       "      <td>One and only attic studio! Beautifully done up...</td>\n",
       "      <td>1.312952</td>\n",
       "      <td>103.887868</td>\n",
       "    </tr>\n",
       "    <tr>\n",
       "      <th>1</th>\n",
       "      <td>Astor</td>\n",
       "      <td>51C Lengkong Empat</td>\n",
       "      <td>2,000</td>\n",
       "      <td>1130 sqft</td>\n",
       "      <td>Room</td>\n",
       "      <td>NaN</td>\n",
       "      <td>\\nApartment\\nFully Furnished\\n</td>\n",
       "      <td>11 mins (810 m) to DT28 Kaki Bukit MRT</td>\n",
       "      <td>Comes with In House Maid</td>\n",
       "      <td>1.328820</td>\n",
       "      <td>103.912904</td>\n",
       "    </tr>\n",
       "    <tr>\n",
       "      <th>2</th>\n",
       "      <td>Springhill Terrace</td>\n",
       "      <td>Sunrise avenue</td>\n",
       "      <td>7,400</td>\n",
       "      <td>3800 sqft</td>\n",
       "      <td>5</td>\n",
       "      <td>4.0</td>\n",
       "      <td>\\nApartment\\nFully Furnished\\n</td>\n",
       "      <td>NaN</td>\n",
       "      <td>Close to MRT and short drive to French, Austra...</td>\n",
       "      <td>1.389444</td>\n",
       "      <td>103.857002</td>\n",
       "    </tr>\n",
       "    <tr>\n",
       "      <th>3</th>\n",
       "      <td>704 Yishun Avenue 5</td>\n",
       "      <td>704 Yishun Avenue 5</td>\n",
       "      <td>1,000</td>\n",
       "      <td>120 sqft</td>\n",
       "      <td>Room</td>\n",
       "      <td>NaN</td>\n",
       "      <td>\\nApartment\\nFully Furnished\\n</td>\n",
       "      <td>9 mins (700 m) to NS13 Yishun MRT</td>\n",
       "      <td>Room for 1 or 2 single ladies</td>\n",
       "      <td>1.429261</td>\n",
       "      <td>103.828917</td>\n",
       "    </tr>\n",
       "    <tr>\n",
       "      <th>4</th>\n",
       "      <td>Espada</td>\n",
       "      <td>48 Saint Thomas Walk</td>\n",
       "      <td>4,300</td>\n",
       "      <td>689 sqft</td>\n",
       "      <td>1</td>\n",
       "      <td>1.0</td>\n",
       "      <td>\\nApartment\\nFully Furnished\\n</td>\n",
       "      <td>6 mins (420 m) to NS23 Somerset MRT</td>\n",
       "      <td>All units virtual online viewing available! An...</td>\n",
       "      <td>1.297356</td>\n",
       "      <td>103.836707</td>\n",
       "    </tr>\n",
       "  </tbody>\n",
       "</table>\n",
       "</div>"
      ],
      "text/plain": [
       "                                                name               address  \\\n",
       "0  Brand new Attic Studio, in a Peranakan Conserv...     Lorong 34 Geylang   \n",
       "1                                              Astor    51C Lengkong Empat   \n",
       "2                                 Springhill Terrace        Sunrise avenue   \n",
       "3                                704 Yishun Avenue 5   704 Yishun Avenue 5   \n",
       "4                                             Espada  48 Saint Thomas Walk   \n",
       "\n",
       "    price       size bedrooms  bathrooms   property_type_furnishing_year  \\\n",
       "0  3,000    400 sqft        1        1.0  \\nApartment\\nFully Furnished\\n   \n",
       "1  2,000   1130 sqft     Room        NaN  \\nApartment\\nFully Furnished\\n   \n",
       "2  7,400   3800 sqft        5        4.0  \\nApartment\\nFully Furnished\\n   \n",
       "3  1,000    120 sqft     Room        NaN  \\nApartment\\nFully Furnished\\n   \n",
       "4  4,300    689 sqft        1        1.0  \\nApartment\\nFully Furnished\\n   \n",
       "\n",
       "                             mrt_distance  \\\n",
       "0                                     NaN   \n",
       "1  11 mins (810 m) to DT28 Kaki Bukit MRT   \n",
       "2                                     NaN   \n",
       "3       9 mins (700 m) to NS13 Yishun MRT   \n",
       "4     6 mins (420 m) to NS23 Somerset MRT   \n",
       "\n",
       "                                   agent_description  latitude   longitude  \n",
       "0  One and only attic studio! Beautifully done up...  1.312952  103.887868  \n",
       "1                           Comes with In House Maid  1.328820  103.912904  \n",
       "2  Close to MRT and short drive to French, Austra...  1.389444  103.857002  \n",
       "3                      Room for 1 or 2 single ladies  1.429261  103.828917  \n",
       "4  All units virtual online viewing available! An...  1.297356  103.836707  "
      ]
     },
     "execution_count": 17,
     "metadata": {},
     "output_type": "execute_result"
    }
   ],
   "source": [
    "# Show top five rows\n",
    "df.head()"
   ]
  },
  {
   "cell_type": "markdown",
   "id": "b7512457",
   "metadata": {},
   "source": [
    "# Remove duplicates"
   ]
  },
  {
   "cell_type": "code",
   "execution_count": 5,
   "id": "10dfc32d",
   "metadata": {},
   "outputs": [
    {
     "data": {
      "text/plain": [
       "False    5082\n",
       "True      278\n",
       "dtype: int64"
      ]
     },
     "execution_count": 5,
     "metadata": {},
     "output_type": "execute_result"
    }
   ],
   "source": [
    "# Diagnose duplicates\n",
    "df.duplicated().value_counts()"
   ]
  },
  {
   "cell_type": "code",
   "execution_count": 6,
   "id": "45f4a943",
   "metadata": {},
   "outputs": [],
   "source": [
    "# Remove duplicates\n",
    "df = df.drop_duplicates().copy()"
   ]
  },
  {
   "cell_type": "code",
   "execution_count": 7,
   "id": "4de869e9",
   "metadata": {},
   "outputs": [
    {
     "name": "stdout",
     "output_type": "stream",
     "text": [
      "<class 'pandas.core.frame.DataFrame'>\n",
      "Int64Index: 5082 entries, 0 to 5359\n",
      "Data columns (total 9 columns):\n",
      " #   Column                         Non-Null Count  Dtype  \n",
      "---  ------                         --------------  -----  \n",
      " 0   name                           5082 non-null   object \n",
      " 1   address                        4754 non-null   object \n",
      " 2   price                          5082 non-null   object \n",
      " 3   size                           5082 non-null   object \n",
      " 4   bedrooms                       5082 non-null   object \n",
      " 5   bathrooms                      4680 non-null   float64\n",
      " 6   property_type_furnishing_year  5082 non-null   object \n",
      " 7   mrt_distance                   4418 non-null   object \n",
      " 8   agent_description              5082 non-null   object \n",
      "dtypes: float64(1), object(8)\n",
      "memory usage: 397.0+ KB\n"
     ]
    }
   ],
   "source": [
    "# Show dataframe info\n",
    "df.info()"
   ]
  },
  {
   "cell_type": "markdown",
   "id": "eeffeabb",
   "metadata": {},
   "source": [
    "# Extract features"
   ]
  },
  {
   "cell_type": "markdown",
   "id": "4572ef89",
   "metadata": {},
   "source": [
    "## Latitude and longitude"
   ]
  },
  {
   "cell_type": "code",
   "execution_count": 8,
   "id": "ef6b7670",
   "metadata": {},
   "outputs": [
    {
     "data": {
      "text/plain": [
       "True"
      ]
     },
     "execution_count": 8,
     "metadata": {},
     "output_type": "execute_result"
    }
   ],
   "source": [
    "# Load environment variables from .env file\n",
    "load_dotenv()"
   ]
  },
  {
   "cell_type": "code",
   "execution_count": 9,
   "id": "33d3194b",
   "metadata": {},
   "outputs": [],
   "source": [
    "# Get Google Maps API key from .env \n",
    "google_maps_api_key = os.getenv(\"google_maps_api_key\")"
   ]
  },
  {
   "cell_type": "code",
   "execution_count": 12,
   "id": "baa5ec80",
   "metadata": {},
   "outputs": [],
   "source": [
    "# Create function to get latitude and longitude from an address \n",
    "def get_latitude_longitude(address):\n",
    "    # Base URL for the Google Maps Geocoding API\n",
    "    base_url = \"https://maps.googleapis.com/maps/api/geocode/json\"\n",
    "    # Parameters for the API request\n",
    "    params = {\n",
    "        \"address\": f\"{address}, Singapore\",\n",
    "        \"key\": google_maps_api_key\n",
    "    }\n",
    "    # Send API request and store the data\n",
    "    response = requests.get(base_url, params=params)\n",
    "    data = response.json()\n",
    "    # Check if request was successful\n",
    "    if data[\"status\"] == \"OK\":\n",
    "        # Extract latitude and longitude from the response\n",
    "        location = data[\"results\"][0][\"geometry\"][\"location\"]\n",
    "        latitude = location[\"lat\"]\n",
    "        longitude = location[\"lng\"]\n",
    "    else:\n",
    "        # Assign missing values and print error message if the request failed\n",
    "        latitude = np.nan\n",
    "        longitude = np.nan\n",
    "        print(f\"Geocoding request failed for {address}\")\n",
    "    # Return latitude and longitude\n",
    "    return (latitude, longitude)"
   ]
  },
  {
   "cell_type": "code",
   "execution_count": 13,
   "id": "a9ca8450",
   "metadata": {},
   "outputs": [],
   "source": [
    "# Apply function to create latitude and longitude column\n",
    "# df[[\"latitude\", \"longitude\"]] = df[\"address\"].apply(get_latitude_longitude).apply(pd.Series)"
   ]
  },
  {
   "cell_type": "code",
   "execution_count": 14,
   "id": "b8fa7e28",
   "metadata": {},
   "outputs": [],
   "source": [
    "# Save enriched dataframe as csv\n",
    "# df.to_csv(\"data/enriched_rental_prices_singapore.csv\", index=False)"
   ]
  },
  {
   "cell_type": "code",
   "execution_count": 15,
   "id": "af1e7d3f",
   "metadata": {},
   "outputs": [],
   "source": [
    "# Load enriched data\n",
    "df = pd.read_csv(\"data/enriched_rental_prices_singapore.csv\")"
   ]
  },
  {
   "cell_type": "code",
   "execution_count": 16,
   "id": "2cd750be",
   "metadata": {},
   "outputs": [
    {
     "name": "stdout",
     "output_type": "stream",
     "text": [
      "<class 'pandas.core.frame.DataFrame'>\n",
      "RangeIndex: 5082 entries, 0 to 5081\n",
      "Data columns (total 11 columns):\n",
      " #   Column                         Non-Null Count  Dtype  \n",
      "---  ------                         --------------  -----  \n",
      " 0   name                           5082 non-null   object \n",
      " 1   address                        4754 non-null   object \n",
      " 2   price                          5082 non-null   object \n",
      " 3   size                           5082 non-null   object \n",
      " 4   bedrooms                       5082 non-null   object \n",
      " 5   bathrooms                      4680 non-null   float64\n",
      " 6   property_type_furnishing_year  5082 non-null   object \n",
      " 7   mrt_distance                   4418 non-null   object \n",
      " 8   agent_description              5082 non-null   object \n",
      " 9   latitude                       5082 non-null   float64\n",
      " 10  longitude                      5082 non-null   float64\n",
      "dtypes: float64(3), object(8)\n",
      "memory usage: 436.9+ KB\n"
     ]
    }
   ],
   "source": [
    "# Show dataframe info\n",
    "df.info()"
   ]
  },
  {
   "cell_type": "markdown",
   "id": "3b2e25f8",
   "metadata": {},
   "source": [
    "## Property type"
   ]
  },
  {
   "cell_type": "code",
   "execution_count": null,
   "id": "43009e06",
   "metadata": {},
   "outputs": [],
   "source": [
    "# Create function to extract property type \n",
    "def extract_type(string):\n",
    "    if \"Condominium\" in string:\n",
    "        return \"Condominium\"\n",
    "    elif \"Apartment\" in string:\n",
    "        return \"Apartment\"\n",
    "    elif \"HDB Flat\" in string:\n",
    "        return \"HDB Flat\"\n",
    "    elif \"Semi-Detached House\" in string:\n",
    "        return \"Semi-Detached House\"\n",
    "    elif \"Good Class Bungalow\" in string:\n",
    "        return \"Good Class Bungalow\"\n",
    "    elif \"Corner Terrace\" in string:\n",
    "        return \"Corner Terrace\"\n",
    "    elif \"Detached House\" in string:\n",
    "        return \"Detached House\"\n",
    "    elif \"Executive Condominium\" in string:\n",
    "        return \"Executive Condominium\"\n",
    "    elif \"Terraced House\" in string:\n",
    "        return \"Terraced House\"\n",
    "    elif \"Bungalow House\" in string:\n",
    "        return \"Bungalow House\"\n",
    "    elif \"Cluster House\" in string:\n",
    "        return \"Cluster House\"\n",
    "    else:\n",
    "        return np.nan"
   ]
  },
  {
   "cell_type": "code",
   "execution_count": null,
   "id": "f3fac230",
   "metadata": {},
   "outputs": [],
   "source": [
    "# Apply function to create property type column\n",
    "df[\"property_type\"] = df[\"property_type_furnishing_year\"].apply(extract_type)"
   ]
  },
  {
   "cell_type": "code",
   "execution_count": null,
   "id": "dc920c4c",
   "metadata": {
    "scrolled": true
   },
   "outputs": [],
   "source": [
    "# Frequencies of property types\n",
    "df[\"property_type\"].value_counts()"
   ]
  },
  {
   "cell_type": "markdown",
   "id": "2fdf77fb",
   "metadata": {},
   "source": [
    "## Furnishing"
   ]
  },
  {
   "cell_type": "code",
   "execution_count": null,
   "id": "9fa6807c",
   "metadata": {},
   "outputs": [],
   "source": [
    "# Create function to extract information about furnishing  \n",
    "def extract_furnishing(string):\n",
    "    if \"Fully Furnished\" in string:\n",
    "        return \"Fully Furnished\"\n",
    "    elif \"Partially Furnished\" in string:\n",
    "        return \"Partially Furnished\"\n",
    "    elif \"Unfurnished\" in string:\n",
    "        return \"Unfurnished\"\n",
    "    else:\n",
    "        return np.nan"
   ]
  },
  {
   "cell_type": "code",
   "execution_count": null,
   "id": "61bc98d8",
   "metadata": {},
   "outputs": [],
   "source": [
    "# Apply function to create furnishing column\n",
    "df[\"furnishing\"] = df[\"property_type_furnishing_year\"].apply(extract_furnishing)"
   ]
  },
  {
   "cell_type": "code",
   "execution_count": null,
   "id": "c77208ce",
   "metadata": {},
   "outputs": [],
   "source": [
    "# Frequencies of furnishing\n",
    "df[\"furnishing\"].value_counts()"
   ]
  },
  {
   "cell_type": "markdown",
   "id": "e3240de4",
   "metadata": {},
   "source": [
    "## Built year"
   ]
  },
  {
   "cell_type": "code",
   "execution_count": null,
   "id": "0b5ec883",
   "metadata": {},
   "outputs": [],
   "source": [
    "# Create function to extract built year \n",
    "def extract_year(string):\n",
    "    year = re.search(r\"\\b\\d{4}\\b\", string)\n",
    "    if year:\n",
    "        return year.group()\n",
    "    else:\n",
    "        return np.nan"
   ]
  },
  {
   "cell_type": "code",
   "execution_count": null,
   "id": "37d87a63",
   "metadata": {},
   "outputs": [],
   "source": [
    "# Apply function to create built year column\n",
    "df[\"year\"] = df[\"property_type_furnishing_year\"].apply(extract_year).astype(\"Int32\")"
   ]
  },
  {
   "cell_type": "code",
   "execution_count": null,
   "id": "94a17f79",
   "metadata": {},
   "outputs": [],
   "source": [
    "# Frequencies of built year\n",
    "df[\"year\"].value_counts()"
   ]
  },
  {
   "cell_type": "code",
   "execution_count": null,
   "id": "8c9404bd",
   "metadata": {},
   "outputs": [],
   "source": [
    "# Delete \"property_type_furnishing_year\" column\n",
    "df.drop(\"property_type_furnishing_year\", axis=1, inplace=True)"
   ]
  },
  {
   "cell_type": "markdown",
   "id": "249e3cfc",
   "metadata": {},
   "source": [
    "## Meters to MRT"
   ]
  },
  {
   "cell_type": "code",
   "execution_count": null,
   "id": "ef7ac06c",
   "metadata": {},
   "outputs": [],
   "source": [
    "# Extract MRT distance in meters\n",
    "df[\"meters_to_mrt\"] = df[\"mrt_distance\"].str.split(r\"m\\)\").str[0].str.split(r\"\\(\").str[1].astype(\"Int32\")"
   ]
  },
  {
   "cell_type": "code",
   "execution_count": null,
   "id": "58b2f46a",
   "metadata": {},
   "outputs": [],
   "source": [
    "# Delete \"mrt_distance\" column\n",
    "df.drop(\"mrt_distance\", axis=1, inplace=True)"
   ]
  },
  {
   "cell_type": "markdown",
   "id": "d26555e0",
   "metadata": {},
   "source": [
    "## Renovated"
   ]
  },
  {
   "cell_type": "code",
   "execution_count": null,
   "id": "34854761",
   "metadata": {},
   "outputs": [],
   "source": [
    "# Create function to extract information about renovation  \n",
    "def extract_renovated(string):\n",
    "    if \"renovated\" in string.lower() or \"renovation\" in string.lower():\n",
    "        return True\n",
    "    else:\n",
    "        return False"
   ]
  },
  {
   "cell_type": "code",
   "execution_count": null,
   "id": "f698eb46",
   "metadata": {},
   "outputs": [],
   "source": [
    "# Apply function to create renovated column\n",
    "df[\"renovated\"] = df[\"agent_description\"].apply(extract_renovated)"
   ]
  },
  {
   "cell_type": "markdown",
   "id": "323b7fa5",
   "metadata": {},
   "source": [
    "## Pool"
   ]
  },
  {
   "cell_type": "code",
   "execution_count": null,
   "id": "8ea9f731",
   "metadata": {},
   "outputs": [],
   "source": [
    "# Create function to extract information about pool  \n",
    "def extract_pool(string):\n",
    "    if \"pool\" in string.lower():\n",
    "        return True\n",
    "    else:\n",
    "        return False"
   ]
  },
  {
   "cell_type": "code",
   "execution_count": null,
   "id": "27c49984",
   "metadata": {},
   "outputs": [],
   "source": [
    "# Apply function to create pool column\n",
    "df[\"pool\"] = df[\"agent_description\"].apply(extract_pool)"
   ]
  },
  {
   "cell_type": "markdown",
   "id": "9ddd639c",
   "metadata": {},
   "source": [
    "## Sea view"
   ]
  },
  {
   "cell_type": "code",
   "execution_count": null,
   "id": "2348f42f",
   "metadata": {},
   "outputs": [],
   "source": [
    "# Create function to extract information about sea view  \n",
    "def extract_sea_view(string):\n",
    "    if \"seaview\" in string.lower() or \"sea view\" in string.lower():\n",
    "        return True\n",
    "    else:\n",
    "        return False"
   ]
  },
  {
   "cell_type": "code",
   "execution_count": null,
   "id": "7828b8bb",
   "metadata": {},
   "outputs": [],
   "source": [
    "# Apply function to create sea view column\n",
    "df[\"sea_view\"] = df[\"agent_description\"].apply(extract_sea_view)"
   ]
  },
  {
   "cell_type": "markdown",
   "id": "9995205f",
   "metadata": {},
   "source": [
    "## Penthouse"
   ]
  },
  {
   "cell_type": "code",
   "execution_count": null,
   "id": "86922131",
   "metadata": {},
   "outputs": [],
   "source": [
    "# Create function to extract penthouse information \n",
    "def extract_penthouse(string):\n",
    "    if \"penthouse\" in string.lower():\n",
    "        return True\n",
    "    else:\n",
    "        return False"
   ]
  },
  {
   "cell_type": "code",
   "execution_count": null,
   "id": "3ad1dce0",
   "metadata": {},
   "outputs": [],
   "source": [
    "# Apply function to create penthouse column\n",
    "df[\"penthouse\"] = df[\"agent_description\"].apply(extract_penthouse)"
   ]
  },
  {
   "cell_type": "code",
   "execution_count": null,
   "id": "cb72369e",
   "metadata": {},
   "outputs": [],
   "source": [
    "# Delete \"agent_description\" column\n",
    "# df.drop(\"agent_description\", axis=1, inplace=True)"
   ]
  },
  {
   "cell_type": "markdown",
   "id": "7154e273",
   "metadata": {},
   "source": [
    "# Convert data types"
   ]
  },
  {
   "cell_type": "code",
   "execution_count": null,
   "id": "aa84aefb",
   "metadata": {},
   "outputs": [],
   "source": [
    "# Convert price from str to int\n",
    "df[\"price\"] = df[\"price\"].str.replace(\",\", \"\").astype(\"Int32\")"
   ]
  },
  {
   "cell_type": "code",
   "execution_count": null,
   "id": "959d0314",
   "metadata": {},
   "outputs": [],
   "source": [
    "# Convert size (sqft) from str to int\n",
    "df[\"size\"] = df[\"size\"].str.split(\"sqft\").str[0].astype(\"Int32\")"
   ]
  },
  {
   "cell_type": "code",
   "execution_count": null,
   "id": "d029d10c",
   "metadata": {},
   "outputs": [],
   "source": [
    "# Convert bathrooms from str to int\n",
    "df[\"bathrooms\"] = df[\"bathrooms\"].astype(\"Int32\")"
   ]
  },
  {
   "cell_type": "markdown",
   "id": "11dfdef7",
   "metadata": {},
   "source": [
    "# Check data"
   ]
  },
  {
   "cell_type": "code",
   "execution_count": null,
   "id": "eecdd4b9",
   "metadata": {},
   "outputs": [],
   "source": [
    "# Show dataframe info\n",
    "df.info()"
   ]
  },
  {
   "cell_type": "code",
   "execution_count": null,
   "id": "916c9d1f",
   "metadata": {},
   "outputs": [],
   "source": [
    "# Explore properties with missing address\n",
    "filtered_names = df.loc[pd.isna(df[\"address\"]), \"agent_description\"]\n",
    "\n",
    "for name in filtered_names:\n",
    "    print(name)"
   ]
  },
  {
   "cell_type": "code",
   "execution_count": null,
   "id": "6a6fe6e4",
   "metadata": {},
   "outputs": [],
   "source": [
    "# Explore properties with missing address\n",
    "df.loc[pd.isna(df[\"address\"])]"
   ]
  },
  {
   "cell_type": "code",
   "execution_count": null,
   "id": "92577ee0",
   "metadata": {
    "scrolled": true
   },
   "outputs": [],
   "source": [
    "# Show top and bottom five rows\n",
    "df"
   ]
  },
  {
   "cell_type": "markdown",
   "id": "3b7ff631",
   "metadata": {},
   "source": [
    "# To Do\n",
    "- Get distance to attractive locations in Singapore (e.g., marina bay, orchard, botanic garden)\n",
    "- Handle missing values\n",
    "  - address\n",
    "  - bathrooms\n",
    "  - mrt distance\n",
    "  - furnishing\n",
    "  - built year"
   ]
  }
 ],
 "metadata": {
  "kernelspec": {
   "display_name": "Python 3 (ipykernel)",
   "language": "python",
   "name": "python3"
  },
  "language_info": {
   "codemirror_mode": {
    "name": "ipython",
    "version": 3
   },
   "file_extension": ".py",
   "mimetype": "text/x-python",
   "name": "python",
   "nbconvert_exporter": "python",
   "pygments_lexer": "ipython3",
   "version": "3.9.13"
  },
  "toc": {
   "base_numbering": 1,
   "nav_menu": {},
   "number_sections": true,
   "sideBar": true,
   "skip_h1_title": false,
   "title_cell": "Table of Contents",
   "title_sidebar": "Contents",
   "toc_cell": false,
   "toc_position": {
    "height": "calc(100% - 180px)",
    "left": "10px",
    "top": "150px",
    "width": "384px"
   },
   "toc_section_display": true,
   "toc_window_display": true
  }
 },
 "nbformat": 4,
 "nbformat_minor": 5
}
