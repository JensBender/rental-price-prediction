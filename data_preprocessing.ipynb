{
 "cells": [
  {
   "cell_type": "code",
   "execution_count": 13,
   "id": "f29a2fb8",
   "metadata": {},
   "outputs": [],
   "source": [
    "import numpy as np\n",
    "import pandas as pd"
   ]
  },
  {
   "cell_type": "code",
   "execution_count": 2,
   "id": "fbd9a7fa",
   "metadata": {},
   "outputs": [],
   "source": [
    "# Read data from csv\n",
    "df = pd.read_csv(\"data/rental_prices_singapore.csv\")"
   ]
  },
  {
   "cell_type": "code",
   "execution_count": 3,
   "id": "608ebde1",
   "metadata": {},
   "outputs": [
    {
     "name": "stdout",
     "output_type": "stream",
     "text": [
      "<class 'pandas.core.frame.DataFrame'>\n",
      "RangeIndex: 5360 entries, 0 to 5359\n",
      "Data columns (total 9 columns):\n",
      " #   Column                         Non-Null Count  Dtype  \n",
      "---  ------                         --------------  -----  \n",
      " 0   name                           5360 non-null   object \n",
      " 1   address                        5011 non-null   object \n",
      " 2   price                          5360 non-null   object \n",
      " 3   size                           5360 non-null   object \n",
      " 4   bedrooms                       5360 non-null   object \n",
      " 5   bathrooms                      4941 non-null   float64\n",
      " 6   property_type_furnishing_year  5360 non-null   object \n",
      " 7   mrt_distance                   4641 non-null   object \n",
      " 8   agent_description              5360 non-null   object \n",
      "dtypes: float64(1), object(8)\n",
      "memory usage: 377.0+ KB\n"
     ]
    }
   ],
   "source": [
    "df.info()"
   ]
  },
  {
   "cell_type": "code",
   "execution_count": 4,
   "id": "43f905cc",
   "metadata": {},
   "outputs": [
    {
     "data": {
      "text/html": [
       "<div>\n",
       "<style scoped>\n",
       "    .dataframe tbody tr th:only-of-type {\n",
       "        vertical-align: middle;\n",
       "    }\n",
       "\n",
       "    .dataframe tbody tr th {\n",
       "        vertical-align: top;\n",
       "    }\n",
       "\n",
       "    .dataframe thead th {\n",
       "        text-align: right;\n",
       "    }\n",
       "</style>\n",
       "<table border=\"1\" class=\"dataframe\">\n",
       "  <thead>\n",
       "    <tr style=\"text-align: right;\">\n",
       "      <th></th>\n",
       "      <th>name</th>\n",
       "      <th>address</th>\n",
       "      <th>price</th>\n",
       "      <th>size</th>\n",
       "      <th>bedrooms</th>\n",
       "      <th>bathrooms</th>\n",
       "      <th>property_type_furnishing_year</th>\n",
       "      <th>mrt_distance</th>\n",
       "      <th>agent_description</th>\n",
       "    </tr>\n",
       "  </thead>\n",
       "  <tbody>\n",
       "    <tr>\n",
       "      <th>0</th>\n",
       "      <td>Brand new Attic Studio, in a Peranakan Conserv...</td>\n",
       "      <td>Lorong 34 Geylang</td>\n",
       "      <td>3,000</td>\n",
       "      <td>400 sqft</td>\n",
       "      <td>1</td>\n",
       "      <td>1.0</td>\n",
       "      <td>\\nApartment\\nFully Furnished\\n</td>\n",
       "      <td>NaN</td>\n",
       "      <td>One and only attic studio! Beautifully done up...</td>\n",
       "    </tr>\n",
       "    <tr>\n",
       "      <th>1</th>\n",
       "      <td>Astor</td>\n",
       "      <td>51C Lengkong Empat</td>\n",
       "      <td>2,000</td>\n",
       "      <td>1130 sqft</td>\n",
       "      <td>Room</td>\n",
       "      <td>NaN</td>\n",
       "      <td>\\nApartment\\nFully Furnished\\n</td>\n",
       "      <td>11 mins (810 m) to DT28 Kaki Bukit MRT</td>\n",
       "      <td>Comes with In House Maid</td>\n",
       "    </tr>\n",
       "    <tr>\n",
       "      <th>2</th>\n",
       "      <td>Springhill Terrace</td>\n",
       "      <td>Sunrise avenue</td>\n",
       "      <td>7,400</td>\n",
       "      <td>3800 sqft</td>\n",
       "      <td>5</td>\n",
       "      <td>4.0</td>\n",
       "      <td>\\nApartment\\nFully Furnished\\n</td>\n",
       "      <td>NaN</td>\n",
       "      <td>Close to MRT and short drive to French, Austra...</td>\n",
       "    </tr>\n",
       "    <tr>\n",
       "      <th>3</th>\n",
       "      <td>704 Yishun Avenue 5</td>\n",
       "      <td>704 Yishun Avenue 5</td>\n",
       "      <td>1,000</td>\n",
       "      <td>120 sqft</td>\n",
       "      <td>Room</td>\n",
       "      <td>NaN</td>\n",
       "      <td>\\nApartment\\nFully Furnished\\n</td>\n",
       "      <td>9 mins (700 m) to NS13 Yishun MRT</td>\n",
       "      <td>Room for 1 or 2 single ladies</td>\n",
       "    </tr>\n",
       "    <tr>\n",
       "      <th>4</th>\n",
       "      <td>Espada</td>\n",
       "      <td>48 Saint Thomas Walk</td>\n",
       "      <td>4,300</td>\n",
       "      <td>689 sqft</td>\n",
       "      <td>1</td>\n",
       "      <td>1.0</td>\n",
       "      <td>\\nApartment\\nFully Furnished\\n</td>\n",
       "      <td>6 mins (420 m) to NS23 Somerset MRT</td>\n",
       "      <td>All units virtual online viewing available! An...</td>\n",
       "    </tr>\n",
       "    <tr>\n",
       "      <th>5</th>\n",
       "      <td>Elizabeth Heights</td>\n",
       "      <td>57 Cairnhill Road</td>\n",
       "      <td>10,800</td>\n",
       "      <td>2646 sqft</td>\n",
       "      <td>4</td>\n",
       "      <td>4.0</td>\n",
       "      <td>\\nApartment\\nFully Furnished\\n</td>\n",
       "      <td>8 mins (600 m) to NS22 Orchard MRT</td>\n",
       "      <td>Exclusive Penthouse unit, $400k reno, unblocke...</td>\n",
       "    </tr>\n",
       "    <tr>\n",
       "      <th>6</th>\n",
       "      <td>38B Eunos Road 2</td>\n",
       "      <td>38B Eunos Road 2</td>\n",
       "      <td>4,800</td>\n",
       "      <td>1001 sqft</td>\n",
       "      <td>3</td>\n",
       "      <td>2.0</td>\n",
       "      <td>\\nApartment\\nFully Furnished\\n</td>\n",
       "      <td>4 mins (310 m) to EW7 Eunos MRT</td>\n",
       "      <td>Newly built HDB flat for rent - Walking distan...</td>\n",
       "    </tr>\n",
       "    <tr>\n",
       "      <th>7</th>\n",
       "      <td>Vacanza @ East</td>\n",
       "      <td>48 Lengkong Tujoh</td>\n",
       "      <td>4,600</td>\n",
       "      <td>1023 sqft</td>\n",
       "      <td>3</td>\n",
       "      <td>2.0</td>\n",
       "      <td>\\nApartment\\nFully Furnished\\n</td>\n",
       "      <td>10 mins (770 m) to DT29 Bedok North MRT</td>\n",
       "      <td>Super rare 3 bedrooms 2 bathrooms pool facing ...</td>\n",
       "    </tr>\n",
       "    <tr>\n",
       "      <th>8</th>\n",
       "      <td>Blossoms @ Woodleigh</td>\n",
       "      <td>12 Woodleigh Close</td>\n",
       "      <td>8,000</td>\n",
       "      <td>1410 sqft</td>\n",
       "      <td>4</td>\n",
       "      <td>3.0</td>\n",
       "      <td>\\nApartment\\nFully Furnished\\n</td>\n",
       "      <td>5 mins (370 m) to NE11 Woodleigh MRT</td>\n",
       "      <td>Exclusive 4 bed for rent</td>\n",
       "    </tr>\n",
       "    <tr>\n",
       "      <th>9</th>\n",
       "      <td>Barker Road Semi-Detached</td>\n",
       "      <td>Barker Road</td>\n",
       "      <td>15,000</td>\n",
       "      <td>4500 sqft (floor), 5853 sqft (land)</td>\n",
       "      <td>5</td>\n",
       "      <td>5.0</td>\n",
       "      <td>\\nApartment\\nFully Furnished\\n</td>\n",
       "      <td>12 mins (870 m) to NS21 Newton MRT</td>\n",
       "      <td>Barker Road District 11 Super Rare Gem Semi De...</td>\n",
       "    </tr>\n",
       "  </tbody>\n",
       "</table>\n",
       "</div>"
      ],
      "text/plain": [
       "                                                name               address  \\\n",
       "0  Brand new Attic Studio, in a Peranakan Conserv...     Lorong 34 Geylang   \n",
       "1                                              Astor    51C Lengkong Empat   \n",
       "2                                 Springhill Terrace        Sunrise avenue   \n",
       "3                                704 Yishun Avenue 5   704 Yishun Avenue 5   \n",
       "4                                             Espada  48 Saint Thomas Walk   \n",
       "5                                  Elizabeth Heights     57 Cairnhill Road   \n",
       "6                                   38B Eunos Road 2      38B Eunos Road 2   \n",
       "7                                     Vacanza @ East     48 Lengkong Tujoh   \n",
       "8                               Blossoms @ Woodleigh    12 Woodleigh Close   \n",
       "9                          Barker Road Semi-Detached           Barker Road   \n",
       "\n",
       "     price                                 size bedrooms  bathrooms  \\\n",
       "0   3,000                              400 sqft        1        1.0   \n",
       "1   2,000                             1130 sqft     Room        NaN   \n",
       "2   7,400                             3800 sqft        5        4.0   \n",
       "3   1,000                              120 sqft     Room        NaN   \n",
       "4   4,300                              689 sqft        1        1.0   \n",
       "5  10,800                             2646 sqft        4        4.0   \n",
       "6   4,800                             1001 sqft        3        2.0   \n",
       "7   4,600                             1023 sqft        3        2.0   \n",
       "8   8,000                             1410 sqft        4        3.0   \n",
       "9  15,000   4500 sqft (floor), 5853 sqft (land)        5        5.0   \n",
       "\n",
       "    property_type_furnishing_year                             mrt_distance  \\\n",
       "0  \\nApartment\\nFully Furnished\\n                                      NaN   \n",
       "1  \\nApartment\\nFully Furnished\\n   11 mins (810 m) to DT28 Kaki Bukit MRT   \n",
       "2  \\nApartment\\nFully Furnished\\n                                      NaN   \n",
       "3  \\nApartment\\nFully Furnished\\n        9 mins (700 m) to NS13 Yishun MRT   \n",
       "4  \\nApartment\\nFully Furnished\\n      6 mins (420 m) to NS23 Somerset MRT   \n",
       "5  \\nApartment\\nFully Furnished\\n       8 mins (600 m) to NS22 Orchard MRT   \n",
       "6  \\nApartment\\nFully Furnished\\n          4 mins (310 m) to EW7 Eunos MRT   \n",
       "7  \\nApartment\\nFully Furnished\\n  10 mins (770 m) to DT29 Bedok North MRT   \n",
       "8  \\nApartment\\nFully Furnished\\n     5 mins (370 m) to NE11 Woodleigh MRT   \n",
       "9  \\nApartment\\nFully Furnished\\n       12 mins (870 m) to NS21 Newton MRT   \n",
       "\n",
       "                                   agent_description  \n",
       "0  One and only attic studio! Beautifully done up...  \n",
       "1                           Comes with In House Maid  \n",
       "2  Close to MRT and short drive to French, Austra...  \n",
       "3                      Room for 1 or 2 single ladies  \n",
       "4  All units virtual online viewing available! An...  \n",
       "5  Exclusive Penthouse unit, $400k reno, unblocke...  \n",
       "6  Newly built HDB flat for rent - Walking distan...  \n",
       "7  Super rare 3 bedrooms 2 bathrooms pool facing ...  \n",
       "8                           Exclusive 4 bed for rent  \n",
       "9  Barker Road District 11 Super Rare Gem Semi De...  "
      ]
     },
     "execution_count": 4,
     "metadata": {},
     "output_type": "execute_result"
    }
   ],
   "source": [
    "df[:10]"
   ]
  },
  {
   "cell_type": "code",
   "execution_count": 6,
   "id": "7fc9a77b",
   "metadata": {},
   "outputs": [
    {
     "data": {
      "text/plain": [
       "False    5082\n",
       "True      278\n",
       "dtype: int64"
      ]
     },
     "execution_count": 6,
     "metadata": {},
     "output_type": "execute_result"
    }
   ],
   "source": [
    "# Diagnose duplicates\n",
    "df.duplicated().value_counts()"
   ]
  },
  {
   "cell_type": "code",
   "execution_count": 10,
   "id": "2b90f1e6",
   "metadata": {},
   "outputs": [
    {
     "name": "stdout",
     "output_type": "stream",
     "text": [
      "<class 'pandas.core.frame.DataFrame'>\n",
      "Int64Index: 5082 entries, 0 to 5359\n",
      "Data columns (total 10 columns):\n",
      " #   Column                         Non-Null Count  Dtype  \n",
      "---  ------                         --------------  -----  \n",
      " 0   name                           5082 non-null   object \n",
      " 1   address                        4754 non-null   object \n",
      " 2   price                          5082 non-null   object \n",
      " 3   size                           5082 non-null   object \n",
      " 4   bedrooms                       5082 non-null   object \n",
      " 5   bathrooms                      4680 non-null   float64\n",
      " 6   property_type_furnishing_year  5082 non-null   object \n",
      " 7   mrt_distance                   4418 non-null   object \n",
      " 8   agent_description              5082 non-null   object \n",
      " 9   property_type                  5082 non-null   object \n",
      "dtypes: float64(1), object(9)\n",
      "memory usage: 436.7+ KB\n"
     ]
    }
   ],
   "source": [
    "# Remove duplicates\n",
    "df = df.drop_duplicates().copy()\n",
    "df.info()"
   ]
  },
  {
   "cell_type": "code",
   "execution_count": 53,
   "id": "5d0c2c4e",
   "metadata": {},
   "outputs": [],
   "source": [
    "# Feature extraction: Property type \n",
    "df[\"property_type\"] = df[\"property_type_furnishing_year\"].str.split(\"\\n\").str[1]"
   ]
  },
  {
   "cell_type": "code",
   "execution_count": 49,
   "id": "d2779757",
   "metadata": {},
   "outputs": [],
   "source": [
    "# Feature extraction: Property type \n",
    "def extract_type(string):\n",
    "    if \"Condominium\" in string:\n",
    "        return \"Condominium\"\n",
    "    elif \"Apartment\" in string:\n",
    "        return \"Apartment\"\n",
    "    elif \"HDB Flat\" in string:\n",
    "        return \"HDB Flat\"\n",
    "    elif \"Semi-Detached House\" in string:\n",
    "        return \"Semi-Detached House\"\n",
    "    elif \"Good Class Bungalow\" in string:\n",
    "        return \"Good Class Bungalow\"\n",
    "    elif \"Corner Terrace\" in string:\n",
    "        return \"Corner Terrace\"\n",
    "    elif \"Detached House\" in string:\n",
    "        return \"Detached House\"\n",
    "    elif \"Executive Condominium\" in string:\n",
    "        return \"Executive Condominium\"\n",
    "    elif \"Terraced House\" in string:\n",
    "        return \"Terraced House\"\n",
    "    elif \"Bungalow House\" in string:\n",
    "        return \"Bungalow House\"\n",
    "    elif \"Cluster House\" in string:\n",
    "        return \"Cluster House\"\n",
    "    else:\n",
    "        return np.nan\n",
    "        \n",
    "df[\"property_type\"] = df[\"property_type_furnishing_year\"].apply(extract_type)"
   ]
  },
  {
   "cell_type": "code",
   "execution_count": 54,
   "id": "707eeede",
   "metadata": {},
   "outputs": [
    {
     "data": {
      "text/plain": [
       "Condominium              2069\n",
       "Apartment                 865\n",
       "HDB Flat                  763\n",
       "New Project: 2023         367\n",
       "New Project: 2024         314\n",
       "Semi-Detached House       188\n",
       "Good Class Bungalow       174\n",
       "Corner Terrace            103\n",
       "Detached House             79\n",
       "Executive Condominium      60\n",
       "Terraced House             40\n",
       "Bungalow House             40\n",
       "Cluster House              20\n",
       "Name: property_type, dtype: int64"
      ]
     },
     "execution_count": 54,
     "metadata": {},
     "output_type": "execute_result"
    }
   ],
   "source": [
    "# Frequencies of property types\n",
    "df[\"property_type\"].value_counts()"
   ]
  },
  {
   "cell_type": "code",
   "execution_count": 52,
   "id": "dc920c4c",
   "metadata": {},
   "outputs": [
    {
     "data": {
      "text/plain": [
       "Condominium            2770\n",
       "Apartment               905\n",
       "HDB Flat                763\n",
       "Semi-Detached House     188\n",
       "Good Class Bungalow     174\n",
       "Corner Terrace          103\n",
       "Detached House           79\n",
       "Terraced House           40\n",
       "Bungalow House           40\n",
       "Cluster House            20\n",
       "Name: property_type, dtype: int64"
      ]
     },
     "execution_count": 52,
     "metadata": {},
     "output_type": "execute_result"
    }
   ],
   "source": [
    "# Frequencies of property types\n",
    "df[\"property_type\"].value_counts()"
   ]
  },
  {
   "cell_type": "code",
   "execution_count": 37,
   "id": "dfaaa9ef",
   "metadata": {},
   "outputs": [],
   "source": [
    "# Feature extraction: Furnishing \n",
    "def extract_furnishing(string):\n",
    "    if \"Fully Furnished\" in string:\n",
    "        return \"Fully Furnished\"\n",
    "    elif \"Partially Furnished\" in string:\n",
    "        return \"Partially Furnished\"\n",
    "    elif \"Unfurnished\" in string:\n",
    "        return \"Unfurnished\"\n",
    "    else:\n",
    "        return np.nan\n",
    "        \n",
    "df[\"furnishing\"] = df[\"property_type_furnishing_year\"].apply(extract_furnishing)"
   ]
  },
  {
   "cell_type": "code",
   "execution_count": 43,
   "id": "c77208ce",
   "metadata": {},
   "outputs": [
    {
     "data": {
      "text/plain": [
       "Partially Furnished    3058\n",
       "Fully Furnished        1600\n",
       "Unfurnished              84\n",
       "Name: furnishing, dtype: int64"
      ]
     },
     "execution_count": 43,
     "metadata": {},
     "output_type": "execute_result"
    }
   ],
   "source": [
    "# Frequencies of furnishing\n",
    "df[\"furnishing\"].value_counts()"
   ]
  },
  {
   "cell_type": "code",
   "execution_count": 9,
   "id": "0c438c4e",
   "metadata": {},
   "outputs": [],
   "source": [
    "# Feature extraction: Built year \n",
    "df[\"year\"] = df[\"property_type_furnishing_year\"].str.split(\"\\n\").str[3]"
   ]
  },
  {
   "cell_type": "code",
   "execution_count": 10,
   "id": "94a17f79",
   "metadata": {},
   "outputs": [
    {
     "data": {
      "text/plain": [
       "                       1029\n",
       "Partially Furnished     480\n",
       "Built: 2013             323\n",
       "Built: 2017             300\n",
       "Built: 2010             266\n",
       "Built: 2011             220\n",
       "Built: 2007             182\n",
       "Built: 2009             146\n",
       "Built: 2016             140\n",
       "Built: 2015             140\n",
       "Built: 2021             140\n",
       "Built: 1997             123\n",
       "Built: 2014             120\n",
       "Built: 2012             120\n",
       "Fully Furnished         120\n",
       "Built: 2022             102\n",
       "Built: 2008             100\n",
       "Built: 2005             100\n",
       "Built: 1999              80\n",
       "Built: 1995              80\n",
       "Built: 2019              80\n",
       "Built: 2000              63\n",
       "Built: 2001              63\n",
       "Built: 1994              60\n",
       "Built: 1993              60\n",
       "Built: 2004              60\n",
       "Built: 1984              60\n",
       "Built: 1985              60\n",
       "Built: 1996              40\n",
       "Built: 1998              40\n",
       "Built: 1987              40\n",
       "Built: 2018              40\n",
       "Completion: 2023         40\n",
       "Built: 1981              40\n",
       "Built: 1975              40\n",
       "Built: 2003              40\n",
       "Built: 1986              23\n",
       "Built: 1991              20\n",
       "Built: 1971              20\n",
       "Built: 1992              20\n",
       "Built: 2002              20\n",
       "Built: 1983              20\n",
       "Built: 1974              20\n",
       "Built: 2006              20\n",
       "Built: 1979              20\n",
       "Built: 1977              20\n",
       "Name: year, dtype: int64"
      ]
     },
     "execution_count": 10,
     "metadata": {},
     "output_type": "execute_result"
    }
   ],
   "source": [
    "# Frequencies of built year\n",
    "df[\"year\"].value_counts()"
   ]
  },
  {
   "cell_type": "code",
   "execution_count": null,
   "id": "92577ee0",
   "metadata": {},
   "outputs": [],
   "source": []
  }
 ],
 "metadata": {
  "kernelspec": {
   "display_name": "Python 3 (ipykernel)",
   "language": "python",
   "name": "python3"
  },
  "language_info": {
   "codemirror_mode": {
    "name": "ipython",
    "version": 3
   },
   "file_extension": ".py",
   "mimetype": "text/x-python",
   "name": "python",
   "nbconvert_exporter": "python",
   "pygments_lexer": "ipython3",
   "version": "3.9.13"
  },
  "toc": {
   "base_numbering": 1,
   "nav_menu": {},
   "number_sections": true,
   "sideBar": true,
   "skip_h1_title": false,
   "title_cell": "Table of Contents",
   "title_sidebar": "Contents",
   "toc_cell": false,
   "toc_position": {},
   "toc_section_display": true,
   "toc_window_display": false
  }
 },
 "nbformat": 4,
 "nbformat_minor": 5
}
