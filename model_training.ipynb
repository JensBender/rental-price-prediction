{
 "cells": [
  {
   "cell_type": "code",
   "execution_count": 41,
   "id": "bbb7c5d6",
   "metadata": {},
   "outputs": [],
   "source": [
    "import numpy as np\n",
    "import pandas as pd\n",
    "import matplotlib.pyplot as plt"
   ]
  },
  {
   "cell_type": "markdown",
   "id": "853219bb",
   "metadata": {},
   "source": [
    "# Load data"
   ]
  },
  {
   "cell_type": "code",
   "execution_count": 2,
   "id": "b6c0c06a",
   "metadata": {},
   "outputs": [],
   "source": [
    "# Read data from csv\n",
    "df = pd.read_csv(\"data/rental_prices_singapore_preprocessed.csv\")"
   ]
  },
  {
   "cell_type": "code",
   "execution_count": 3,
   "id": "d1b29510",
   "metadata": {},
   "outputs": [
    {
     "name": "stdout",
     "output_type": "stream",
     "text": [
      "<class 'pandas.core.frame.DataFrame'>\n",
      "RangeIndex: 1576 entries, 0 to 1575\n",
      "Data columns (total 16 columns):\n",
      " #   Column            Non-Null Count  Dtype  \n",
      "---  ------            --------------  -----  \n",
      " 0   price             1576 non-null   int64  \n",
      " 1   size              1576 non-null   int64  \n",
      " 2   bedrooms          1576 non-null   object \n",
      " 3   bathrooms         1576 non-null   int64  \n",
      " 4   latitude          1576 non-null   float64\n",
      " 5   longitude         1576 non-null   float64\n",
      " 6   meters_to_school  1576 non-null   int64  \n",
      " 7   property_type     1576 non-null   object \n",
      " 8   furnishing        1576 non-null   object \n",
      " 9   year              1576 non-null   int64  \n",
      " 10  meters_to_mrt     1576 non-null   int64  \n",
      " 11  high_floor        1576 non-null   bool   \n",
      " 12  new               1576 non-null   bool   \n",
      " 13  renovated         1576 non-null   bool   \n",
      " 14  view              1576 non-null   bool   \n",
      " 15  penthouse         1576 non-null   bool   \n",
      "dtypes: bool(5), float64(2), int64(6), object(3)\n",
      "memory usage: 143.3+ KB\n"
     ]
    }
   ],
   "source": [
    "# Show dataframe info\n",
    "df.info()"
   ]
  },
  {
   "cell_type": "code",
   "execution_count": 4,
   "id": "cb7013cd",
   "metadata": {},
   "outputs": [
    {
     "data": {
      "text/html": [
       "<div>\n",
       "<style scoped>\n",
       "    .dataframe tbody tr th:only-of-type {\n",
       "        vertical-align: middle;\n",
       "    }\n",
       "\n",
       "    .dataframe tbody tr th {\n",
       "        vertical-align: top;\n",
       "    }\n",
       "\n",
       "    .dataframe thead th {\n",
       "        text-align: right;\n",
       "    }\n",
       "</style>\n",
       "<table border=\"1\" class=\"dataframe\">\n",
       "  <thead>\n",
       "    <tr style=\"text-align: right;\">\n",
       "      <th></th>\n",
       "      <th>price</th>\n",
       "      <th>size</th>\n",
       "      <th>bedrooms</th>\n",
       "      <th>bathrooms</th>\n",
       "      <th>latitude</th>\n",
       "      <th>longitude</th>\n",
       "      <th>meters_to_school</th>\n",
       "      <th>property_type</th>\n",
       "      <th>furnishing</th>\n",
       "      <th>year</th>\n",
       "      <th>meters_to_mrt</th>\n",
       "      <th>high_floor</th>\n",
       "      <th>new</th>\n",
       "      <th>renovated</th>\n",
       "      <th>view</th>\n",
       "      <th>penthouse</th>\n",
       "    </tr>\n",
       "  </thead>\n",
       "  <tbody>\n",
       "    <tr>\n",
       "      <th>0</th>\n",
       "      <td>3000</td>\n",
       "      <td>400</td>\n",
       "      <td>1</td>\n",
       "      <td>1</td>\n",
       "      <td>1.312952</td>\n",
       "      <td>103.887868</td>\n",
       "      <td>422</td>\n",
       "      <td>Apartment</td>\n",
       "      <td>Fully Furnished</td>\n",
       "      <td>2012</td>\n",
       "      <td>450</td>\n",
       "      <td>False</td>\n",
       "      <td>False</td>\n",
       "      <td>False</td>\n",
       "      <td>False</td>\n",
       "      <td>False</td>\n",
       "    </tr>\n",
       "    <tr>\n",
       "      <th>1</th>\n",
       "      <td>2000</td>\n",
       "      <td>1130</td>\n",
       "      <td>Room</td>\n",
       "      <td>1</td>\n",
       "      <td>1.328820</td>\n",
       "      <td>103.912904</td>\n",
       "      <td>3573</td>\n",
       "      <td>Apartment</td>\n",
       "      <td>Fully Furnished</td>\n",
       "      <td>2012</td>\n",
       "      <td>810</td>\n",
       "      <td>False</td>\n",
       "      <td>False</td>\n",
       "      <td>False</td>\n",
       "      <td>False</td>\n",
       "      <td>False</td>\n",
       "    </tr>\n",
       "    <tr>\n",
       "      <th>2</th>\n",
       "      <td>7400</td>\n",
       "      <td>3800</td>\n",
       "      <td>5</td>\n",
       "      <td>4</td>\n",
       "      <td>1.389444</td>\n",
       "      <td>103.857002</td>\n",
       "      <td>568</td>\n",
       "      <td>Apartment</td>\n",
       "      <td>Fully Furnished</td>\n",
       "      <td>2012</td>\n",
       "      <td>450</td>\n",
       "      <td>False</td>\n",
       "      <td>False</td>\n",
       "      <td>False</td>\n",
       "      <td>False</td>\n",
       "      <td>False</td>\n",
       "    </tr>\n",
       "    <tr>\n",
       "      <th>3</th>\n",
       "      <td>1000</td>\n",
       "      <td>120</td>\n",
       "      <td>Room</td>\n",
       "      <td>1</td>\n",
       "      <td>1.429261</td>\n",
       "      <td>103.828917</td>\n",
       "      <td>1090</td>\n",
       "      <td>Apartment</td>\n",
       "      <td>Fully Furnished</td>\n",
       "      <td>2012</td>\n",
       "      <td>700</td>\n",
       "      <td>False</td>\n",
       "      <td>False</td>\n",
       "      <td>False</td>\n",
       "      <td>False</td>\n",
       "      <td>False</td>\n",
       "    </tr>\n",
       "    <tr>\n",
       "      <th>4</th>\n",
       "      <td>4300</td>\n",
       "      <td>689</td>\n",
       "      <td>1</td>\n",
       "      <td>1</td>\n",
       "      <td>1.297356</td>\n",
       "      <td>103.836707</td>\n",
       "      <td>1262</td>\n",
       "      <td>Apartment</td>\n",
       "      <td>Fully Furnished</td>\n",
       "      <td>2012</td>\n",
       "      <td>420</td>\n",
       "      <td>False</td>\n",
       "      <td>False</td>\n",
       "      <td>False</td>\n",
       "      <td>False</td>\n",
       "      <td>False</td>\n",
       "    </tr>\n",
       "  </tbody>\n",
       "</table>\n",
       "</div>"
      ],
      "text/plain": [
       "   price  size bedrooms  bathrooms  latitude   longitude  meters_to_school  \\\n",
       "0   3000   400        1          1  1.312952  103.887868               422   \n",
       "1   2000  1130     Room          1  1.328820  103.912904              3573   \n",
       "2   7400  3800        5          4  1.389444  103.857002               568   \n",
       "3   1000   120     Room          1  1.429261  103.828917              1090   \n",
       "4   4300   689        1          1  1.297356  103.836707              1262   \n",
       "\n",
       "  property_type       furnishing  year  meters_to_mrt  high_floor    new  \\\n",
       "0     Apartment  Fully Furnished  2012            450       False  False   \n",
       "1     Apartment  Fully Furnished  2012            810       False  False   \n",
       "2     Apartment  Fully Furnished  2012            450       False  False   \n",
       "3     Apartment  Fully Furnished  2012            700       False  False   \n",
       "4     Apartment  Fully Furnished  2012            420       False  False   \n",
       "\n",
       "   renovated   view  penthouse  \n",
       "0      False  False      False  \n",
       "1      False  False      False  \n",
       "2      False  False      False  \n",
       "3      False  False      False  \n",
       "4      False  False      False  "
      ]
     },
     "execution_count": 4,
     "metadata": {},
     "output_type": "execute_result"
    }
   ],
   "source": [
    "# Show top five rows\n",
    "df.head()"
   ]
  },
  {
   "cell_type": "markdown",
   "id": "f885d9d9",
   "metadata": {},
   "source": [
    "# Train-validation-test split"
   ]
  },
  {
   "cell_type": "code",
   "execution_count": 5,
   "id": "85458230",
   "metadata": {},
   "outputs": [],
   "source": [
    "from sklearn.model_selection import train_test_split"
   ]
  },
  {
   "cell_type": "code",
   "execution_count": 6,
   "id": "635eead2",
   "metadata": {},
   "outputs": [],
   "source": [
    "# Split the data into X features and y target\n",
    "X = df.drop(\"price\", axis=1)\n",
    "y = df[\"price\"]"
   ]
  },
  {
   "cell_type": "code",
   "execution_count": 7,
   "id": "7953e28a",
   "metadata": {},
   "outputs": [],
   "source": [
    "# Split the data into training and temporary sets (70% train, 30% temporary)\n",
    "X_train, X_temp, y_train, y_temp = train_test_split(X, y, test_size=0.3, random_state=42)\n",
    "\n",
    "# Split the temporary data into validation and test sets (50% each)\n",
    "X_val, X_test, y_val, y_test = train_test_split(X_temp, y_temp, test_size=0.5, random_state=42)"
   ]
  },
  {
   "cell_type": "markdown",
   "id": "d0a22e3d",
   "metadata": {},
   "source": [
    "Note: This accomplishes a 70% training, 15% validation and 15% test set size."
   ]
  },
  {
   "cell_type": "markdown",
   "id": "a0608d2e",
   "metadata": {},
   "source": [
    "# Feature scaling"
   ]
  },
  {
   "cell_type": "code",
   "execution_count": 8,
   "id": "e5d81b3f",
   "metadata": {},
   "outputs": [],
   "source": [
    "from sklearn.preprocessing import StandardScaler"
   ]
  },
  {
   "cell_type": "code",
   "execution_count": 9,
   "id": "bfce7792",
   "metadata": {},
   "outputs": [],
   "source": [
    "# Initialize a StandardScaler object\n",
    "scaler = StandardScaler()"
   ]
  },
  {
   "cell_type": "code",
   "execution_count": 10,
   "id": "184daf97",
   "metadata": {},
   "outputs": [],
   "source": [
    "# Store the numerical columns\n",
    "numerical_columns = [\"size\", \"bathrooms\", \"latitude\", \"longitude\", \"meters_to_mrt\", \"meters_to_school\", \"year\"]"
   ]
  },
  {
   "cell_type": "code",
   "execution_count": 11,
   "id": "e2d3907f",
   "metadata": {},
   "outputs": [],
   "source": [
    "# Perform z-score normalization on numerical columns\n",
    "X_train_scaled = scaler.fit_transform(X_train[numerical_columns])\n",
    "X_val_scaled = scaler.transform(X_val[numerical_columns])\n",
    "X_test_scaled = scaler.transform(X_test[numerical_columns])"
   ]
  },
  {
   "cell_type": "code",
   "execution_count": 12,
   "id": "a0205108",
   "metadata": {},
   "outputs": [],
   "source": [
    "# Convert numpy arrays to pandas dataframes and assign the original column names\n",
    "X_train_scaled = pd.DataFrame(X_train_scaled, columns=numerical_columns)\n",
    "X_val_scaled = pd.DataFrame(X_val_scaled, columns=numerical_columns)\n",
    "X_test_scaled = pd.DataFrame(X_test_scaled, columns=numerical_columns)"
   ]
  },
  {
   "cell_type": "code",
   "execution_count": 13,
   "id": "a26ff450",
   "metadata": {},
   "outputs": [],
   "source": [
    "# Assign the index of the new dataframes to match the originial dataframes' index\n",
    "X_train_scaled.index = X_train.index\n",
    "X_val_scaled.index = X_val.index\n",
    "X_test_scaled.index = X_test.index"
   ]
  },
  {
   "cell_type": "markdown",
   "id": "2f9a9693",
   "metadata": {},
   "source": [
    "# Feature encoding"
   ]
  },
  {
   "cell_type": "code",
   "execution_count": 14,
   "id": "8c105979",
   "metadata": {},
   "outputs": [],
   "source": [
    "from sklearn.preprocessing import OneHotEncoder"
   ]
  },
  {
   "cell_type": "code",
   "execution_count": 15,
   "id": "54713aff",
   "metadata": {},
   "outputs": [],
   "source": [
    "# Store categorical columns\n",
    "categorical_columns = [\"bedrooms\", \"property_type\", \"furnishing\"]"
   ]
  },
  {
   "cell_type": "code",
   "execution_count": 16,
   "id": "4bc0c2b3",
   "metadata": {},
   "outputs": [],
   "source": [
    "# Initialize a OneHotEncoder object\n",
    "encoder = OneHotEncoder(drop=None, sparse=False)"
   ]
  },
  {
   "cell_type": "code",
   "execution_count": 17,
   "id": "493bdd89",
   "metadata": {},
   "outputs": [],
   "source": [
    "# Perform one-hot encoding on categorical columns\n",
    "X_train_encoded = encoder.fit_transform(X_train[categorical_columns])\n",
    "X_val_encoded = encoder.transform(X_val[categorical_columns])\n",
    "X_test_encoded = encoder.transform(X_test[categorical_columns])"
   ]
  },
  {
   "cell_type": "code",
   "execution_count": 18,
   "id": "0cf5afad",
   "metadata": {},
   "outputs": [],
   "source": [
    "# Get names of the newly encoded features\n",
    "encoded_feature_names = encoder.get_feature_names_out(input_features=categorical_columns)\n",
    "\n",
    "# Define a mapping dictionary to change names\n",
    "column_name_mapping = {\n",
    "    \"bedrooms_Room\": \"bedrooms_room\",\n",
    "    \"bedrooms_Studio\": \"bedrooms_studio\",\n",
    "    \"property_type_Apartment\": \"type_apartment\",\n",
    "    \"property_type_Cluster House\": \"type_cluster_house\",\n",
    "    \"property_type_Condominium\": \"type_condominium\",\n",
    "    \"property_type_Corner Terrace\": \"type_corner_terrace\",\n",
    "    \"property_type_Detached House\": \"type_detached_house\",\n",
    "    \"property_type_Good Class Bungalow\": \"type_good_class_bungalow\",\n",
    "    \"property_type_HDB Flat\": \"type_hdb_flat\",\n",
    "    \"property_type_Semi-Detached House\": \"type_semi_detached_house\",\n",
    "    \"property_type_Terraced House\": \"type_terraced_house\",\n",
    "    \"furnishing_Fully Furnished\": \"furnishing_full\",\n",
    "    \"furnishing_Partially Furnished\": \"furnishing_partial\",\n",
    "    \"furnishing_Unfurnished\": \"furnishing_none\",\n",
    "}\n",
    "\n",
    "# Rename one-hot encoded features \n",
    "encoded_feature_names = np.vectorize(lambda x: column_name_mapping.get(x, x))(encoded_feature_names)"
   ]
  },
  {
   "cell_type": "code",
   "execution_count": 19,
   "id": "bb507cf0",
   "metadata": {},
   "outputs": [],
   "source": [
    "# Convert numpy arrays to pandas dataframes and assign the column names\n",
    "X_train_encoded = pd.DataFrame(X_train_encoded, columns=encoded_feature_names)\n",
    "X_val_encoded = pd.DataFrame(X_val_encoded, columns=encoded_feature_names)\n",
    "X_test_encoded = pd.DataFrame(X_test_encoded, columns=encoded_feature_names)"
   ]
  },
  {
   "cell_type": "code",
   "execution_count": 20,
   "id": "3342aeab",
   "metadata": {},
   "outputs": [],
   "source": [
    "# Assign the index of the new dataframes to match the originial dataframes' index\n",
    "X_train_encoded.index = X_train.index\n",
    "X_val_encoded.index = X_val.index\n",
    "X_test_encoded.index = X_test.index"
   ]
  },
  {
   "cell_type": "markdown",
   "id": "c8972d8f",
   "metadata": {},
   "source": [
    "# Create final data"
   ]
  },
  {
   "cell_type": "code",
   "execution_count": 21,
   "id": "45922ec9",
   "metadata": {},
   "outputs": [],
   "source": [
    "# Store boolean columns\n",
    "boolean_columns = [\"high_floor\", \"new\", \"renovated\", \"view\", \"penthouse\"]"
   ]
  },
  {
   "cell_type": "code",
   "execution_count": 22,
   "id": "c9f11cd4",
   "metadata": {},
   "outputs": [],
   "source": [
    "# Combine scaled numerical features, encoded categorical features, and boolean features\n",
    "X_train_final = pd.concat([X_train_scaled, X_train_encoded, X_train[boolean_columns]], axis=1)\n",
    "X_val_final = pd.concat([X_val_scaled, X_val_encoded, X_val[boolean_columns]], axis=1)\n",
    "X_test_final = pd.concat([X_test_scaled, X_test_encoded, X_test[boolean_columns]], axis=1)\n",
    "\n",
    "# Convert the boolean features from object back to boolean\n",
    "X_train_final[boolean_columns] = X_train_final[boolean_columns].astype(bool)\n",
    "X_val_final[boolean_columns] = X_val_final[boolean_columns].astype(bool)\n",
    "X_test_final[boolean_columns] = X_test_final[boolean_columns].astype(bool)"
   ]
  },
  {
   "cell_type": "markdown",
   "id": "8d5ddc4d",
   "metadata": {},
   "source": [
    "# Model training: Default parameters"
   ]
  },
  {
   "cell_type": "code",
   "execution_count": 32,
   "id": "f2280fcb",
   "metadata": {},
   "outputs": [],
   "source": [
    "from sklearn.metrics import mean_squared_error, mean_absolute_percentage_error, r2_score"
   ]
  },
  {
   "cell_type": "markdown",
   "id": "95387ca6",
   "metadata": {},
   "source": [
    "## Linear regression"
   ]
  },
  {
   "cell_type": "code",
   "execution_count": 24,
   "id": "f8cc2503",
   "metadata": {},
   "outputs": [],
   "source": [
    "from sklearn.linear_model import LinearRegression"
   ]
  },
  {
   "cell_type": "code",
   "execution_count": 34,
   "id": "13529f85",
   "metadata": {},
   "outputs": [
    {
     "name": "stdout",
     "output_type": "stream",
     "text": [
      "RMSE: 6159.61\n",
      "MAPE: 0.35%\n",
      "R-squared (R²): 0.77\n"
     ]
    }
   ],
   "source": [
    "# Initialize a linear regression object\n",
    "reg = LinearRegression()\n",
    "\n",
    "# Fit the model on the training data\n",
    "reg.fit(X_train_final, y_train)\n",
    "\n",
    "# Predict y on the validation data\n",
    "y_val_pred_reg = reg.predict(X_val_final)\n",
    "\n",
    "# Evaluate model performance: RMSE, MAPE, R2 \n",
    "reg_rmse = mean_squared_error(y_val, y_val_pred_reg, squared=False)\n",
    "reg_mape = mean_absolute_percentage_error(y_val, y_val_pred_reg)\n",
    "reg_r2 = r2_score(y_val, y_val_pred_reg)\n",
    "print(f\"RMSE: {reg_rmse:.2f}\")\n",
    "print(f\"MAPE: {reg_mape:.2f}%\")\n",
    "print(f\"R-squared (R²): {reg_r2:.2f}\")"
   ]
  },
  {
   "cell_type": "code",
   "execution_count": 53,
   "id": "8f22ed8f",
   "metadata": {},
   "outputs": [
    {
     "data": {
      "image/png": "[encoded data removed]",
      "text/plain": [
       "<Figure size 640x480 with 1 Axes>"
      ]
     },
     "metadata": {},
     "output_type": "display_data"
    }
   ],
   "source": [
    "# Plot actual vs predicted prices\n",
    "\n",
    "# Create a scatter plot\n",
    "plt.scatter(y_val, y_val_pred_reg)\n",
    "\n",
    "# Add axes labels \n",
    "plt.xlabel(\"Actual Prices\")\n",
    "plt.ylabel(\"Predicted Prices\")\n",
    "\n",
    "# Add diagonal reference line\n",
    "plt.plot([min(y_val), max(y_val)], [min(y_val), max(y_val)], color='red', linestyle='--', linewidth=2, \n",
    "         label=\"Perfect Prediction\")\n",
    "\n",
    "# Add legend\n",
    "plt.legend()\n",
    "\n",
    "# Add title\n",
    "plt.title(\"Scatter Plot of Predicted vs. Actual Prices\")\n",
    "\n",
    "# Add grid\n",
    "plt.grid(True)\n",
    "\n",
    "# Show the plot\n",
    "plt.show()"
   ]
  },
  {
   "cell_type": "markdown",
   "id": "7e6e7dc1",
   "metadata": {},
   "source": [
    "## Support vector machine"
   ]
  },
  {
   "cell_type": "code",
   "execution_count": 26,
   "id": "c238af6c",
   "metadata": {},
   "outputs": [],
   "source": [
    "from sklearn.svm import SVR"
   ]
  },
  {
   "cell_type": "code",
   "execution_count": 35,
   "id": "48c0e351",
   "metadata": {},
   "outputs": [
    {
     "name": "stdout",
     "output_type": "stream",
     "text": [
      "RMSE: 13250.03\n",
      "MAPE: 0.67%\n",
      "R-squared (R²): -0.08\n"
     ]
    }
   ],
   "source": [
    "# Initialize a support vector regression object\n",
    "svm = SVR()\n",
    "\n",
    "# Fit the model on the training data\n",
    "svm.fit(X_train_final, y_train)\n",
    "\n",
    "# Predict y on the validation data\n",
    "y_val_pred_svm = svm.predict(X_val_final)\n",
    "\n",
    "# Evaluate model performance: RMSE, MAPE, R2 \n",
    "svm_rmse = mean_squared_error(y_val, y_val_pred_svm, squared=False)\n",
    "svm_mape = mean_absolute_percentage_error(y_val, y_val_pred_svm)\n",
    "svm_r2 = r2_score(y_val, y_val_pred_svm)\n",
    "print(f\"RMSE: {svm_rmse:.2f}\")\n",
    "print(f\"MAPE: {svm_mape:.2f}%\")\n",
    "print(f\"R-squared (R²): {svm_r2:.2f}\")"
   ]
  },
  {
   "cell_type": "markdown",
   "id": "b7518f66",
   "metadata": {},
   "source": [
    "## Random forest"
   ]
  },
  {
   "cell_type": "code",
   "execution_count": 28,
   "id": "bdce04b7",
   "metadata": {},
   "outputs": [],
   "source": [
    "from sklearn.ensemble import RandomForestRegressor"
   ]
  },
  {
   "cell_type": "code",
   "execution_count": 36,
   "id": "2af2706e",
   "metadata": {},
   "outputs": [
    {
     "name": "stdout",
     "output_type": "stream",
     "text": [
      "RMSE: 5752.24\n",
      "MAPE: 0.17%\n",
      "R-squared (R²): 0.80\n"
     ]
    }
   ],
   "source": [
    "# Initialize a random forest regression object\n",
    "rf = RandomForestRegressor()\n",
    "\n",
    "# Fit the model on the training data\n",
    "rf.fit(X_train_final, y_train)\n",
    "\n",
    "# Predict y on the validation data\n",
    "y_val_pred_rf = rf.predict(X_val_final)\n",
    "\n",
    "# Evaluate model performance: RMSE, MAPE, R2 \n",
    "rf_rmse = mean_squared_error(y_val, y_val_pred_rf, squared=False)\n",
    "rf_mape = mean_absolute_percentage_error(y_val, y_val_pred_rf)\n",
    "rf_r2 = r2_score(y_val, y_val_pred_rf)\n",
    "print(f\"RMSE: {rf_rmse:.2f}\")\n",
    "print(f\"MAPE: {rf_mape:.2f}%\")\n",
    "print(f\"R-squared (R²): {rf_r2:.2f}\")"
   ]
  },
  {
   "cell_type": "markdown",
   "id": "c65f3241",
   "metadata": {},
   "source": [
    "## XGboost"
   ]
  },
  {
   "cell_type": "markdown",
   "id": "f77a2e97",
   "metadata": {},
   "source": [
    "## Neural network"
   ]
  },
  {
   "cell_type": "code",
   "execution_count": 30,
   "id": "bb26f74f",
   "metadata": {},
   "outputs": [],
   "source": [
    "from sklearn.neural_network import MLPRegressor"
   ]
  },
  {
   "cell_type": "code",
   "execution_count": 37,
   "id": "69abf3c0",
   "metadata": {},
   "outputs": [
    {
     "name": "stdout",
     "output_type": "stream",
     "text": [
      "RMSE: 14608.93\n",
      "MAPE: 0.84%\n",
      "R-squared (R²): -0.31\n"
     ]
    },
    {
     "name": "stderr",
     "output_type": "stream",
     "text": [
      "C:\\Users\\Jens\\anaconda3\\lib\\site-packages\\sklearn\\neural_network\\_multilayer_perceptron.py:692: ConvergenceWarning: Stochastic Optimizer: Maximum iterations (200) reached and the optimization hasn't converged yet.\n",
      "  warnings.warn(\n"
     ]
    }
   ],
   "source": [
    "# Initialize a multi-layer perceptron regression object\n",
    "mlp = MLPRegressor()\n",
    "\n",
    "# Fit the model on the training data\n",
    "mlp.fit(X_train_final, y_train)\n",
    "\n",
    "# Predict y on the validation data\n",
    "y_val_pred_mlp = mlp.predict(X_val_final)\n",
    "\n",
    "# Evaluate model performance: RMSE, MAPE, R2 \n",
    "mlp_rmse = mean_squared_error(y_val, y_val_pred_mlp, squared=False)\n",
    "mlp_mape = mean_absolute_percentage_error(y_val, y_val_pred_mlp)\n",
    "mlp_r2 = r2_score(y_val, y_val_pred_mlp)\n",
    "print(f\"RMSE: {mlp_rmse:.2f}\")\n",
    "print(f\"MAPE: {mlp_mape:.2f}%\")\n",
    "print(f\"R-squared (R²): {mlp_r2:.2f}\")"
   ]
  },
  {
   "cell_type": "markdown",
   "id": "04882e63",
   "metadata": {},
   "source": [
    "## Model comparison"
   ]
  },
  {
   "cell_type": "code",
   "execution_count": 40,
   "id": "1aa339e1",
   "metadata": {},
   "outputs": [
    {
     "name": "stdout",
     "output_type": "stream",
     "text": [
      "                    Model      RMSE  MAPE  R-squared (R²)\n",
      "0       Linear Regression   6159.61  0.35            0.77\n",
      "1  Support Vector Machine  13250.03  0.67           -0.08\n",
      "2           Random Forest   5752.24  0.17            0.80\n",
      "3          Neural Network  14608.93  0.84           -0.31\n"
     ]
    }
   ],
   "source": [
    "# Create table to compare model evaluation metrics\n",
    "comparison_table = pd.DataFrame({\n",
    "    \"Model\": [\"Linear Regression\", \"Support Vector Machine\", \"Random Forest\", \"Neural Network\"],\n",
    "    \"RMSE\": [reg_rmse, svm_rmse, rf_rmse, mlp_rmse],\n",
    "    \"MAPE\": [reg_mape, svm_mape, rf_mape, mlp_mape],\n",
    "    \"R-squared (R²)\": [reg_r2, svm_r2, rf_r2, mlp_r2]\n",
    "})\n",
    "\n",
    "# Show the table and round metrics to 2 decimals\n",
    "print(round(comparison_table, 2))"
   ]
  }
 ],
 "metadata": {
  "kernelspec": {
   "display_name": "Python 3 (ipykernel)",
   "language": "python",
   "name": "python3"
  },
  "language_info": {
   "codemirror_mode": {
    "name": "ipython",
    "version": 3
   },
   "file_extension": ".py",
   "mimetype": "text/x-python",
   "name": "python",
   "nbconvert_exporter": "python",
   "pygments_lexer": "ipython3",
   "version": "3.9.13"
  },
  "toc": {
   "base_numbering": 1,
   "nav_menu": {},
   "number_sections": true,
   "sideBar": true,
   "skip_h1_title": false,
   "title_cell": "Table of Contents",
   "title_sidebar": "Contents",
   "toc_cell": false,
   "toc_position": {
    "height": "calc(100% - 180px)",
    "left": "10px",
    "top": "150px",
    "width": "384px"
   },
   "toc_section_display": true,
   "toc_window_display": true
  }
 },
 "nbformat": 4,
 "nbformat_minor": 5
}
