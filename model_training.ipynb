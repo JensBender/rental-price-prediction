{
 "cells": [
  {
   "cell_type": "code",
   "execution_count": 1,
   "id": "d4af17bc",
   "metadata": {},
   "outputs": [],
   "source": [
    "import numpy as np\n",
    "import pandas as pd"
   ]
  },
  {
   "cell_type": "markdown",
   "id": "572c9e5b",
   "metadata": {},
   "source": [
    "# Load data"
   ]
  },
  {
   "cell_type": "code",
   "execution_count": 2,
   "id": "e2124de6",
   "metadata": {},
   "outputs": [],
   "source": [
    "# Read data from csv\n",
    "df = pd.read_csv(\"data/rental_prices_singapore_preprocessed.csv\")"
   ]
  },
  {
   "cell_type": "code",
   "execution_count": 3,
   "id": "7276997f",
   "metadata": {},
   "outputs": [
    {
     "name": "stdout",
     "output_type": "stream",
     "text": [
      "<class 'pandas.core.frame.DataFrame'>\n",
      "RangeIndex: 1576 entries, 0 to 1575\n",
      "Data columns (total 16 columns):\n",
      " #   Column            Non-Null Count  Dtype  \n",
      "---  ------            --------------  -----  \n",
      " 0   price             1576 non-null   int64  \n",
      " 1   size              1576 non-null   int64  \n",
      " 2   bedrooms          1576 non-null   object \n",
      " 3   bathrooms         1576 non-null   int64  \n",
      " 4   latitude          1576 non-null   float64\n",
      " 5   longitude         1576 non-null   float64\n",
      " 6   meters_to_school  1576 non-null   int64  \n",
      " 7   property_type     1576 non-null   object \n",
      " 8   furnishing        1576 non-null   object \n",
      " 9   year              1576 non-null   int64  \n",
      " 10  meters_to_mrt     1576 non-null   int64  \n",
      " 11  high_floor        1576 non-null   bool   \n",
      " 12  new               1576 non-null   bool   \n",
      " 13  renovated         1576 non-null   bool   \n",
      " 14  view              1576 non-null   bool   \n",
      " 15  penthouse         1576 non-null   bool   \n",
      "dtypes: bool(5), float64(2), int64(6), object(3)\n",
      "memory usage: 143.3+ KB\n"
     ]
    }
   ],
   "source": [
    "# Show dataframe info\n",
    "df.info()"
   ]
  },
  {
   "cell_type": "code",
   "execution_count": 4,
   "id": "fe9fa2dc",
   "metadata": {},
   "outputs": [
    {
     "data": {
      "text/html": [
       "<div>\n",
       "<style scoped>\n",
       "    .dataframe tbody tr th:only-of-type {\n",
       "        vertical-align: middle;\n",
       "    }\n",
       "\n",
       "    .dataframe tbody tr th {\n",
       "        vertical-align: top;\n",
       "    }\n",
       "\n",
       "    .dataframe thead th {\n",
       "        text-align: right;\n",
       "    }\n",
       "</style>\n",
       "<table border=\"1\" class=\"dataframe\">\n",
       "  <thead>\n",
       "    <tr style=\"text-align: right;\">\n",
       "      <th></th>\n",
       "      <th>price</th>\n",
       "      <th>size</th>\n",
       "      <th>bedrooms</th>\n",
       "      <th>bathrooms</th>\n",
       "      <th>latitude</th>\n",
       "      <th>longitude</th>\n",
       "      <th>meters_to_school</th>\n",
       "      <th>property_type</th>\n",
       "      <th>furnishing</th>\n",
       "      <th>year</th>\n",
       "      <th>meters_to_mrt</th>\n",
       "      <th>high_floor</th>\n",
       "      <th>new</th>\n",
       "      <th>renovated</th>\n",
       "      <th>view</th>\n",
       "      <th>penthouse</th>\n",
       "    </tr>\n",
       "  </thead>\n",
       "  <tbody>\n",
       "    <tr>\n",
       "      <th>0</th>\n",
       "      <td>3000</td>\n",
       "      <td>400</td>\n",
       "      <td>1</td>\n",
       "      <td>1</td>\n",
       "      <td>1.312952</td>\n",
       "      <td>103.887868</td>\n",
       "      <td>422</td>\n",
       "      <td>Apartment</td>\n",
       "      <td>Fully Furnished</td>\n",
       "      <td>2012</td>\n",
       "      <td>450</td>\n",
       "      <td>False</td>\n",
       "      <td>False</td>\n",
       "      <td>False</td>\n",
       "      <td>False</td>\n",
       "      <td>False</td>\n",
       "    </tr>\n",
       "    <tr>\n",
       "      <th>1</th>\n",
       "      <td>2000</td>\n",
       "      <td>1130</td>\n",
       "      <td>Room</td>\n",
       "      <td>1</td>\n",
       "      <td>1.328820</td>\n",
       "      <td>103.912904</td>\n",
       "      <td>3573</td>\n",
       "      <td>Apartment</td>\n",
       "      <td>Fully Furnished</td>\n",
       "      <td>2012</td>\n",
       "      <td>810</td>\n",
       "      <td>False</td>\n",
       "      <td>False</td>\n",
       "      <td>False</td>\n",
       "      <td>False</td>\n",
       "      <td>False</td>\n",
       "    </tr>\n",
       "    <tr>\n",
       "      <th>2</th>\n",
       "      <td>7400</td>\n",
       "      <td>3800</td>\n",
       "      <td>5</td>\n",
       "      <td>4</td>\n",
       "      <td>1.389444</td>\n",
       "      <td>103.857002</td>\n",
       "      <td>568</td>\n",
       "      <td>Apartment</td>\n",
       "      <td>Fully Furnished</td>\n",
       "      <td>2012</td>\n",
       "      <td>450</td>\n",
       "      <td>False</td>\n",
       "      <td>False</td>\n",
       "      <td>False</td>\n",
       "      <td>False</td>\n",
       "      <td>False</td>\n",
       "    </tr>\n",
       "    <tr>\n",
       "      <th>3</th>\n",
       "      <td>1000</td>\n",
       "      <td>120</td>\n",
       "      <td>Room</td>\n",
       "      <td>1</td>\n",
       "      <td>1.429261</td>\n",
       "      <td>103.828917</td>\n",
       "      <td>1090</td>\n",
       "      <td>Apartment</td>\n",
       "      <td>Fully Furnished</td>\n",
       "      <td>2012</td>\n",
       "      <td>700</td>\n",
       "      <td>False</td>\n",
       "      <td>False</td>\n",
       "      <td>False</td>\n",
       "      <td>False</td>\n",
       "      <td>False</td>\n",
       "    </tr>\n",
       "    <tr>\n",
       "      <th>4</th>\n",
       "      <td>4300</td>\n",
       "      <td>689</td>\n",
       "      <td>1</td>\n",
       "      <td>1</td>\n",
       "      <td>1.297356</td>\n",
       "      <td>103.836707</td>\n",
       "      <td>1262</td>\n",
       "      <td>Apartment</td>\n",
       "      <td>Fully Furnished</td>\n",
       "      <td>2012</td>\n",
       "      <td>420</td>\n",
       "      <td>False</td>\n",
       "      <td>False</td>\n",
       "      <td>False</td>\n",
       "      <td>False</td>\n",
       "      <td>False</td>\n",
       "    </tr>\n",
       "  </tbody>\n",
       "</table>\n",
       "</div>"
      ],
      "text/plain": [
       "   price  size bedrooms  bathrooms  latitude   longitude  meters_to_school  \\\n",
       "0   3000   400        1          1  1.312952  103.887868               422   \n",
       "1   2000  1130     Room          1  1.328820  103.912904              3573   \n",
       "2   7400  3800        5          4  1.389444  103.857002               568   \n",
       "3   1000   120     Room          1  1.429261  103.828917              1090   \n",
       "4   4300   689        1          1  1.297356  103.836707              1262   \n",
       "\n",
       "  property_type       furnishing  year  meters_to_mrt  high_floor    new  \\\n",
       "0     Apartment  Fully Furnished  2012            450       False  False   \n",
       "1     Apartment  Fully Furnished  2012            810       False  False   \n",
       "2     Apartment  Fully Furnished  2012            450       False  False   \n",
       "3     Apartment  Fully Furnished  2012            700       False  False   \n",
       "4     Apartment  Fully Furnished  2012            420       False  False   \n",
       "\n",
       "   renovated   view  penthouse  \n",
       "0      False  False      False  \n",
       "1      False  False      False  \n",
       "2      False  False      False  \n",
       "3      False  False      False  \n",
       "4      False  False      False  "
      ]
     },
     "execution_count": 4,
     "metadata": {},
     "output_type": "execute_result"
    }
   ],
   "source": [
    "# Show top five rows\n",
    "df.head()"
   ]
  },
  {
   "cell_type": "markdown",
   "id": "75aaaf56",
   "metadata": {},
   "source": [
    "# Train-validation-test split"
   ]
  },
  {
   "cell_type": "code",
   "execution_count": 6,
   "id": "3821b975",
   "metadata": {},
   "outputs": [],
   "source": [
    "from sklearn.model_selection import train_test_split"
   ]
  },
  {
   "cell_type": "code",
   "execution_count": 5,
   "id": "b138467b",
   "metadata": {},
   "outputs": [],
   "source": [
    "# Split the data into X features and y target\n",
    "X = df.drop(\"price\", axis=1)\n",
    "y = df[\"price\"]"
   ]
  },
  {
   "cell_type": "code",
   "execution_count": 34,
   "id": "71b07ab6",
   "metadata": {},
   "outputs": [],
   "source": [
    "# Split the data into training and temporary sets (70% train, 30% temporary)\n",
    "X_train, X_temp, y_train, y_temp = train_test_split(X, y, test_size=0.3, random_state=42)\n",
    "\n",
    "# Split the temporary data into validation and test sets (50% each)\n",
    "X_val, X_test, y_val, y_test = train_test_split(X_temp, y_temp, test_size=0.5, random_state=42)"
   ]
  },
  {
   "cell_type": "markdown",
   "id": "d64eb42a",
   "metadata": {},
   "source": [
    "Note: This accomplishes a 70% training, 15% validation and 15% test set size."
   ]
  },
  {
   "cell_type": "markdown",
   "id": "a215a9a8",
   "metadata": {},
   "source": [
    "# Feature scaling"
   ]
  },
  {
   "cell_type": "code",
   "execution_count": 8,
   "id": "698fecfe",
   "metadata": {},
   "outputs": [],
   "source": [
    "from sklearn.preprocessing import StandardScaler"
   ]
  },
  {
   "cell_type": "code",
   "execution_count": 9,
   "id": "45cb7737",
   "metadata": {},
   "outputs": [],
   "source": [
    "# Initialize a StandardScaler object\n",
    "scaler = StandardScaler()"
   ]
  },
  {
   "cell_type": "code",
   "execution_count": 10,
   "id": "2861b2d9",
   "metadata": {},
   "outputs": [],
   "source": [
    "# Store the numerical columns\n",
    "numerical_columns = [\"size\", \"bathrooms\", \"latitude\", \"longitude\", \"meters_to_mrt\", \"meters_to_school\", \"year\"]"
   ]
  },
  {
   "cell_type": "code",
   "execution_count": 11,
   "id": "d26fc40f",
   "metadata": {},
   "outputs": [],
   "source": [
    "# Perform z-score normalization on numerical columns\n",
    "X_train_scaled = scaler.fit_transform(X_train[numerical_columns])\n",
    "X_test_scaled = scaler.transform(X_test[numerical_columns])"
   ]
  },
  {
   "cell_type": "code",
   "execution_count": 12,
   "id": "c59f2868",
   "metadata": {},
   "outputs": [],
   "source": [
    "# Convert numpy arrays to pandas dataframes assigning column names\n",
    "X_train_scaled = pd.DataFrame(X_train_scaled, columns=numerical_columns)\n",
    "X_test_scaled = pd.DataFrame(X_test_scaled, columns=numerical_columns)"
   ]
  },
  {
   "cell_type": "code",
   "execution_count": 13,
   "id": "283441e2",
   "metadata": {},
   "outputs": [],
   "source": [
    "# Assign the index of the new dataframes to match the originial dataframes' index\n",
    "X_train_scaled.index = X_train.index\n",
    "X_test_scaled.index = X_test.index"
   ]
  },
  {
   "cell_type": "markdown",
   "id": "0c038aff",
   "metadata": {},
   "source": [
    "# Feature encoding"
   ]
  },
  {
   "cell_type": "code",
   "execution_count": 14,
   "id": "badc4dbc",
   "metadata": {},
   "outputs": [],
   "source": [
    "from sklearn.preprocessing import OneHotEncoder"
   ]
  },
  {
   "cell_type": "code",
   "execution_count": 15,
   "id": "b08859f8",
   "metadata": {},
   "outputs": [],
   "source": [
    "# Store categorical columns\n",
    "categorical_columns = [\"bedrooms\", \"property_type\", \"furnishing\"]"
   ]
  },
  {
   "cell_type": "code",
   "execution_count": 16,
   "id": "6e080a50",
   "metadata": {},
   "outputs": [],
   "source": [
    "# Initialize a OneHotEncoder object\n",
    "encoder = OneHotEncoder(drop=None, sparse=False)"
   ]
  },
  {
   "cell_type": "code",
   "execution_count": 17,
   "id": "ddc5ae8b",
   "metadata": {},
   "outputs": [],
   "source": [
    "# Perform one-hot encoding on categorical columns\n",
    "X_train_encoded = encoder.fit_transform(X_train[categorical_columns])\n",
    "X_test_encoded = encoder.transform(X_test[categorical_columns])"
   ]
  },
  {
   "cell_type": "code",
   "execution_count": 18,
   "id": "c0f90f93",
   "metadata": {},
   "outputs": [],
   "source": [
    "# Get names of the newly encoded features\n",
    "encoded_feature_names = encoder.get_feature_names_out(input_features=categorical_columns)\n",
    "\n",
    "# Define a mapping dictionary to change names\n",
    "column_name_mapping = {\n",
    "    \"bedrooms_Room\": \"bedrooms_room\",\n",
    "    \"bedrooms_Studio\": \"bedrooms_studio\",\n",
    "    \"property_type_Apartment\": \"type_apartment\",\n",
    "    \"property_type_Cluster House\": \"type_cluster_house\",\n",
    "    \"property_type_Condominium\": \"type_condominium\",\n",
    "    \"property_type_Corner Terrace\": \"type_corner_terrace\",\n",
    "    \"property_type_Detached House\": \"type_detached_house\",\n",
    "    \"property_type_Good Class Bungalow\": \"type_good_class_bungalow\",\n",
    "    \"property_type_HDB Flat\": \"type_hdb_flat\",\n",
    "    \"property_type_Semi-Detached House\": \"type_semi_detached_house\",\n",
    "    \"property_type_Terraced House\": \"type_terraced_house\",\n",
    "    \"furnishing_Fully Furnished\": \"furnishing_full\",\n",
    "    \"furnishing_Partially Furnished\": \"furnishing_partial\",\n",
    "    \"furnishing_Unfurnished\": \"furnishing_none\",\n",
    "}\n",
    "\n",
    "# Rename one-hot encoded features \n",
    "encoded_feature_names = np.vectorize(lambda x: column_name_mapping.get(x, x))(encoded_feature_names)"
   ]
  },
  {
   "cell_type": "code",
   "execution_count": 19,
   "id": "e8ebe725",
   "metadata": {},
   "outputs": [],
   "source": [
    "# Convert numpy arrays to pandas dataframes assigning column names\n",
    "X_train_encoded = pd.DataFrame(X_train_encoded, columns=encoded_feature_names)\n",
    "X_test_encoded = pd.DataFrame(X_test_encoded, columns=encoded_feature_names)"
   ]
  },
  {
   "cell_type": "code",
   "execution_count": 20,
   "id": "72c1601c",
   "metadata": {},
   "outputs": [],
   "source": [
    "# Assign the index of the new dataframes to match the originial dataframes' index\n",
    "X_train_encoded.index = X_train.index\n",
    "X_test_encoded.index = X_test.index"
   ]
  },
  {
   "cell_type": "markdown",
   "id": "4c5119f6",
   "metadata": {},
   "source": [
    "# Create final data"
   ]
  },
  {
   "cell_type": "code",
   "execution_count": 21,
   "id": "30948d5e",
   "metadata": {},
   "outputs": [],
   "source": [
    "# Store boolean columns\n",
    "boolean_columns = [\"high_floor\", \"new\", \"renovated\", \"view\", \"penthouse\"]"
   ]
  },
  {
   "cell_type": "code",
   "execution_count": 22,
   "id": "c1d4457f",
   "metadata": {},
   "outputs": [],
   "source": [
    "# Combine scaled numerical features, encoded categorical features, and boolean features\n",
    "X_train_final = pd.concat([X_train_scaled, X_train_encoded, X_train[boolean_columns]], axis=1)\n",
    "X_test_final = pd.concat([X_test_scaled, X_test_encoded, X_test[boolean_columns]], axis=1)\n",
    "\n",
    "# Convert the boolean features from object to boolean\n",
    "X_train_final[boolean_columns] = X_train_final[boolean_columns].astype(bool)\n",
    "X_test_final[boolean_columns] = X_test_final[boolean_columns].astype(bool)"
   ]
  },
  {
   "cell_type": "markdown",
   "id": "da0d6c96",
   "metadata": {},
   "source": [
    "# Model training: Default parameters"
   ]
  },
  {
   "cell_type": "markdown",
   "id": "9030adbb",
   "metadata": {},
   "source": [
    "## Linear regression"
   ]
  },
  {
   "cell_type": "code",
   "execution_count": 24,
   "id": "ca7a37cf",
   "metadata": {},
   "outputs": [],
   "source": [
    "from sklearn.linear_model import LinearRegression"
   ]
  },
  {
   "cell_type": "code",
   "execution_count": 25,
   "id": "022a2b95",
   "metadata": {},
   "outputs": [],
   "source": [
    "reg = LinearRegression()"
   ]
  },
  {
   "cell_type": "markdown",
   "id": "e674c07e",
   "metadata": {},
   "source": [
    "## Support vector machine"
   ]
  },
  {
   "cell_type": "code",
   "execution_count": 26,
   "id": "d5421a4a",
   "metadata": {},
   "outputs": [],
   "source": [
    "from sklearn.svm import SVR"
   ]
  },
  {
   "cell_type": "code",
   "execution_count": 27,
   "id": "02c5d5ba",
   "metadata": {},
   "outputs": [],
   "source": [
    "svm = SVR()"
   ]
  },
  {
   "cell_type": "markdown",
   "id": "21bfb6df",
   "metadata": {},
   "source": [
    "## Random forest"
   ]
  },
  {
   "cell_type": "code",
   "execution_count": 28,
   "id": "a01b1a7f",
   "metadata": {},
   "outputs": [],
   "source": [
    "from sklearn.ensemble import RandomForestRegressor"
   ]
  },
  {
   "cell_type": "code",
   "execution_count": 31,
   "id": "561b4869",
   "metadata": {},
   "outputs": [],
   "source": [
    "rf = RandomForestRegressor()"
   ]
  },
  {
   "cell_type": "markdown",
   "id": "874279c4",
   "metadata": {},
   "source": [
    "## XGboost"
   ]
  },
  {
   "cell_type": "markdown",
   "id": "862aeb84",
   "metadata": {},
   "source": [
    "## Neural network"
   ]
  },
  {
   "cell_type": "code",
   "execution_count": 32,
   "id": "e89f6e9c",
   "metadata": {},
   "outputs": [],
   "source": [
    "from sklearn.neural_network import MLPRegressor"
   ]
  },
  {
   "cell_type": "code",
   "execution_count": 33,
   "id": "ae01b6f1",
   "metadata": {},
   "outputs": [],
   "source": [
    "mlp = MLPRegressor()"
   ]
  }
 ],
 "metadata": {
  "kernelspec": {
   "display_name": "Python 3 (ipykernel)",
   "language": "python",
   "name": "python3"
  },
  "language_info": {
   "codemirror_mode": {
    "name": "ipython",
    "version": 3
   },
   "file_extension": ".py",
   "mimetype": "text/x-python",
   "name": "python",
   "nbconvert_exporter": "python",
   "pygments_lexer": "ipython3",
   "version": "3.9.13"
  },
  "toc": {
   "base_numbering": 1,
   "nav_menu": {},
   "number_sections": true,
   "sideBar": true,
   "skip_h1_title": false,
   "title_cell": "Table of Contents",
   "title_sidebar": "Contents",
   "toc_cell": false,
   "toc_position": {
    "height": "calc(100% - 180px)",
    "left": "10px",
    "top": "150px",
    "width": "384px"
   },
   "toc_section_display": true,
   "toc_window_display": true
  }
 },
 "nbformat": 4,
 "nbformat_minor": 5
}
