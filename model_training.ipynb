{
 "cells": [
  {
   "cell_type": "code",
   "execution_count": 1,
   "id": "bbb7c5d6",
   "metadata": {},
   "outputs": [],
   "source": [
    "import numpy as np\n",
    "import pandas as pd\n",
    "import matplotlib.pyplot as plt"
   ]
  },
  {
   "cell_type": "markdown",
   "id": "853219bb",
   "metadata": {},
   "source": [
    "# Load data"
   ]
  },
  {
   "cell_type": "code",
   "execution_count": 2,
   "id": "b6c0c06a",
   "metadata": {},
   "outputs": [],
   "source": [
    "# Read data from csv\n",
    "df = pd.read_csv(\"data/rental_prices_singapore_preprocessed.csv\")"
   ]
  },
  {
   "cell_type": "code",
   "execution_count": 3,
   "id": "d1b29510",
   "metadata": {},
   "outputs": [
    {
     "name": "stdout",
     "output_type": "stream",
     "text": [
      "<class 'pandas.core.frame.DataFrame'>\n",
      "RangeIndex: 1680 entries, 0 to 1679\n",
      "Data columns (total 18 columns):\n",
      " #   Column              Non-Null Count  Dtype  \n",
      "---  ------              --------------  -----  \n",
      " 0   price               1680 non-null   int64  \n",
      " 1   size                1680 non-null   int64  \n",
      " 2   bedrooms            1680 non-null   object \n",
      " 3   bathrooms           1680 non-null   int64  \n",
      " 4   latitude            1680 non-null   float64\n",
      " 5   longitude           1680 non-null   float64\n",
      " 6   meters_to_cbd       1680 non-null   int64  \n",
      " 7   meters_to_school    1680 non-null   int64  \n",
      " 8   restaurants_rating  1680 non-null   float64\n",
      " 9   property_type       1680 non-null   object \n",
      " 10  furnishing          1680 non-null   object \n",
      " 11  year                1680 non-null   int64  \n",
      " 12  meters_to_mrt       1680 non-null   int64  \n",
      " 13  high_floor          1680 non-null   bool   \n",
      " 14  new                 1680 non-null   bool   \n",
      " 15  renovated           1680 non-null   bool   \n",
      " 16  view                1680 non-null   bool   \n",
      " 17  penthouse           1680 non-null   bool   \n",
      "dtypes: bool(5), float64(3), int64(7), object(3)\n",
      "memory usage: 179.0+ KB\n"
     ]
    }
   ],
   "source": [
    "# Show dataframe info\n",
    "df.info()"
   ]
  },
  {
   "cell_type": "code",
   "execution_count": 4,
   "id": "cb7013cd",
   "metadata": {},
   "outputs": [
    {
     "data": {
      "text/html": [
       "<div>\n",
       "<style scoped>\n",
       "    .dataframe tbody tr th:only-of-type {\n",
       "        vertical-align: middle;\n",
       "    }\n",
       "\n",
       "    .dataframe tbody tr th {\n",
       "        vertical-align: top;\n",
       "    }\n",
       "\n",
       "    .dataframe thead th {\n",
       "        text-align: right;\n",
       "    }\n",
       "</style>\n",
       "<table border=\"1\" class=\"dataframe\">\n",
       "  <thead>\n",
       "    <tr style=\"text-align: right;\">\n",
       "      <th></th>\n",
       "      <th>price</th>\n",
       "      <th>size</th>\n",
       "      <th>bedrooms</th>\n",
       "      <th>bathrooms</th>\n",
       "      <th>latitude</th>\n",
       "      <th>longitude</th>\n",
       "      <th>meters_to_cbd</th>\n",
       "      <th>meters_to_school</th>\n",
       "      <th>restaurants_rating</th>\n",
       "      <th>property_type</th>\n",
       "      <th>furnishing</th>\n",
       "      <th>year</th>\n",
       "      <th>meters_to_mrt</th>\n",
       "      <th>high_floor</th>\n",
       "      <th>new</th>\n",
       "      <th>renovated</th>\n",
       "      <th>view</th>\n",
       "      <th>penthouse</th>\n",
       "    </tr>\n",
       "  </thead>\n",
       "  <tbody>\n",
       "    <tr>\n",
       "      <th>0</th>\n",
       "      <td>3000</td>\n",
       "      <td>400</td>\n",
       "      <td>1</td>\n",
       "      <td>1</td>\n",
       "      <td>1.312952</td>\n",
       "      <td>103.887868</td>\n",
       "      <td>6744</td>\n",
       "      <td>422</td>\n",
       "      <td>4.126316</td>\n",
       "      <td>Apartment</td>\n",
       "      <td>Fully Furnished</td>\n",
       "      <td>2013</td>\n",
       "      <td>450</td>\n",
       "      <td>False</td>\n",
       "      <td>False</td>\n",
       "      <td>False</td>\n",
       "      <td>False</td>\n",
       "      <td>False</td>\n",
       "    </tr>\n",
       "    <tr>\n",
       "      <th>1</th>\n",
       "      <td>2000</td>\n",
       "      <td>1130</td>\n",
       "      <td>Room</td>\n",
       "      <td>1</td>\n",
       "      <td>1.328820</td>\n",
       "      <td>103.912904</td>\n",
       "      <td>14317</td>\n",
       "      <td>3422</td>\n",
       "      <td>3.800000</td>\n",
       "      <td>Apartment</td>\n",
       "      <td>Fully Furnished</td>\n",
       "      <td>2013</td>\n",
       "      <td>810</td>\n",
       "      <td>False</td>\n",
       "      <td>False</td>\n",
       "      <td>False</td>\n",
       "      <td>False</td>\n",
       "      <td>False</td>\n",
       "    </tr>\n",
       "    <tr>\n",
       "      <th>2</th>\n",
       "      <td>7400</td>\n",
       "      <td>3800</td>\n",
       "      <td>5</td>\n",
       "      <td>4</td>\n",
       "      <td>1.389444</td>\n",
       "      <td>103.857002</td>\n",
       "      <td>15497</td>\n",
       "      <td>568</td>\n",
       "      <td>4.710000</td>\n",
       "      <td>Apartment</td>\n",
       "      <td>Fully Furnished</td>\n",
       "      <td>2013</td>\n",
       "      <td>450</td>\n",
       "      <td>False</td>\n",
       "      <td>False</td>\n",
       "      <td>False</td>\n",
       "      <td>False</td>\n",
       "      <td>False</td>\n",
       "    </tr>\n",
       "    <tr>\n",
       "      <th>3</th>\n",
       "      <td>1000</td>\n",
       "      <td>120</td>\n",
       "      <td>Room</td>\n",
       "      <td>1</td>\n",
       "      <td>1.429261</td>\n",
       "      <td>103.828917</td>\n",
       "      <td>22825</td>\n",
       "      <td>1090</td>\n",
       "      <td>3.605263</td>\n",
       "      <td>Apartment</td>\n",
       "      <td>Fully Furnished</td>\n",
       "      <td>2013</td>\n",
       "      <td>700</td>\n",
       "      <td>False</td>\n",
       "      <td>False</td>\n",
       "      <td>False</td>\n",
       "      <td>False</td>\n",
       "      <td>False</td>\n",
       "    </tr>\n",
       "    <tr>\n",
       "      <th>4</th>\n",
       "      <td>4300</td>\n",
       "      <td>689</td>\n",
       "      <td>1</td>\n",
       "      <td>1</td>\n",
       "      <td>1.297356</td>\n",
       "      <td>103.836707</td>\n",
       "      <td>3070</td>\n",
       "      <td>1262</td>\n",
       "      <td>4.120000</td>\n",
       "      <td>Apartment</td>\n",
       "      <td>Fully Furnished</td>\n",
       "      <td>2013</td>\n",
       "      <td>420</td>\n",
       "      <td>False</td>\n",
       "      <td>False</td>\n",
       "      <td>False</td>\n",
       "      <td>False</td>\n",
       "      <td>False</td>\n",
       "    </tr>\n",
       "  </tbody>\n",
       "</table>\n",
       "</div>"
      ],
      "text/plain": [
       "   price  size bedrooms  bathrooms  latitude   longitude  meters_to_cbd  \\\n",
       "0   3000   400        1          1  1.312952  103.887868           6744   \n",
       "1   2000  1130     Room          1  1.328820  103.912904          14317   \n",
       "2   7400  3800        5          4  1.389444  103.857002          15497   \n",
       "3   1000   120     Room          1  1.429261  103.828917          22825   \n",
       "4   4300   689        1          1  1.297356  103.836707           3070   \n",
       "\n",
       "   meters_to_school  restaurants_rating property_type       furnishing  year  \\\n",
       "0               422            4.126316     Apartment  Fully Furnished  2013   \n",
       "1              3422            3.800000     Apartment  Fully Furnished  2013   \n",
       "2               568            4.710000     Apartment  Fully Furnished  2013   \n",
       "3              1090            3.605263     Apartment  Fully Furnished  2013   \n",
       "4              1262            4.120000     Apartment  Fully Furnished  2013   \n",
       "\n",
       "   meters_to_mrt  high_floor    new  renovated   view  penthouse  \n",
       "0            450       False  False      False  False      False  \n",
       "1            810       False  False      False  False      False  \n",
       "2            450       False  False      False  False      False  \n",
       "3            700       False  False      False  False      False  \n",
       "4            420       False  False      False  False      False  "
      ]
     },
     "execution_count": 4,
     "metadata": {},
     "output_type": "execute_result"
    }
   ],
   "source": [
    "# Show top five rows\n",
    "df.head()"
   ]
  },
  {
   "cell_type": "markdown",
   "id": "bc9e9c3d",
   "metadata": {},
   "source": [
    "# Handle rare categories"
   ]
  },
  {
   "cell_type": "code",
   "execution_count": 5,
   "id": "6277565b",
   "metadata": {},
   "outputs": [
    {
     "data": {
      "text/plain": [
       "3         479\n",
       "2         438\n",
       "1         245\n",
       "4         207\n",
       "Room      135\n",
       "5          89\n",
       "6          39\n",
       "Studio     27\n",
       "7          14\n",
       "8           5\n",
       "9           1\n",
       "10          1\n",
       "Name: bedrooms, dtype: int64"
      ]
     },
     "execution_count": 5,
     "metadata": {},
     "output_type": "execute_result"
    }
   ],
   "source": [
    "# Show category frequencies of bedrooms\n",
    "df[\"bedrooms\"].value_counts()"
   ]
  },
  {
   "cell_type": "code",
   "execution_count": 6,
   "id": "d9bcbdcc",
   "metadata": {},
   "outputs": [],
   "source": [
    "# Combine 7, 8, 9 and 10 bedrooms into one category\n",
    "df[\"bedrooms\"]= df[\"bedrooms\"].replace({\"8\": \"7\", \"9\": \"7\", \"10\": \"7\"})\n",
    "\n",
    "# Rename this category to \"7+\"\n",
    "df[\"bedrooms\"]= df[\"bedrooms\"].replace({\"7\": \"7+\"})"
   ]
  },
  {
   "cell_type": "code",
   "execution_count": 7,
   "id": "5bf37ad9",
   "metadata": {},
   "outputs": [
    {
     "data": {
      "text/plain": [
       "3         479\n",
       "2         438\n",
       "1         245\n",
       "4         207\n",
       "Room      135\n",
       "5          89\n",
       "6          39\n",
       "Studio     27\n",
       "7+         21\n",
       "Name: bedrooms, dtype: int64"
      ]
     },
     "execution_count": 7,
     "metadata": {},
     "output_type": "execute_result"
    }
   ],
   "source": [
    "# Show category frequencies of bedrooms\n",
    "df[\"bedrooms\"].value_counts()"
   ]
  },
  {
   "cell_type": "markdown",
   "id": "f885d9d9",
   "metadata": {},
   "source": [
    "# Train-validation-test split"
   ]
  },
  {
   "cell_type": "code",
   "execution_count": 8,
   "id": "85458230",
   "metadata": {},
   "outputs": [],
   "source": [
    "from sklearn.model_selection import train_test_split"
   ]
  },
  {
   "cell_type": "code",
   "execution_count": 9,
   "id": "635eead2",
   "metadata": {},
   "outputs": [],
   "source": [
    "# Split the data into X features and y target\n",
    "X = df.drop(\"price\", axis=1)\n",
    "y = df[\"price\"]"
   ]
  },
  {
   "cell_type": "code",
   "execution_count": 10,
   "id": "7953e28a",
   "metadata": {},
   "outputs": [],
   "source": [
    "# Split the data into training and temporary sets (70% train, 30% temporary)\n",
    "X_train, X_temp, y_train, y_temp = train_test_split(X, y, test_size=0.3, random_state=42)\n",
    "\n",
    "# Split the temporary data into validation and test sets (50% each)\n",
    "X_val, X_test, y_val, y_test = train_test_split(X_temp, y_temp, test_size=0.5, random_state=42)"
   ]
  },
  {
   "cell_type": "markdown",
   "id": "d0a22e3d",
   "metadata": {},
   "source": [
    "Note: This accomplishes a 70% training, 15% validation and 15% test set size."
   ]
  },
  {
   "cell_type": "markdown",
   "id": "29502e76",
   "metadata": {},
   "source": [
    "# Handle outliers"
   ]
  },
  {
   "cell_type": "markdown",
   "id": "92c8094d",
   "metadata": {},
   "source": [
    "Note: Univariate outliers regarding rental price"
   ]
  },
  {
   "cell_type": "markdown",
   "id": "ee99936f",
   "metadata": {},
   "source": [
    "## 3 SD"
   ]
  },
  {
   "cell_type": "markdown",
   "id": "3f9769bd",
   "metadata": {},
   "source": [
    "Criterion for outliers: 3 standard deviations (SD) above or below the mean "
   ]
  },
  {
   "cell_type": "code",
   "execution_count": 11,
   "id": "77ec1bd3",
   "metadata": {},
   "outputs": [],
   "source": [
    "from sklearn.base import BaseEstimator, TransformerMixin\n",
    "\n",
    "\n",
    "# Create a custom transformer class to handle outliers based on 3 SD\n",
    "class OutlierHandler3SD(BaseEstimator, TransformerMixin):\n",
    "    def fit(self, X, y):\n",
    "        # Calculate mean, standard deviation, and cutoff values of target label (y)\n",
    "        self.mean_ = y.mean()\n",
    "        self.sd_ = y.std()\n",
    "        self.lower_cutoff_ = self.mean_ - 3 * self.sd_\n",
    "        self.upper_cutoff_ = self.mean_ + 3 * self.sd_\n",
    "        print(f\"Lower cutoff: {round(self.lower_cutoff_)} S$/month\")\n",
    "        print(f\"Upper cutoff: {round(self.upper_cutoff_)} S$/month\")\n",
    "        return self\n",
    "\n",
    "    def transform(self, X, y):\n",
    "        # Apply cutoff values\n",
    "        mask = (y >= self.lower_cutoff_) & (y <= self.upper_cutoff_)\n",
    "        # Print number of outliers\n",
    "        print(f\"Rental price outliers based on 3 SD: {y.shape[0] - y[mask].shape[0]}\")\n",
    "        # Return data with outliers removed \n",
    "        return X[mask], y[mask]\n",
    "\n",
    "    def fit_transform(self, X, y):\n",
    "        # Perform both fit and transform \n",
    "        return self.fit(X, y).transform(X, y)"
   ]
  },
  {
   "cell_type": "code",
   "execution_count": 12,
   "id": "064440f0",
   "metadata": {},
   "outputs": [],
   "source": [
    "# Initialize an OutlierHandler3SD object\n",
    "outlier_handler_3sd = OutlierHandler3SD()"
   ]
  },
  {
   "cell_type": "code",
   "execution_count": 13,
   "id": "39074255",
   "metadata": {
    "scrolled": true
   },
   "outputs": [
    {
     "name": "stdout",
     "output_type": "stream",
     "text": [
      "Lower cutoff: -37337 S$/month\n",
      "Upper cutoff: 56094 S$/month\n",
      "Rental price outliers based on 3 SD: 29\n",
      "Rental price outliers based on 3 SD: 2\n",
      "Rental price outliers based on 3 SD: 2\n"
     ]
    }
   ],
   "source": [
    "# Remove outliers in training, validation and test data\n",
    "X_train_no_outliers, y_train_no_outliers = outlier_handler_3sd.fit_transform(X_train, y_train)\n",
    "X_val_no_outliers, y_val_no_outliers = outlier_handler_3sd.transform(X_val, y_val)\n",
    "X_test_no_outliers, y_test_no_outliers = outlier_handler_3sd.transform(X_test, y_test)"
   ]
  },
  {
   "cell_type": "markdown",
   "id": "2b4ef0e8",
   "metadata": {},
   "source": [
    "## 1.5 IQR"
   ]
  },
  {
   "cell_type": "markdown",
   "id": "cada2ae7",
   "metadata": {},
   "source": [
    "Criterion for outliers: 1.5 interquartile ranges (IQR) above the 3. quartile or below the 1. quartile "
   ]
  },
  {
   "cell_type": "code",
   "execution_count": 14,
   "id": "c22b77e8",
   "metadata": {},
   "outputs": [],
   "source": [
    "from sklearn.base import BaseEstimator, TransformerMixin\n",
    "\n",
    "\n",
    "# Create a custom transformer class to handle outliers based on 1.5 IQR\n",
    "class OutlierHandlerIQR(BaseEstimator, TransformerMixin):\n",
    "    def fit(self, X, y):\n",
    "        # Calculate quartiles, IQR and cutoff values of target label (y) \n",
    "        Q1 = y.quantile(0.25)\n",
    "        Q3 = y.quantile(0.75)\n",
    "        IQR = Q3 - Q1\n",
    "        self.lower_cutoff_ = Q1 - 1.5 * IQR\n",
    "        self.upper_cutoff_ = Q3 + 1.5 * IQR\n",
    "        print(f\"Lower cutoff: {round(self.lower_cutoff_)} S$/month\")\n",
    "        print(f\"Upper cutoff: {round(self.upper_cutoff_)} S$/month\")\n",
    "        return self\n",
    "\n",
    "    def transform(self, X, y):\n",
    "        # Apply cutoff values \n",
    "        mask = (y >= self.lower_cutoff_) & (y <= self.upper_cutoff_)\n",
    "        # Print number of outliers\n",
    "        print(f\"Rental price outliers based on 1.5 IQR: {y.shape[0] - y[mask].shape[0]}\")\n",
    "        # Return data with outliers removed \n",
    "        return X[mask], y[mask]\n",
    "\n",
    "    def fit_transform(self, X, y):\n",
    "        # Perform both fit and transform\n",
    "        return self.fit(X, y).transform(X, y)"
   ]
  },
  {
   "cell_type": "code",
   "execution_count": 15,
   "id": "094f766d",
   "metadata": {},
   "outputs": [],
   "source": [
    "# Initialize an OutlierHandlerIQR object\n",
    "outlier_handler_iqr = OutlierHandlerIQR()"
   ]
  },
  {
   "cell_type": "code",
   "execution_count": 16,
   "id": "f17905b5",
   "metadata": {},
   "outputs": [
    {
     "name": "stdout",
     "output_type": "stream",
     "text": [
      "Lower cutoff: -3000 S$/month\n",
      "Upper cutoff: 15400 S$/month\n",
      "Rental price outliers based on 1.5 IQR: 143\n",
      "Rental price outliers based on 1.5 IQR: 35\n",
      "Rental price outliers based on 1.5 IQR: 28\n"
     ]
    }
   ],
   "source": [
    "# Remove outliers in training, validation and test data\n",
    "X_train_no_outliers, y_train_no_outliers = outlier_handler_iqr.fit_transform(X_train, y_train)\n",
    "X_val_no_outliers, y_val_no_outliers = outlier_handler_iqr.transform(X_val, y_val)\n",
    "X_test_no_outliers, y_test_no_outliers = outlier_handler_iqr.transform(X_test, y_test)"
   ]
  },
  {
   "cell_type": "markdown",
   "id": "3a5b6234",
   "metadata": {},
   "source": [
    "# Pipeline"
   ]
  },
  {
   "cell_type": "code",
   "execution_count": 17,
   "id": "3c215d23",
   "metadata": {},
   "outputs": [],
   "source": [
    "from sklearn.pipeline import Pipeline\n",
    "from sklearn.compose import ColumnTransformer\n",
    "from sklearn.preprocessing import OneHotEncoder, StandardScaler\n",
    "from sklearn.linear_model import LinearRegression\n",
    "from sklearn.svm import SVR\n",
    "from sklearn.ensemble import RandomForestRegressor\n",
    "from sklearn.neural_network import MLPRegressor\n",
    "from xgboost import XGBRegressor\n",
    "from sklearn.metrics import mean_squared_error, mean_absolute_percentage_error, r2_score"
   ]
  },
  {
   "cell_type": "code",
   "execution_count": 18,
   "id": "32c46587",
   "metadata": {},
   "outputs": [
    {
     "name": "stdout",
     "output_type": "stream",
     "text": [
      "========================================\n",
      "LinearRegression()\n",
      "OutlierHandler3SD()\n",
      "Lower cutoff: -37337 S$/month\n",
      "Upper cutoff: 56094 S$/month\n",
      "Rental price outliers based on 3 SD: 29\n",
      "Rental price outliers based on 3 SD: 2\n",
      "RMSE: 3896.71\n",
      "MAPE: 0.28\n",
      "R-squared (R²): 0.79\n",
      "========================================\n",
      "SVR()\n",
      "OutlierHandler3SD()\n",
      "Lower cutoff: -37337 S$/month\n",
      "Upper cutoff: 56094 S$/month\n",
      "Rental price outliers based on 3 SD: 29\n",
      "Rental price outliers based on 3 SD: 2\n",
      "RMSE: 9222.27\n",
      "MAPE: 0.67\n",
      "R-squared (R²): -0.16\n",
      "========================================\n",
      "RandomForestRegressor()\n",
      "OutlierHandler3SD()\n",
      "Lower cutoff: -37337 S$/month\n",
      "Upper cutoff: 56094 S$/month\n",
      "Rental price outliers based on 3 SD: 29\n",
      "Rental price outliers based on 3 SD: 2\n",
      "RMSE: 3789.72\n",
      "MAPE: 0.18\n",
      "R-squared (R²): 0.8\n",
      "========================================\n",
      "MLPRegressor()\n",
      "OutlierHandler3SD()\n",
      "Lower cutoff: -37337 S$/month\n",
      "Upper cutoff: 56094 S$/month\n",
      "Rental price outliers based on 3 SD: 29\n",
      "Rental price outliers based on 3 SD: 2\n"
     ]
    },
    {
     "name": "stderr",
     "output_type": "stream",
     "text": [
      "C:\\Users\\Jens\\anaconda3\\lib\\site-packages\\sklearn\\neural_network\\_multilayer_perceptron.py:692: ConvergenceWarning: Stochastic Optimizer: Maximum iterations (200) reached and the optimization hasn't converged yet.\n",
      "  warnings.warn(\n"
     ]
    },
    {
     "name": "stdout",
     "output_type": "stream",
     "text": [
      "RMSE: 10887.41\n",
      "MAPE: 0.85\n",
      "R-squared (R²): -0.62\n",
      "========================================\n",
      "XGBRegressor(base_score=None, booster=None, callbacks=None,\n",
      "             colsample_bylevel=None, colsample_bynode=None,\n",
      "             colsample_bytree=None, early_stopping_rounds=None,\n",
      "             enable_categorical=False, eval_metric=None, feature_types=None,\n",
      "             gamma=None, gpu_id=None, grow_policy=None, importance_type=None,\n",
      "             interaction_constraints=None, learning_rate=None, max_bin=None,\n",
      "             max_cat_threshold=None, max_cat_to_onehot=None,\n",
      "             max_delta_step=None, max_depth=None, max_leaves=None,\n",
      "             min_child_weight=None, missing=nan, monotone_constraints=None,\n",
      "             n_estimators=100, n_jobs=None, num_parallel_tree=None,\n",
      "             predictor=None, random_state=None, ...)\n",
      "OutlierHandler3SD()\n",
      "Lower cutoff: -37337 S$/month\n",
      "Upper cutoff: 56094 S$/month\n",
      "Rental price outliers based on 3 SD: 29\n",
      "Rental price outliers based on 3 SD: 2\n",
      "RMSE: 3655.52\n",
      "MAPE: 0.19\n",
      "R-squared (R²): 0.82\n",
      "========================================\n",
      "LinearRegression()\n",
      "OutlierHandlerIQR()\n",
      "Lower cutoff: -3000 S$/month\n",
      "Upper cutoff: 15400 S$/month\n",
      "Rental price outliers based on 1.5 IQR: 143\n",
      "Rental price outliers based on 1.5 IQR: 35\n",
      "RMSE: 1369.23\n",
      "MAPE: 0.21\n",
      "R-squared (R²): 0.83\n",
      "========================================\n",
      "SVR()\n",
      "OutlierHandlerIQR()\n",
      "Lower cutoff: -3000 S$/month\n",
      "Upper cutoff: 15400 S$/month\n",
      "Rental price outliers based on 1.5 IQR: 143\n",
      "Rental price outliers based on 1.5 IQR: 35\n",
      "RMSE: 3432.62\n",
      "MAPE: 0.61\n",
      "R-squared (R²): -0.08\n",
      "========================================\n",
      "RandomForestRegressor()\n",
      "OutlierHandlerIQR()\n",
      "Lower cutoff: -3000 S$/month\n",
      "Upper cutoff: 15400 S$/month\n",
      "Rental price outliers based on 1.5 IQR: 143\n",
      "Rental price outliers based on 1.5 IQR: 35\n",
      "RMSE: 1101.65\n",
      "MAPE: 0.15\n",
      "R-squared (R²): 0.89\n",
      "========================================\n",
      "MLPRegressor()\n",
      "OutlierHandlerIQR()\n",
      "Lower cutoff: -3000 S$/month\n",
      "Upper cutoff: 15400 S$/month\n",
      "Rental price outliers based on 1.5 IQR: 143\n",
      "Rental price outliers based on 1.5 IQR: 35\n"
     ]
    },
    {
     "name": "stderr",
     "output_type": "stream",
     "text": [
      "C:\\Users\\Jens\\anaconda3\\lib\\site-packages\\sklearn\\neural_network\\_multilayer_perceptron.py:692: ConvergenceWarning: Stochastic Optimizer: Maximum iterations (200) reached and the optimization hasn't converged yet.\n",
      "  warnings.warn(\n"
     ]
    },
    {
     "name": "stdout",
     "output_type": "stream",
     "text": [
      "RMSE: 5510.5\n",
      "MAPE: 0.83\n",
      "R-squared (R²): -1.78\n",
      "========================================\n",
      "XGBRegressor(base_score=None, booster=None, callbacks=None,\n",
      "             colsample_bylevel=None, colsample_bynode=None,\n",
      "             colsample_bytree=None, early_stopping_rounds=None,\n",
      "             enable_categorical=False, eval_metric=None, feature_types=None,\n",
      "             gamma=None, gpu_id=None, grow_policy=None, importance_type=None,\n",
      "             interaction_constraints=None, learning_rate=None, max_bin=None,\n",
      "             max_cat_threshold=None, max_cat_to_onehot=None,\n",
      "             max_delta_step=None, max_depth=None, max_leaves=None,\n",
      "             min_child_weight=None, missing=nan, monotone_constraints=None,\n",
      "             n_estimators=100, n_jobs=None, num_parallel_tree=None,\n",
      "             predictor=None, random_state=None, ...)\n",
      "OutlierHandlerIQR()\n",
      "Lower cutoff: -3000 S$/month\n",
      "Upper cutoff: 15400 S$/month\n",
      "Rental price outliers based on 1.5 IQR: 143\n",
      "Rental price outliers based on 1.5 IQR: 35\n",
      "RMSE: 1153.94\n",
      "MAPE: 0.15\n",
      "R-squared (R²): 0.88\n"
     ]
    }
   ],
   "source": [
    "# Define outlier handlers\n",
    "outlier_handlers = [OutlierHandler3SD(), OutlierHandlerIQR()]\n",
    "\n",
    "# Define models\n",
    "models = [LinearRegression(), SVR(), RandomForestRegressor(), MLPRegressor(), XGBRegressor()]\n",
    "\n",
    "# Define numerical, categorical and boolean columns \n",
    "numerical_columns = [\"size\", \"bathrooms\", \"latitude\", \"longitude\", \"meters_to_mrt\", \"meters_to_cbd\", \n",
    "                     \"meters_to_school\", \"restaurants_rating\", \"year\"]\n",
    "categorical_columns = [\"bedrooms\", \"property_type\", \"furnishing\"]\n",
    "boolean_columns = [\"high_floor\", \"new\", \"renovated\", \"view\", \"penthouse\"]\n",
    "\n",
    "# Create list for storing the predicted values of each model\n",
    "y_val_pred_ls = []\n",
    "\n",
    "# Create list for storing the \n",
    "\n",
    "# Create lists for storing the RMSE, MAPE and R2 of each model \n",
    "rmse_ls = []\n",
    "mape_ls = []\n",
    "r2_ls = []\n",
    "\n",
    "# Loop through each outlier handler\n",
    "for outlier_handler in outlier_handlers:\n",
    "    # Loop through each model\n",
    "    for model in models:\n",
    "        # Print outlier handler and model\n",
    "        print(\"=\" * 40)\n",
    "        print(model)\n",
    "        print(outlier_handler)\n",
    "        \n",
    "        # Remove outliers\n",
    "        X_train_no_outliers, y_train_no_outliers = outlier_handler.fit_transform(X_train, y_train)\n",
    "        X_val_no_outliers, y_val_no_outliers = outlier_handler.transform(X_val, y_val)\n",
    "\n",
    "        # Scale numerical columns and encode categorical columns \n",
    "        column_transformer = ColumnTransformer(\n",
    "            transformers=[\n",
    "                (\"scaler\", StandardScaler(), numerical_columns),\n",
    "                (\"encoder\", OneHotEncoder(drop=None, sparse=False), categorical_columns)\n",
    "            ],\n",
    "            remainder=\"passthrough\"  # Include the boolean columns without transformation\n",
    "        )\n",
    "\n",
    "        # Create a pipeline\n",
    "        pipeline = Pipeline(steps=[\n",
    "            (\"column_transformer\", column_transformer),\n",
    "            (\"model\", model)\n",
    "        ])\n",
    "\n",
    "        # Fit the pipeline on the training data\n",
    "        pipeline.fit(X_train_no_outliers, y_train_no_outliers)\n",
    "        \n",
    "        # Predict on the validation data\n",
    "        y_val_pred = pipeline.predict(X_val_no_outliers)\n",
    "        \n",
    "        # Calculate evaluation metrics: RMSE, MAPE, R2\n",
    "        rmse = mean_squared_error(y_val_no_outliers, y_val_pred, squared=False)\n",
    "        mape = mean_absolute_percentage_error(y_val_no_outliers, y_val_pred)\n",
    "        r2 = r2_score(y_val_no_outliers, y_val_pred)\n",
    "        print(f\"RMSE: {round(rmse, 2)}\")\n",
    "        print(f\"MAPE: {round(mape, 2)}\")\n",
    "        print(f\"R-squared (R²): {round(r2, 2)}\")\n",
    "        \n",
    "        # Add the predicted values, RMSE, MAPE and R2 to their respective lists\n",
    "        y_val_pred_ls.append(y_val_pred)\n",
    "        rmse_ls.append(rmse)\n",
    "        mape_ls.append(mape)\n",
    "        r2_ls.append(r2)"
   ]
  },
  {
   "cell_type": "code",
   "execution_count": 22,
   "id": "9bbb167c",
   "metadata": {},
   "outputs": [
    {
     "name": "stdout",
     "output_type": "stream",
     "text": [
      "Removing outliers based on 3 SD\n",
      "                    Model      RMSE  MAPE  R-squared (R²)\n",
      "0       Linear Regression   3896.71  0.28            0.79\n",
      "1  Support Vector Machine   9222.27  0.67           -0.16\n",
      "2           Random Forest   3789.72  0.18            0.80\n",
      "3          Neural Network  10887.41  0.85           -0.62\n",
      "4                 XGBoost   3655.52  0.19            0.82\n",
      "============================================================\n",
      "Removing outliers based on 1.5 IQR\n",
      "                    Model     RMSE  MAPE  R-squared (R²)\n",
      "0       Linear Regression  1369.23  0.21            0.83\n",
      "1  Support Vector Machine  3432.62  0.61           -0.08\n",
      "2           Random Forest  1101.65  0.15            0.89\n",
      "3          Neural Network  5510.50  0.83           -1.78\n",
      "4                 XGBoost  1153.94  0.15            0.88\n"
     ]
    }
   ],
   "source": [
    "# Comparison table of model metrics\n",
    "# Create table for handling outliers based on 3 SD \n",
    "comparison_table_3sd = pd.DataFrame({\n",
    "    \"Model\": [\"Linear Regression\", \"Support Vector Machine\", \"Random Forest\", \"Neural Network\", \"XGBoost\"],\n",
    "    \"RMSE\": [rmse_ls[0], rmse_ls[1], rmse_ls[2], rmse_ls[3], rmse_ls[4]],\n",
    "    \"MAPE\": [mape_ls[0], mape_ls[1], mape_ls[2], mape_ls[3], mape_ls[4]],\n",
    "    \"R-squared (R²)\": [r2_ls[0], r2_ls[1], r2_ls[2], r2_ls[3], r2_ls[4]]\n",
    "})\n",
    "\n",
    "# Create table for handling outliers based on 1.5 IQR \n",
    "comparison_table_iqr = pd.DataFrame({\n",
    "    \"Model\": [\"Linear Regression\", \"Support Vector Machine\", \"Random Forest\", \"Neural Network\", \"XGBoost\"],\n",
    "    \"RMSE\": [rmse_ls[5], rmse_ls[6], rmse_ls[7], rmse_ls[8], rmse_ls[9]],\n",
    "    \"MAPE\": [mape_ls[5], mape_ls[6], mape_ls[7], mape_ls[8], mape_ls[9]],\n",
    "    \"R-squared (R²)\": [r2_ls[5], r2_ls[6], r2_ls[7], r2_ls[8], r2_ls[9]]\n",
    "})\n",
    "\n",
    "# Show model comparison table\n",
    "print(\"Removing outliers based on 3 SD\")\n",
    "print(round(comparison_table_3sd, 2))\n",
    "print(\"=\" * 60)\n",
    "print(\"Removing outliers based on 1.5 IQR\")\n",
    "print(round(comparison_table_iqr, 2))"
   ]
  },
  {
   "cell_type": "code",
   "execution_count": null,
   "id": "c49e990c",
   "metadata": {},
   "outputs": [],
   "source": [
    "# Plots to evaluate model performance\n",
    "# Create a dictionary of models with their predicted y values on the validation set\n",
    "model_dict = {\n",
    "    \"Linear Regression\": y_val_pred_reg, \n",
    "    \"Support Vector Machine\": y_val_pred_svm, \n",
    "    \"Random Forest\": y_val_pred_rf, \n",
    "    \"Neural Network\": y_val_pred_mlp,\n",
    "    \"XGBoost\": y_val_pred_xgb\n",
    "}\n",
    "\n",
    "# Iterate the models\n",
    "for model, y_val_pred in model_dict.items():\n",
    "    # Print model name\n",
    "    print(model)\n",
    "    \n",
    "    # Calculate residuals\n",
    "    residuals = [actual_value - predicted_value for actual_value, predicted_value in zip(y_val, y_val_pred)]\n",
    "\n",
    "    # Create a 1x2 grid of subplots\n",
    "    fig, axes = plt.subplots(1, 2, figsize=(12, 5), dpi=150)\n",
    "\n",
    "    # Plot 1: Predicted vs. Actual Prices\n",
    "    axes[0].scatter(y_val, y_val_pred)\n",
    "    axes[0].plot([min(y_val), max(y_val)], [min(y_val), max(y_val)], color=\"red\", linestyle=\"--\", \n",
    "                 label=\"Perfect Prediction\")  # Add diagonal reference line\n",
    "    axes[0].set_xlabel(\"Actual Prices\")\n",
    "    axes[0].set_ylabel(\"Predicted Prices\")\n",
    "    axes[0].set_title(\"Predicted vs. Actual Prices\")\n",
    "    axes[0].grid(True)\n",
    "    axes[0].legend() \n",
    "\n",
    "    # Plot 2: Residuals vs. Actual Prices\n",
    "    axes[1].scatter(y_val, residuals)\n",
    "    axes[1].axhline(y=0, color=\"red\", linestyle=\"--\", label=\"Perfect Prediction\")  # Add horizontal reference line\n",
    "    axes[1].set_xlabel(\"Actual Prices\")\n",
    "    axes[1].set_ylabel(\"Residuals\")\n",
    "    axes[1].set_title(\"Residuals vs. Actual Prices\")\n",
    "    axes[1].grid(True)\n",
    "    axes[1].legend() \n",
    "\n",
    "    # Adjust layout and display the plots\n",
    "    plt.tight_layout()\n",
    "    plt.show()"
   ]
  }
 ],
 "metadata": {
  "kernelspec": {
   "display_name": "Python 3 (ipykernel)",
   "language": "python",
   "name": "python3"
  },
  "language_info": {
   "codemirror_mode": {
    "name": "ipython",
    "version": 3
   },
   "file_extension": ".py",
   "mimetype": "text/x-python",
   "name": "python",
   "nbconvert_exporter": "python",
   "pygments_lexer": "ipython3",
   "version": "3.9.13"
  },
  "toc": {
   "base_numbering": 1,
   "nav_menu": {},
   "number_sections": true,
   "sideBar": true,
   "skip_h1_title": false,
   "title_cell": "Table of Contents",
   "title_sidebar": "Contents",
   "toc_cell": false,
   "toc_position": {
    "height": "775px",
    "left": "28px",
    "top": "191px",
    "width": "384px"
   },
   "toc_section_display": true,
   "toc_window_display": true
  }
 },
 "nbformat": 4,
 "nbformat_minor": 5
}
